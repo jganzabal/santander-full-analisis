{
 "cells": [
  {
   "cell_type": "code",
   "execution_count": 1,
   "metadata": {},
   "outputs": [],
   "source": [
    "import numpy as np\n",
    "import pandas as pd"
   ]
  },
  {
   "cell_type": "code",
   "execution_count": 2,
   "metadata": {},
   "outputs": [],
   "source": [
    "np.random.seed(42)"
   ]
  },
  {
   "cell_type": "code",
   "execution_count": 3,
   "metadata": {},
   "outputs": [],
   "source": [
    "df = pd.read_csv('data/train.csv')"
   ]
  },
  {
   "cell_type": "code",
   "execution_count": 4,
   "metadata": {},
   "outputs": [],
   "source": [
    "indexes = np.arange(len(df))\n",
    "np.random.shuffle(indexes)"
   ]
  },
  {
   "cell_type": "code",
   "execution_count": 5,
   "metadata": {},
   "outputs": [],
   "source": [
    "X_train = df.loc[indexes][:160000]\n",
    "X_valid = df.loc[indexes][160000:]"
   ]
  },
  {
   "cell_type": "code",
   "execution_count": 6,
   "metadata": {},
   "outputs": [],
   "source": [
    "# X_train = df[:160000]\n",
    "# X_valid = df[160000:]"
   ]
  },
  {
   "cell_type": "code",
   "execution_count": 7,
   "metadata": {},
   "outputs": [
    {
     "data": {
      "text/plain": [
       "((160000, 202), (40000, 202))"
      ]
     },
     "execution_count": 7,
     "metadata": {},
     "output_type": "execute_result"
    }
   ],
   "source": [
    "X_train.shape, X_valid.shape"
   ]
  },
  {
   "cell_type": "code",
   "execution_count": 8,
   "metadata": {},
   "outputs": [],
   "source": [
    "X_train.to_csv('data/train_splitted.csv', index_label=False)\n",
    "X_valid.to_csv('data/valid_splitted.csv', index_label=False)"
   ]
  },
  {
   "cell_type": "code",
   "execution_count": 10,
   "metadata": {},
   "outputs": [
    {
     "data": {
      "text/html": [
       "<div>\n",
       "<style scoped>\n",
       "    .dataframe tbody tr th:only-of-type {\n",
       "        vertical-align: middle;\n",
       "    }\n",
       "\n",
       "    .dataframe tbody tr th {\n",
       "        vertical-align: top;\n",
       "    }\n",
       "\n",
       "    .dataframe thead th {\n",
       "        text-align: right;\n",
       "    }\n",
       "</style>\n",
       "<table border=\"1\" class=\"dataframe\">\n",
       "  <thead>\n",
       "    <tr style=\"text-align: right;\">\n",
       "      <th></th>\n",
       "      <th>ID_code</th>\n",
       "      <th>target</th>\n",
       "      <th>var_0</th>\n",
       "      <th>var_1</th>\n",
       "      <th>var_2</th>\n",
       "      <th>var_3</th>\n",
       "      <th>var_4</th>\n",
       "      <th>var_5</th>\n",
       "      <th>var_6</th>\n",
       "      <th>var_7</th>\n",
       "      <th>...</th>\n",
       "      <th>var_190</th>\n",
       "      <th>var_191</th>\n",
       "      <th>var_192</th>\n",
       "      <th>var_193</th>\n",
       "      <th>var_194</th>\n",
       "      <th>var_195</th>\n",
       "      <th>var_196</th>\n",
       "      <th>var_197</th>\n",
       "      <th>var_198</th>\n",
       "      <th>var_199</th>\n",
       "    </tr>\n",
       "  </thead>\n",
       "  <tbody>\n",
       "    <tr>\n",
       "      <th>119737</th>\n",
       "      <td>train_119737</td>\n",
       "      <td>0</td>\n",
       "      <td>11.0038</td>\n",
       "      <td>-4.5026</td>\n",
       "      <td>9.0662</td>\n",
       "      <td>6.4313</td>\n",
       "      <td>10.7061</td>\n",
       "      <td>-15.2857</td>\n",
       "      <td>5.1233</td>\n",
       "      <td>16.7875</td>\n",
       "      <td>...</td>\n",
       "      <td>-0.8200</td>\n",
       "      <td>3.3085</td>\n",
       "      <td>3.1358</td>\n",
       "      <td>5.0959</td>\n",
       "      <td>19.7160</td>\n",
       "      <td>-0.1801</td>\n",
       "      <td>5.8437</td>\n",
       "      <td>8.8348</td>\n",
       "      <td>17.0461</td>\n",
       "      <td>8.8190</td>\n",
       "    </tr>\n",
       "    <tr>\n",
       "      <th>72272</th>\n",
       "      <td>train_72272</td>\n",
       "      <td>0</td>\n",
       "      <td>12.8473</td>\n",
       "      <td>-6.1848</td>\n",
       "      <td>6.8799</td>\n",
       "      <td>2.0164</td>\n",
       "      <td>12.7998</td>\n",
       "      <td>10.2781</td>\n",
       "      <td>4.4191</td>\n",
       "      <td>15.6940</td>\n",
       "      <td>...</td>\n",
       "      <td>1.1516</td>\n",
       "      <td>3.9019</td>\n",
       "      <td>4.6616</td>\n",
       "      <td>7.6035</td>\n",
       "      <td>12.6402</td>\n",
       "      <td>-0.3037</td>\n",
       "      <td>-4.2330</td>\n",
       "      <td>9.7456</td>\n",
       "      <td>14.8337</td>\n",
       "      <td>-3.7167</td>\n",
       "    </tr>\n",
       "    <tr>\n",
       "      <th>158154</th>\n",
       "      <td>train_158154</td>\n",
       "      <td>0</td>\n",
       "      <td>13.1827</td>\n",
       "      <td>-0.8344</td>\n",
       "      <td>13.4689</td>\n",
       "      <td>3.9060</td>\n",
       "      <td>13.5984</td>\n",
       "      <td>4.6475</td>\n",
       "      <td>5.9659</td>\n",
       "      <td>24.0557</td>\n",
       "      <td>...</td>\n",
       "      <td>2.8737</td>\n",
       "      <td>5.8939</td>\n",
       "      <td>0.8525</td>\n",
       "      <td>8.7406</td>\n",
       "      <td>16.6641</td>\n",
       "      <td>0.8745</td>\n",
       "      <td>7.0406</td>\n",
       "      <td>8.6424</td>\n",
       "      <td>20.7107</td>\n",
       "      <td>-5.4186</td>\n",
       "    </tr>\n",
       "    <tr>\n",
       "      <th>65426</th>\n",
       "      <td>train_65426</td>\n",
       "      <td>0</td>\n",
       "      <td>8.2132</td>\n",
       "      <td>1.2309</td>\n",
       "      <td>11.1464</td>\n",
       "      <td>9.4524</td>\n",
       "      <td>10.2142</td>\n",
       "      <td>4.0416</td>\n",
       "      <td>5.3989</td>\n",
       "      <td>20.4527</td>\n",
       "      <td>...</td>\n",
       "      <td>6.4752</td>\n",
       "      <td>5.7442</td>\n",
       "      <td>2.1907</td>\n",
       "      <td>6.0651</td>\n",
       "      <td>10.9444</td>\n",
       "      <td>-2.0666</td>\n",
       "      <td>-7.9209</td>\n",
       "      <td>9.0522</td>\n",
       "      <td>17.1735</td>\n",
       "      <td>12.4656</td>\n",
       "    </tr>\n",
       "    <tr>\n",
       "      <th>30074</th>\n",
       "      <td>train_30074</td>\n",
       "      <td>1</td>\n",
       "      <td>5.5681</td>\n",
       "      <td>4.6355</td>\n",
       "      <td>15.2350</td>\n",
       "      <td>3.0718</td>\n",
       "      <td>11.8178</td>\n",
       "      <td>-15.0502</td>\n",
       "      <td>3.8357</td>\n",
       "      <td>12.0169</td>\n",
       "      <td>...</td>\n",
       "      <td>4.1796</td>\n",
       "      <td>5.6113</td>\n",
       "      <td>-0.1561</td>\n",
       "      <td>3.1010</td>\n",
       "      <td>17.4297</td>\n",
       "      <td>-1.0121</td>\n",
       "      <td>-6.5168</td>\n",
       "      <td>7.9772</td>\n",
       "      <td>18.5248</td>\n",
       "      <td>11.2771</td>\n",
       "    </tr>\n",
       "  </tbody>\n",
       "</table>\n",
       "<p>5 rows × 202 columns</p>\n",
       "</div>"
      ],
      "text/plain": [
       "             ID_code  target    var_0   var_1    var_2   var_3    var_4  \\\n",
       "119737  train_119737       0  11.0038 -4.5026   9.0662  6.4313  10.7061   \n",
       "72272    train_72272       0  12.8473 -6.1848   6.8799  2.0164  12.7998   \n",
       "158154  train_158154       0  13.1827 -0.8344  13.4689  3.9060  13.5984   \n",
       "65426    train_65426       0   8.2132  1.2309  11.1464  9.4524  10.2142   \n",
       "30074    train_30074       1   5.5681  4.6355  15.2350  3.0718  11.8178   \n",
       "\n",
       "          var_5   var_6    var_7  ...  var_190  var_191  var_192  var_193  \\\n",
       "119737 -15.2857  5.1233  16.7875  ...  -0.8200   3.3085   3.1358   5.0959   \n",
       "72272   10.2781  4.4191  15.6940  ...   1.1516   3.9019   4.6616   7.6035   \n",
       "158154   4.6475  5.9659  24.0557  ...   2.8737   5.8939   0.8525   8.7406   \n",
       "65426    4.0416  5.3989  20.4527  ...   6.4752   5.7442   2.1907   6.0651   \n",
       "30074  -15.0502  3.8357  12.0169  ...   4.1796   5.6113  -0.1561   3.1010   \n",
       "\n",
       "        var_194  var_195  var_196  var_197  var_198  var_199  \n",
       "119737  19.7160  -0.1801   5.8437   8.8348  17.0461   8.8190  \n",
       "72272   12.6402  -0.3037  -4.2330   9.7456  14.8337  -3.7167  \n",
       "158154  16.6641   0.8745   7.0406   8.6424  20.7107  -5.4186  \n",
       "65426   10.9444  -2.0666  -7.9209   9.0522  17.1735  12.4656  \n",
       "30074   17.4297  -1.0121  -6.5168   7.9772  18.5248  11.2771  \n",
       "\n",
       "[5 rows x 202 columns]"
      ]
     },
     "execution_count": 10,
     "metadata": {},
     "output_type": "execute_result"
    }
   ],
   "source": [
    "X_train.head()"
   ]
  },
  {
   "cell_type": "code",
   "execution_count": null,
   "metadata": {},
   "outputs": [],
   "source": []
  }
 ],
 "metadata": {
  "kernelspec": {
   "display_name": "Python 3",
   "language": "python",
   "name": "python3"
  },
  "language_info": {
   "codemirror_mode": {
    "name": "ipython",
    "version": 3
   },
   "file_extension": ".py",
   "mimetype": "text/x-python",
   "name": "python",
   "nbconvert_exporter": "python",
   "pygments_lexer": "ipython3",
   "version": "3.6.8"
  }
 },
 "nbformat": 4,
 "nbformat_minor": 2
}
