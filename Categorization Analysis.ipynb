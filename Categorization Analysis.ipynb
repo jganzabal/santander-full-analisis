{
 "cells": [
  {
   "cell_type": "code",
   "execution_count": 1,
   "metadata": {},
   "outputs": [],
   "source": [
    "%load_ext autoreload\n",
    "%autoreload 2\n",
    "%config InlineBackend.figure_format='retina'\n",
    "%matplotlib inline"
   ]
  },
  {
   "cell_type": "code",
   "execution_count": 2,
   "metadata": {},
   "outputs": [],
   "source": [
    "import pandas as pd\n",
    "import numpy as np\n",
    "from pathlib import Path\n",
    "from tqdm import tqdm, trange"
   ]
  },
  {
   "cell_type": "code",
   "execution_count": 3,
   "metadata": {},
   "outputs": [],
   "source": [
    "datapath = Path('data')"
   ]
  },
  {
   "cell_type": "code",
   "execution_count": 4,
   "metadata": {},
   "outputs": [],
   "source": [
    "df_train = pd.read_csv(datapath / 'train.csv')\n",
    "df_train.head()\n",
    "y_train = df_train['target']"
   ]
  },
  {
   "cell_type": "code",
   "execution_count": 5,
   "metadata": {},
   "outputs": [
    {
     "data": {
      "text/html": [
       "<div>\n",
       "<style scoped>\n",
       "    .dataframe tbody tr th:only-of-type {\n",
       "        vertical-align: middle;\n",
       "    }\n",
       "\n",
       "    .dataframe tbody tr th {\n",
       "        vertical-align: top;\n",
       "    }\n",
       "\n",
       "    .dataframe thead th {\n",
       "        text-align: right;\n",
       "    }\n",
       "</style>\n",
       "<table border=\"1\" class=\"dataframe\">\n",
       "  <thead>\n",
       "    <tr style=\"text-align: right;\">\n",
       "      <th></th>\n",
       "      <th>ID_code</th>\n",
       "      <th>var_0</th>\n",
       "      <th>var_1</th>\n",
       "      <th>var_2</th>\n",
       "      <th>var_3</th>\n",
       "      <th>var_4</th>\n",
       "      <th>var_5</th>\n",
       "      <th>var_6</th>\n",
       "      <th>var_7</th>\n",
       "      <th>var_8</th>\n",
       "      <th>...</th>\n",
       "      <th>var_190</th>\n",
       "      <th>var_191</th>\n",
       "      <th>var_192</th>\n",
       "      <th>var_193</th>\n",
       "      <th>var_194</th>\n",
       "      <th>var_195</th>\n",
       "      <th>var_196</th>\n",
       "      <th>var_197</th>\n",
       "      <th>var_198</th>\n",
       "      <th>var_199</th>\n",
       "    </tr>\n",
       "  </thead>\n",
       "  <tbody>\n",
       "    <tr>\n",
       "      <th>0</th>\n",
       "      <td>test_0</td>\n",
       "      <td>11.0656</td>\n",
       "      <td>7.7798</td>\n",
       "      <td>12.9536</td>\n",
       "      <td>9.4292</td>\n",
       "      <td>11.4327</td>\n",
       "      <td>-2.3805</td>\n",
       "      <td>5.8493</td>\n",
       "      <td>18.2675</td>\n",
       "      <td>2.1337</td>\n",
       "      <td>...</td>\n",
       "      <td>-2.1556</td>\n",
       "      <td>11.8495</td>\n",
       "      <td>-1.4300</td>\n",
       "      <td>2.4508</td>\n",
       "      <td>13.7112</td>\n",
       "      <td>2.4669</td>\n",
       "      <td>4.3654</td>\n",
       "      <td>10.7200</td>\n",
       "      <td>15.4722</td>\n",
       "      <td>-8.7197</td>\n",
       "    </tr>\n",
       "    <tr>\n",
       "      <th>1</th>\n",
       "      <td>test_1</td>\n",
       "      <td>8.5304</td>\n",
       "      <td>1.2543</td>\n",
       "      <td>11.3047</td>\n",
       "      <td>5.1858</td>\n",
       "      <td>9.1974</td>\n",
       "      <td>-4.0117</td>\n",
       "      <td>6.0196</td>\n",
       "      <td>18.6316</td>\n",
       "      <td>-4.4131</td>\n",
       "      <td>...</td>\n",
       "      <td>10.6165</td>\n",
       "      <td>8.8349</td>\n",
       "      <td>0.9403</td>\n",
       "      <td>10.1282</td>\n",
       "      <td>15.5765</td>\n",
       "      <td>0.4773</td>\n",
       "      <td>-1.4852</td>\n",
       "      <td>9.8714</td>\n",
       "      <td>19.1293</td>\n",
       "      <td>-20.9760</td>\n",
       "    </tr>\n",
       "    <tr>\n",
       "      <th>2</th>\n",
       "      <td>test_2</td>\n",
       "      <td>5.4827</td>\n",
       "      <td>-10.3581</td>\n",
       "      <td>10.1407</td>\n",
       "      <td>7.0479</td>\n",
       "      <td>10.2628</td>\n",
       "      <td>9.8052</td>\n",
       "      <td>4.8950</td>\n",
       "      <td>20.2537</td>\n",
       "      <td>1.5233</td>\n",
       "      <td>...</td>\n",
       "      <td>-0.7484</td>\n",
       "      <td>10.9935</td>\n",
       "      <td>1.9803</td>\n",
       "      <td>2.1800</td>\n",
       "      <td>12.9813</td>\n",
       "      <td>2.1281</td>\n",
       "      <td>-7.1086</td>\n",
       "      <td>7.0618</td>\n",
       "      <td>19.8956</td>\n",
       "      <td>-23.1794</td>\n",
       "    </tr>\n",
       "    <tr>\n",
       "      <th>3</th>\n",
       "      <td>test_3</td>\n",
       "      <td>8.5374</td>\n",
       "      <td>-1.3222</td>\n",
       "      <td>12.0220</td>\n",
       "      <td>6.5749</td>\n",
       "      <td>8.8458</td>\n",
       "      <td>3.1744</td>\n",
       "      <td>4.9397</td>\n",
       "      <td>20.5660</td>\n",
       "      <td>3.3755</td>\n",
       "      <td>...</td>\n",
       "      <td>9.5702</td>\n",
       "      <td>9.0766</td>\n",
       "      <td>1.6580</td>\n",
       "      <td>3.5813</td>\n",
       "      <td>15.1874</td>\n",
       "      <td>3.1656</td>\n",
       "      <td>3.9567</td>\n",
       "      <td>9.2295</td>\n",
       "      <td>13.0168</td>\n",
       "      <td>-4.2108</td>\n",
       "    </tr>\n",
       "    <tr>\n",
       "      <th>4</th>\n",
       "      <td>test_4</td>\n",
       "      <td>11.7058</td>\n",
       "      <td>-0.1327</td>\n",
       "      <td>14.1295</td>\n",
       "      <td>7.7506</td>\n",
       "      <td>9.1035</td>\n",
       "      <td>-8.5848</td>\n",
       "      <td>6.8595</td>\n",
       "      <td>10.6048</td>\n",
       "      <td>2.9890</td>\n",
       "      <td>...</td>\n",
       "      <td>4.2259</td>\n",
       "      <td>9.1723</td>\n",
       "      <td>1.2835</td>\n",
       "      <td>3.3778</td>\n",
       "      <td>19.5542</td>\n",
       "      <td>-0.2860</td>\n",
       "      <td>-5.1612</td>\n",
       "      <td>7.2882</td>\n",
       "      <td>13.9260</td>\n",
       "      <td>-9.1846</td>\n",
       "    </tr>\n",
       "  </tbody>\n",
       "</table>\n",
       "<p>5 rows × 201 columns</p>\n",
       "</div>"
      ],
      "text/plain": [
       "  ID_code    var_0    var_1    var_2   var_3    var_4   var_5   var_6  \\\n",
       "0  test_0  11.0656   7.7798  12.9536  9.4292  11.4327 -2.3805  5.8493   \n",
       "1  test_1   8.5304   1.2543  11.3047  5.1858   9.1974 -4.0117  6.0196   \n",
       "2  test_2   5.4827 -10.3581  10.1407  7.0479  10.2628  9.8052  4.8950   \n",
       "3  test_3   8.5374  -1.3222  12.0220  6.5749   8.8458  3.1744  4.9397   \n",
       "4  test_4  11.7058  -0.1327  14.1295  7.7506   9.1035 -8.5848  6.8595   \n",
       "\n",
       "     var_7   var_8  ...  var_190  var_191  var_192  var_193  var_194  var_195  \\\n",
       "0  18.2675  2.1337  ...  -2.1556  11.8495  -1.4300   2.4508  13.7112   2.4669   \n",
       "1  18.6316 -4.4131  ...  10.6165   8.8349   0.9403  10.1282  15.5765   0.4773   \n",
       "2  20.2537  1.5233  ...  -0.7484  10.9935   1.9803   2.1800  12.9813   2.1281   \n",
       "3  20.5660  3.3755  ...   9.5702   9.0766   1.6580   3.5813  15.1874   3.1656   \n",
       "4  10.6048  2.9890  ...   4.2259   9.1723   1.2835   3.3778  19.5542  -0.2860   \n",
       "\n",
       "   var_196  var_197  var_198  var_199  \n",
       "0   4.3654  10.7200  15.4722  -8.7197  \n",
       "1  -1.4852   9.8714  19.1293 -20.9760  \n",
       "2  -7.1086   7.0618  19.8956 -23.1794  \n",
       "3   3.9567   9.2295  13.0168  -4.2108  \n",
       "4  -5.1612   7.2882  13.9260  -9.1846  \n",
       "\n",
       "[5 rows x 201 columns]"
      ]
     },
     "execution_count": 5,
     "metadata": {},
     "output_type": "execute_result"
    }
   ],
   "source": [
    "df_test = pd.read_csv(datapath / 'test.csv')\n",
    "df_test.head()"
   ]
  },
  {
   "cell_type": "code",
   "execution_count": 6,
   "metadata": {},
   "outputs": [],
   "source": [
    "def dedup_test(df_test):\n",
    "    unique_samples = []\n",
    "    unique_count = np.zeros_like(df_test)\n",
    "    for feature in range(df_test.shape[1]):\n",
    "        _, index_, count_ = np.unique(df_test[:, feature], return_counts=True, return_index=True)\n",
    "        unique_count[index_[count_ == 1], feature] += 1\n",
    "\n",
    "    # Samples which have unique values are real the others are fake\n",
    "    real_samples_indexes = np.argwhere(np.sum(unique_count, axis=1) > 0)[:, 0]\n",
    "#     synthetic_samples_indexes = np.argwhere(np.sum(unique_count, axis=1) == 0)[:, 0]\n",
    "    return df_test[real_samples_indexes]"
   ]
  },
  {
   "cell_type": "code",
   "execution_count": 7,
   "metadata": {},
   "outputs": [],
   "source": [
    "deduped_test = dedup_test(df_test.drop(columns=['ID_code']).values)"
   ]
  },
  {
   "cell_type": "code",
   "execution_count": 8,
   "metadata": {},
   "outputs": [
    {
     "data": {
      "text/html": [
       "<div>\n",
       "<style scoped>\n",
       "    .dataframe tbody tr th:only-of-type {\n",
       "        vertical-align: middle;\n",
       "    }\n",
       "\n",
       "    .dataframe tbody tr th {\n",
       "        vertical-align: top;\n",
       "    }\n",
       "\n",
       "    .dataframe thead th {\n",
       "        text-align: right;\n",
       "    }\n",
       "</style>\n",
       "<table border=\"1\" class=\"dataframe\">\n",
       "  <thead>\n",
       "    <tr style=\"text-align: right;\">\n",
       "      <th></th>\n",
       "      <th>var_0</th>\n",
       "      <th>var_1</th>\n",
       "      <th>var_2</th>\n",
       "      <th>var_3</th>\n",
       "      <th>var_4</th>\n",
       "      <th>var_5</th>\n",
       "      <th>var_6</th>\n",
       "      <th>var_7</th>\n",
       "      <th>var_8</th>\n",
       "      <th>var_9</th>\n",
       "      <th>...</th>\n",
       "      <th>var_190</th>\n",
       "      <th>var_191</th>\n",
       "      <th>var_192</th>\n",
       "      <th>var_193</th>\n",
       "      <th>var_194</th>\n",
       "      <th>var_195</th>\n",
       "      <th>var_196</th>\n",
       "      <th>var_197</th>\n",
       "      <th>var_198</th>\n",
       "      <th>var_199</th>\n",
       "    </tr>\n",
       "  </thead>\n",
       "  <tbody>\n",
       "    <tr>\n",
       "      <th>0</th>\n",
       "      <td>8.5374</td>\n",
       "      <td>-1.3222</td>\n",
       "      <td>12.0220</td>\n",
       "      <td>6.5749</td>\n",
       "      <td>8.8458</td>\n",
       "      <td>3.1744</td>\n",
       "      <td>4.9397</td>\n",
       "      <td>20.5660</td>\n",
       "      <td>3.3755</td>\n",
       "      <td>7.4578</td>\n",
       "      <td>...</td>\n",
       "      <td>9.5702</td>\n",
       "      <td>9.0766</td>\n",
       "      <td>1.6580</td>\n",
       "      <td>3.5813</td>\n",
       "      <td>15.1874</td>\n",
       "      <td>3.1656</td>\n",
       "      <td>3.9567</td>\n",
       "      <td>9.2295</td>\n",
       "      <td>13.0168</td>\n",
       "      <td>-4.2108</td>\n",
       "    </tr>\n",
       "    <tr>\n",
       "      <th>1</th>\n",
       "      <td>17.3035</td>\n",
       "      <td>-2.4212</td>\n",
       "      <td>13.3989</td>\n",
       "      <td>8.3998</td>\n",
       "      <td>11.0777</td>\n",
       "      <td>9.6449</td>\n",
       "      <td>5.9596</td>\n",
       "      <td>17.8477</td>\n",
       "      <td>-4.8068</td>\n",
       "      <td>7.4643</td>\n",
       "      <td>...</td>\n",
       "      <td>4.4676</td>\n",
       "      <td>4.4214</td>\n",
       "      <td>0.9303</td>\n",
       "      <td>1.4994</td>\n",
       "      <td>15.2648</td>\n",
       "      <td>-1.7931</td>\n",
       "      <td>6.5316</td>\n",
       "      <td>10.4855</td>\n",
       "      <td>23.4631</td>\n",
       "      <td>0.7283</td>\n",
       "    </tr>\n",
       "    <tr>\n",
       "      <th>2</th>\n",
       "      <td>10.6137</td>\n",
       "      <td>-2.1898</td>\n",
       "      <td>8.9090</td>\n",
       "      <td>3.8014</td>\n",
       "      <td>13.8602</td>\n",
       "      <td>-5.9802</td>\n",
       "      <td>5.5515</td>\n",
       "      <td>15.4716</td>\n",
       "      <td>-0.1714</td>\n",
       "      <td>7.6178</td>\n",
       "      <td>...</td>\n",
       "      <td>13.1683</td>\n",
       "      <td>4.0625</td>\n",
       "      <td>-0.1537</td>\n",
       "      <td>7.9787</td>\n",
       "      <td>18.4518</td>\n",
       "      <td>0.1000</td>\n",
       "      <td>-7.8212</td>\n",
       "      <td>9.2355</td>\n",
       "      <td>15.0721</td>\n",
       "      <td>-7.3475</td>\n",
       "    </tr>\n",
       "    <tr>\n",
       "      <th>3</th>\n",
       "      <td>14.8595</td>\n",
       "      <td>-4.5378</td>\n",
       "      <td>13.6483</td>\n",
       "      <td>5.6480</td>\n",
       "      <td>9.9144</td>\n",
       "      <td>1.5190</td>\n",
       "      <td>5.0358</td>\n",
       "      <td>13.4524</td>\n",
       "      <td>-2.5419</td>\n",
       "      <td>9.4450</td>\n",
       "      <td>...</td>\n",
       "      <td>2.6735</td>\n",
       "      <td>5.8526</td>\n",
       "      <td>4.8517</td>\n",
       "      <td>2.5020</td>\n",
       "      <td>22.8224</td>\n",
       "      <td>-0.9325</td>\n",
       "      <td>8.6849</td>\n",
       "      <td>10.2848</td>\n",
       "      <td>17.4932</td>\n",
       "      <td>6.0800</td>\n",
       "    </tr>\n",
       "    <tr>\n",
       "      <th>4</th>\n",
       "      <td>14.1732</td>\n",
       "      <td>-5.1490</td>\n",
       "      <td>9.7591</td>\n",
       "      <td>3.7316</td>\n",
       "      <td>10.3700</td>\n",
       "      <td>-21.9202</td>\n",
       "      <td>7.7130</td>\n",
       "      <td>18.8749</td>\n",
       "      <td>0.4680</td>\n",
       "      <td>7.8453</td>\n",
       "      <td>...</td>\n",
       "      <td>0.8640</td>\n",
       "      <td>5.9058</td>\n",
       "      <td>1.3140</td>\n",
       "      <td>4.8961</td>\n",
       "      <td>20.1087</td>\n",
       "      <td>1.1051</td>\n",
       "      <td>7.7184</td>\n",
       "      <td>9.3406</td>\n",
       "      <td>21.1746</td>\n",
       "      <td>-2.0098</td>\n",
       "    </tr>\n",
       "  </tbody>\n",
       "</table>\n",
       "<p>5 rows × 200 columns</p>\n",
       "</div>"
      ],
      "text/plain": [
       "     var_0   var_1    var_2   var_3    var_4    var_5   var_6    var_7  \\\n",
       "0   8.5374 -1.3222  12.0220  6.5749   8.8458   3.1744  4.9397  20.5660   \n",
       "1  17.3035 -2.4212  13.3989  8.3998  11.0777   9.6449  5.9596  17.8477   \n",
       "2  10.6137 -2.1898   8.9090  3.8014  13.8602  -5.9802  5.5515  15.4716   \n",
       "3  14.8595 -4.5378  13.6483  5.6480   9.9144   1.5190  5.0358  13.4524   \n",
       "4  14.1732 -5.1490   9.7591  3.7316  10.3700 -21.9202  7.7130  18.8749   \n",
       "\n",
       "    var_8   var_9  ...  var_190  var_191  var_192  var_193  var_194  var_195  \\\n",
       "0  3.3755  7.4578  ...   9.5702   9.0766   1.6580   3.5813  15.1874   3.1656   \n",
       "1 -4.8068  7.4643  ...   4.4676   4.4214   0.9303   1.4994  15.2648  -1.7931   \n",
       "2 -0.1714  7.6178  ...  13.1683   4.0625  -0.1537   7.9787  18.4518   0.1000   \n",
       "3 -2.5419  9.4450  ...   2.6735   5.8526   4.8517   2.5020  22.8224  -0.9325   \n",
       "4  0.4680  7.8453  ...   0.8640   5.9058   1.3140   4.8961  20.1087   1.1051   \n",
       "\n",
       "   var_196  var_197  var_198  var_199  \n",
       "0   3.9567   9.2295  13.0168  -4.2108  \n",
       "1   6.5316  10.4855  23.4631   0.7283  \n",
       "2  -7.8212   9.2355  15.0721  -7.3475  \n",
       "3   8.6849  10.2848  17.4932   6.0800  \n",
       "4   7.7184   9.3406  21.1746  -2.0098  \n",
       "\n",
       "[5 rows x 200 columns]"
      ]
     },
     "execution_count": 8,
     "metadata": {},
     "output_type": "execute_result"
    }
   ],
   "source": [
    "df_test = pd.DataFrame(deduped_test, columns=df_test.drop(columns=['ID_code']).columns)\n",
    "df_test.head()"
   ]
  },
  {
   "cell_type": "code",
   "execution_count": 12,
   "metadata": {},
   "outputs": [],
   "source": [
    "def get_categorical_for_var(var_i):\n",
    "    var_s = f'var_{var_i}'\n",
    "    categorical = np.zeros(df_train.shape[0], dtype=int)\n",
    "    unq_val, unq_idx, unq_inv, unq_cnt = np.unique(df_train[var_s], return_index=True, \n",
    "                                                   return_inverse=True, return_counts=True)\n",
    "#     print(unq_val.shape, unq_idx.shape, unq_inv.shape, unq_cnt.shape)\n",
    "    for i in trange(df_train.shape[0]):\n",
    "        val = df_train[var_s][i]\n",
    "        cnt = unq_cnt[unq_inv[i]]\n",
    "        targets_ones = None\n",
    "        if cnt == 1:\n",
    "            cnt_in_test = len(df_test[ df_test[var_s] == val ])\n",
    "            if cnt_in_test == 0:\n",
    "                category = 5\n",
    "            else:\n",
    "                category = 4\n",
    "        else:\n",
    "            targets_ones = df_train[ df_train[var_s] == val ]['target'].sum()\n",
    "            if cnt == targets_ones:\n",
    "                category = 1\n",
    "            else:\n",
    "                if targets_ones == 0:\n",
    "                    category = 2\n",
    "                else:\n",
    "                    category = 3\n",
    "        categorical[i] = category\n",
    "#         print(i, cnt, targets_ones, category)\n",
    "#         if i > 2000:\n",
    "#             break\n",
    "    return categorical"
   ]
  },
  {
   "cell_type": "code",
   "execution_count": 13,
   "metadata": {},
   "outputs": [
    {
     "name": "stderr",
     "output_type": "stream",
     "text": [
      "100%|██████████| 200000/200000 [03:28<00:00, 957.63it/s]"
     ]
    },
    {
     "name": "stdout",
     "output_type": "stream",
     "text": [
      "CPU times: user 3min 28s, sys: 1.14 s, total: 3min 29s\n",
      "Wall time: 3min 28s\n"
     ]
    },
    {
     "name": "stderr",
     "output_type": "stream",
     "text": [
      "\n"
     ]
    }
   ],
   "source": [
    "%time categorical_0 = get_categorical_for_var(0)"
   ]
  },
  {
   "cell_type": "code",
   "execution_count": 14,
   "metadata": {},
   "outputs": [
    {
     "data": {
      "text/plain": [
       "200000"
      ]
     },
     "execution_count": 14,
     "metadata": {},
     "output_type": "execute_result"
    }
   ],
   "source": [
    "len(np.where( categorical_0 == 1)[0] ) + \\\n",
    "len(np.where( categorical_0 == 2)[0] ) + \\\n",
    "len(np.where( categorical_0 == 3)[0] ) + \\\n",
    "len(np.where( categorical_0 == 4)[0] ) + \\\n",
    "len(np.where( categorical_0 == 5)[0] )"
   ]
  },
  {
   "cell_type": "code",
   "execution_count": 15,
   "metadata": {},
   "outputs": [
    {
     "data": {
      "text/plain": [
       "(630, 113844, 45171, 17291, 23064)"
      ]
     },
     "execution_count": 15,
     "metadata": {},
     "output_type": "execute_result"
    }
   ],
   "source": [
    "len(np.where( categorical_0 == 1)[0] ), \\\n",
    "len(np.where( categorical_0 == 2)[0] ), \\\n",
    "len(np.where( categorical_0 == 3)[0] ), \\\n",
    "len(np.where( categorical_0 == 4)[0] ), \\\n",
    "len(np.where( categorical_0 == 5)[0] )"
   ]
  },
  {
   "cell_type": "code",
   "execution_count": 16,
   "metadata": {},
   "outputs": [],
   "source": [
    "var_s = 'var_0'"
   ]
  },
  {
   "cell_type": "code",
   "execution_count": 17,
   "metadata": {},
   "outputs": [],
   "source": [
    "df_train_0 = df_train[df_train['target'] == 0]\n",
    "df_train_1 = df_train[df_train['target'] == 1]"
   ]
  },
  {
   "cell_type": "markdown",
   "metadata": {},
   "source": [
    "# Categoría 1: repetidos con target == 1"
   ]
  },
  {
   "cell_type": "code",
   "execution_count": 18,
   "metadata": {},
   "outputs": [],
   "source": [
    "unq_val_1, unq_idx_1, unq_inv_1, unq_cnt_1 = np.unique(df_train_1[var_s], return_index=True, \n",
    "                                                   return_inverse=True, return_counts=True)\n"
   ]
  },
  {
   "cell_type": "code",
   "execution_count": 19,
   "metadata": {},
   "outputs": [
    {
     "data": {
      "text/plain": [
       "(20098,)"
      ]
     },
     "execution_count": 19,
     "metadata": {},
     "output_type": "execute_result"
    }
   ],
   "source": [
    "(unq_cnt_1[unq_inv_1] > 1).shape"
   ]
  },
  {
   "cell_type": "code",
   "execution_count": 20,
   "metadata": {},
   "outputs": [],
   "source": [
    "categories1_mat_1 = np.zeros(len(df_train_1))\n",
    "categories1_mat_1[ unq_cnt_1[unq_inv_1] > 1 ] = 1"
   ]
  },
  {
   "cell_type": "code",
   "execution_count": 21,
   "metadata": {},
   "outputs": [
    {
     "data": {
      "text/plain": [
       "array([0., 0., 0., 0., 0., 0., 0., 0., 0., 0., 0., 0., 0., 0., 1., 0., 0.,\n",
       "       0., 0., 0., 0., 0., 0., 0., 0., 1., 0., 1., 0., 0., 0., 0., 0., 0.,\n",
       "       0., 0., 0., 1., 0., 0., 1., 1., 0., 0., 1., 0., 0., 0., 1., 0., 0.,\n",
       "       0., 0., 0., 0., 0., 1., 0., 0., 0., 0., 0., 0., 0., 0., 0., 0., 0.,\n",
       "       0., 0., 0., 0., 0., 0., 0., 0., 1., 0., 0., 0., 0., 0., 1., 0., 0.,\n",
       "       0., 0., 0., 0., 1., 1., 0., 0., 1., 0., 1., 0., 0., 0., 0.])"
      ]
     },
     "execution_count": 21,
     "metadata": {},
     "output_type": "execute_result"
    }
   ],
   "source": [
    "categories1_mat_1[0:100]"
   ]
  },
  {
   "cell_type": "code",
   "execution_count": null,
   "metadata": {},
   "outputs": [],
   "source": []
  },
  {
   "cell_type": "markdown",
   "metadata": {},
   "source": [
    "# Categoría 2: repetidos con target == 0"
   ]
  },
  {
   "cell_type": "code",
   "execution_count": 22,
   "metadata": {},
   "outputs": [],
   "source": [
    "unq_val_0, unq_idx_0, unq_inv_0, unq_cnt_0 = np.unique(df_train_0[var_s], return_index=True, \n",
    "                                                   return_inverse=True, return_counts=True)"
   ]
  },
  {
   "cell_type": "code",
   "execution_count": 23,
   "metadata": {},
   "outputs": [
    {
     "data": {
      "text/plain": [
       "(179902,)"
      ]
     },
     "execution_count": 23,
     "metadata": {},
     "output_type": "execute_result"
    }
   ],
   "source": [
    "(unq_cnt_0[unq_inv_0] > 1).shape"
   ]
  },
  {
   "cell_type": "code",
   "execution_count": 24,
   "metadata": {},
   "outputs": [],
   "source": [
    "categories2_mat_0 = np.zeros(len(df_train_0))\n",
    "categories2_mat_0[ unq_cnt_0[unq_inv_0] > 1 ] = 2"
   ]
  },
  {
   "cell_type": "code",
   "execution_count": 25,
   "metadata": {},
   "outputs": [
    {
     "data": {
      "text/plain": [
       "(179902,)"
      ]
     },
     "execution_count": 25,
     "metadata": {},
     "output_type": "execute_result"
    }
   ],
   "source": [
    "categories2_mat_0.shape"
   ]
  },
  {
   "cell_type": "markdown",
   "metadata": {},
   "source": [
    "# Categoria 3: repetidos entre target 0 y 1"
   ]
  },
  {
   "cell_type": "code",
   "execution_count": 26,
   "metadata": {},
   "outputs": [],
   "source": [
    "idx_0 = np.in1d(df_train_0[var_s].values, df_train_1[var_s].values)\n",
    "idx_1 = np.in1d(df_train_1[var_s].values, df_train_0[var_s].values)"
   ]
  },
  {
   "cell_type": "code",
   "execution_count": 27,
   "metadata": {},
   "outputs": [
    {
     "data": {
      "text/plain": [
       "200000"
      ]
     },
     "execution_count": 27,
     "metadata": {},
     "output_type": "execute_result"
    }
   ],
   "source": [
    "len(idx_0) + len(idx_1)"
   ]
  },
  {
   "cell_type": "code",
   "execution_count": 28,
   "metadata": {},
   "outputs": [],
   "source": [
    "categories3_mat_0 = np.zeros(len(df_train_0))\n",
    "categories3_mat_1 = np.zeros(len(df_train_1))\n",
    "categories3_mat_0[ idx_0 ] = 3\n",
    "categories3_mat_1[ idx_1 ] = 3\n",
    "categories3_mat = np.append(categories3_mat_0, categories3_mat_1)"
   ]
  },
  {
   "cell_type": "markdown",
   "metadata": {},
   "source": [
    "# Categoría 4: únicos en todo el train"
   ]
  },
  {
   "cell_type": "code",
   "execution_count": 29,
   "metadata": {},
   "outputs": [],
   "source": [
    "df_total = np.append(df_train_0[var_s], df_train_1[var_s])"
   ]
  },
  {
   "cell_type": "code",
   "execution_count": 30,
   "metadata": {},
   "outputs": [],
   "source": [
    "unq_val, unq_idx, unq_inv, unq_cnt = np.unique(df_total, return_index=True, \n",
    "                                                   return_inverse=True, return_counts=True)"
   ]
  },
  {
   "cell_type": "code",
   "execution_count": 31,
   "metadata": {},
   "outputs": [],
   "source": [
    "categories4_mat = np.zeros(len(df_total))\n",
    "categories4_mat[ unq_cnt[unq_inv] == 1 ] = 4"
   ]
  },
  {
   "cell_type": "markdown",
   "metadata": {},
   "source": [
    "# Categoría 5: únicos train + test\n"
   ]
  },
  {
   "cell_type": "code",
   "execution_count": 32,
   "metadata": {},
   "outputs": [],
   "source": [
    "df_train_test = np.append(df_total, df_test[var_s])"
   ]
  },
  {
   "cell_type": "code",
   "execution_count": 33,
   "metadata": {},
   "outputs": [
    {
     "data": {
      "text/plain": [
       "(300000,)"
      ]
     },
     "execution_count": 33,
     "metadata": {},
     "output_type": "execute_result"
    }
   ],
   "source": [
    "df_train_test.shape"
   ]
  },
  {
   "cell_type": "code",
   "execution_count": 34,
   "metadata": {},
   "outputs": [],
   "source": [
    "unq_val_tt, unq_idx_tt, unq_inv_tt, unq_cnt_tt = np.unique(df_train_test, return_index=True, \n",
    "                                                   return_inverse=True, return_counts=True)"
   ]
  },
  {
   "cell_type": "code",
   "execution_count": 35,
   "metadata": {},
   "outputs": [],
   "source": [
    "categories5_mat = np.zeros(len(df_train_test))\n",
    "categories5_mat[ unq_cnt_tt[unq_inv_tt] == 1 ] = 5"
   ]
  },
  {
   "cell_type": "code",
   "execution_count": 36,
   "metadata": {},
   "outputs": [],
   "source": [
    "categories5_mat = categories5_mat[0:len(df_total)]"
   ]
  },
  {
   "cell_type": "markdown",
   "metadata": {},
   "source": [
    "# Merge de categorías"
   ]
  },
  {
   "cell_type": "code",
   "execution_count": 40,
   "metadata": {},
   "outputs": [],
   "source": [
    "category_mat = np.append(categories2_mat_0, categories1_mat_1)\n",
    "\n",
    "category_mat[ categories3_mat == 3 ] = 3\n",
    "\n",
    "category_mat[ categories4_mat == 4 ] = 4\n",
    "\n",
    "category_mat[ categories5_mat == 5 ] = 5"
   ]
  },
  {
   "cell_type": "code",
   "execution_count": 41,
   "metadata": {},
   "outputs": [
    {
     "data": {
      "text/plain": [
       "array([2, 2, 2, 2, 2, 2, 3, 3, 4, 2, 2, 2, 2, 5, 2, 2, 5, 2, 2, 2, 2, 2,\n",
       "       3, 4, 2, 3, 5, 2, 2, 3, 2, 2, 2, 2, 2, 5, 2, 2, 5, 2, 2, 2, 2, 2,\n",
       "       2, 2, 2, 3, 2, 4, 4, 4, 2, 2, 2, 2, 3, 4, 3, 2, 4, 2, 3, 5, 2, 3,\n",
       "       2, 2, 4, 2, 2, 5, 3, 2, 5, 5, 2, 4, 2, 2, 2, 3, 5, 2, 3, 2, 2, 2,\n",
       "       3, 2, 3, 3, 2, 2, 2, 2, 2, 2, 5, 3])"
      ]
     },
     "execution_count": 41,
     "metadata": {},
     "output_type": "execute_result"
    }
   ],
   "source": [
    "categorical_0[0:100]"
   ]
  },
  {
   "cell_type": "code",
   "execution_count": 42,
   "metadata": {},
   "outputs": [
    {
     "data": {
      "text/plain": [
       "array([2., 2., 2., 2., 2., 2., 3., 3., 4., 2., 2., 2., 2., 2., 2., 5., 2.,\n",
       "       2., 2., 2., 2., 3., 4., 2., 3., 5., 2., 2., 2., 2., 2., 2., 2., 5.,\n",
       "       2., 2., 5., 2., 2., 2., 2., 2., 2., 2., 2., 3., 2., 4., 4., 4., 2.,\n",
       "       2., 2., 2., 3., 4., 3., 2., 4., 2., 3., 2., 2., 2., 4., 2., 2., 2.,\n",
       "       5., 5., 2., 4., 2., 2., 2., 3., 5., 2., 2., 2., 2., 3., 2., 3., 3.,\n",
       "       2., 2., 2., 2., 2., 2., 5., 2., 4., 2., 2., 2., 5., 3., 3.])"
      ]
     },
     "execution_count": 42,
     "metadata": {},
     "output_type": "execute_result"
    }
   ],
   "source": [
    "category_mat[0:100]"
   ]
  },
  {
   "cell_type": "code",
   "execution_count": 43,
   "metadata": {},
   "outputs": [
    {
     "data": {
      "text/plain": [
       "(630, 113844, 45171, 17291, 23064)"
      ]
     },
     "execution_count": 43,
     "metadata": {},
     "output_type": "execute_result"
    }
   ],
   "source": [
    "len(np.where( category_mat == 1)[0] ), \\\n",
    "len(np.where( category_mat == 2)[0] ), \\\n",
    "len(np.where( category_mat == 3)[0] ), \\\n",
    "len(np.where( category_mat == 4)[0] ), \\\n",
    "len(np.where( category_mat == 5)[0] )"
   ]
  },
  {
   "cell_type": "code",
   "execution_count": 44,
   "metadata": {},
   "outputs": [
    {
     "data": {
      "text/plain": [
       "(630, 113844, 45171, 17291, 23064)"
      ]
     },
     "execution_count": 44,
     "metadata": {},
     "output_type": "execute_result"
    }
   ],
   "source": [
    "len(np.where( categorical_0 == 1)[0] ), \\\n",
    "len(np.where( categorical_0 == 2)[0] ), \\\n",
    "len(np.where( categorical_0 == 3)[0] ), \\\n",
    "len(np.where( categorical_0 == 4)[0] ), \\\n",
    "len(np.where( categorical_0 == 5)[0] )"
   ]
  },
  {
   "cell_type": "code",
   "execution_count": null,
   "metadata": {},
   "outputs": [],
   "source": []
  },
  {
   "cell_type": "code",
   "execution_count": null,
   "metadata": {},
   "outputs": [],
   "source": []
  }
 ],
 "metadata": {
  "kernelspec": {
   "display_name": "Python 3",
   "language": "python",
   "name": "python3"
  },
  "language_info": {
   "codemirror_mode": {
    "name": "ipython",
    "version": 3
   },
   "file_extension": ".py",
   "mimetype": "text/x-python",
   "name": "python",
   "nbconvert_exporter": "python",
   "pygments_lexer": "ipython3",
   "version": "3.6.8"
  }
 },
 "nbformat": 4,
 "nbformat_minor": 2
}
