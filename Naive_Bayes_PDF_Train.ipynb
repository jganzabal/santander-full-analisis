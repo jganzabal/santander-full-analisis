{
 "cells": [
  {
   "cell_type": "code",
   "execution_count": 2,
   "metadata": {},
   "outputs": [],
   "source": [
    "%load_ext autoreload\n",
    "%autoreload 2"
   ]
  },
  {
   "cell_type": "code",
   "execution_count": 3,
   "metadata": {},
   "outputs": [],
   "source": [
    "from sklearn.metrics import roc_auc_score\n",
    "import pandas as pd\n",
    "from NaiveBayesPDF import NaiveBayesPDF\n",
    "from matplotlib import pyplot as plt\n",
    "import numpy as np\n",
    "import pickle"
   ]
  },
  {
   "cell_type": "code",
   "execution_count": 4,
   "metadata": {},
   "outputs": [],
   "source": [
    "#df_train = pd.read_csv('train.csv')\n",
    "df_train = pd.read_csv('train_splitted.csv')"
   ]
  },
  {
   "cell_type": "code",
   "execution_count": 5,
   "metadata": {},
   "outputs": [],
   "source": [
    "NBpdf = NaiveBayesPDF(smoothing=2, c=2.5, resolution=501, N_processors=10)\n",
    "X_train = df_train.drop(columns=['target', 'ID_code']).values\n",
    "y_train = df_train['target'].values"
   ]
  },
  {
   "cell_type": "code",
   "execution_count": 6,
   "metadata": {},
   "outputs": [
    {
     "data": {
      "text/plain": [
       "(160000, 200)"
      ]
     },
     "execution_count": 6,
     "metadata": {},
     "output_type": "execute_result"
    }
   ],
   "source": [
    "#X_train_features = np.append(X_train, X_train[:,:100]*X_train[:,100:], axis=1)\n",
    "#X_train_features.shape\n",
    "\n",
    "X_train_features = np.append(X_train, X_train.mean(axis=1).reshape(-1, 1), axis=1)\n",
    "X_train_features = np.append(X_train_features, X_train.std(axis=1).reshape(-1, 1), axis=1)\n",
    "X_train_features = np.append(X_train_features, X_train.min(axis=1).reshape(-1, 1), axis=1)\n",
    "X_train_features = np.append(X_train_features, X_train.max(axis=1).reshape(-1, 1), axis=1)\n",
    "\n",
    "X_train_features = X_train\n",
    "\n",
    "X_train_features.shape"
   ]
  },
  {
   "cell_type": "code",
   "execution_count": 7,
   "metadata": {},
   "outputs": [
    {
     "name": "stdout",
     "output_type": "stream",
     "text": [
      "CPU times: user 3.5 s, sys: 3.13 s, total: 6.63 s\n",
      "Wall time: 16.7 s\n"
     ]
    }
   ],
   "source": [
    "%time NBpdf.fit(X_train_features, y_train)"
   ]
  },
  {
   "cell_type": "code",
   "execution_count": 8,
   "metadata": {},
   "outputs": [],
   "source": [
    "observations_normalized, observations_odds, log_odds, prod_odds, probs, auc_train, acc_train = \\\n",
    "    NBpdf.predict(X_train_features, y_train)"
   ]
  },
  {
   "cell_type": "code",
   "execution_count": 9,
   "metadata": {},
   "outputs": [
    {
     "name": "stdout",
     "output_type": "stream",
     "text": [
      "0.9049951884982382 0.925125\n"
     ]
    }
   ],
   "source": [
    "print(auc_train, acc_train)"
   ]
  },
  {
   "cell_type": "code",
   "execution_count": 10,
   "metadata": {},
   "outputs": [],
   "source": [
    "# 0.9049276968524043 0.92519375\n",
    "# 0.906136866110222 0.92689375"
   ]
  },
  {
   "cell_type": "code",
   "execution_count": 11,
   "metadata": {},
   "outputs": [],
   "source": [
    "#pickle.dump(NBpdf, open('trained_models/naive_bayes_pdf_train_only.pk', 'wb'))\n",
    "#pickle.dump(NBpdf, open('trained_models/naive_bayes_pdf_all_data.pk', 'wb'))"
   ]
  },
  {
   "cell_type": "markdown",
   "metadata": {},
   "source": [
    "# Validation"
   ]
  },
  {
   "cell_type": "code",
   "execution_count": 12,
   "metadata": {},
   "outputs": [],
   "source": [
    "df_valid = pd.read_csv('valid_splitted.csv')"
   ]
  },
  {
   "cell_type": "code",
   "execution_count": 13,
   "metadata": {},
   "outputs": [],
   "source": [
    "X_valid = df_valid.drop(columns=['target', 'ID_code']).values\n",
    "y_valid = df_valid['target'].values"
   ]
  },
  {
   "cell_type": "code",
   "execution_count": 14,
   "metadata": {},
   "outputs": [],
   "source": [
    "# X_valid_features = np.append(X_valid, X_valid**2, axis=1)\n",
    "# X_valid_features.shape\n",
    "X_valid_features = X_valid"
   ]
  },
  {
   "cell_type": "code",
   "execution_count": 15,
   "metadata": {},
   "outputs": [],
   "source": [
    "_, _, log_odds_valid, _, probs_valid, auc_valid, acc_valid = \\\n",
    "    NBpdf.predict(X_valid_features, y_valid)"
   ]
  },
  {
   "cell_type": "code",
   "execution_count": 16,
   "metadata": {},
   "outputs": [
    {
     "name": "stdout",
     "output_type": "stream",
     "text": [
      "0.9041718261246283 0.9233\n"
     ]
    }
   ],
   "source": [
    "print(auc_valid, acc_valid)"
   ]
  },
  {
   "cell_type": "code",
   "execution_count": null,
   "metadata": {},
   "outputs": [],
   "source": [
    "0.9038692268672388 0.92445\n",
    "0.9040821111463955 0.92335\n",
    "0.904125499473793 0.92325\n",
    "0.9041718261246283 0.9233"
   ]
  }
 ],
 "metadata": {
  "kernelspec": {
   "display_name": "Python 3",
   "language": "python",
   "name": "python3"
  },
  "language_info": {
   "codemirror_mode": {
    "name": "ipython",
    "version": 3
   },
   "file_extension": ".py",
   "mimetype": "text/x-python",
   "name": "python",
   "nbconvert_exporter": "python",
   "pygments_lexer": "ipython3",
   "version": "3.6.8"
  }
 },
 "nbformat": 4,
 "nbformat_minor": 2
}
