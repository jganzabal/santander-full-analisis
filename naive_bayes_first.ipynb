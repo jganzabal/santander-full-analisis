{
 "cells": [
  {
   "cell_type": "code",
   "execution_count": 322,
   "metadata": {},
   "outputs": [
    {
     "name": "stdout",
     "output_type": "stream",
     "text": [
      "The autoreload extension is already loaded. To reload it, use:\n",
      "  %reload_ext autoreload\n"
     ]
    }
   ],
   "source": [
    "%load_ext autoreload\n",
    "%autoreload 2"
   ]
  },
  {
   "cell_type": "code",
   "execution_count": 323,
   "metadata": {},
   "outputs": [],
   "source": [
    "import numpy as np # linear algebra\n",
    "import pandas as pd # data processing, CSV file I/O (e.g. pd.read_csv)\n",
    "from matplotlib import pyplot as plt\n",
    "from NaiveBayesPDF import get_stats"
   ]
  },
  {
   "cell_type": "markdown",
   "metadata": {},
   "source": [
    "# Load dataset"
   ]
  },
  {
   "cell_type": "code",
   "execution_count": 324,
   "metadata": {},
   "outputs": [],
   "source": [
    "df_train = pd.read_csv('data/train_splitted.csv')\n",
    "df_valid = pd.read_csv('data/valid_splitted.csv')\n",
    "\n",
    "X_train = df_train.drop(columns=['ID_code', 'target'])\n",
    "X_valid = df_valid.drop(columns=['ID_code', 'target'])\n",
    "\n",
    "y_train = df_train['target']\n",
    "y_valid = df_valid['target']"
   ]
  },
  {
   "cell_type": "markdown",
   "metadata": {},
   "source": [
    "# Naive Bayes"
   ]
  },
  {
   "cell_type": "markdown",
   "metadata": {},
   "source": [
    "## Normalize indep vars"
   ]
  },
  {
   "cell_type": "code",
   "execution_count": 325,
   "metadata": {},
   "outputs": [],
   "source": [
    "means, stds, min_z_zcore, max_z_zcore, z_scores = get_stats(X_train.values, resolution=501)"
   ]
  },
  {
   "cell_type": "markdown",
   "metadata": {},
   "source": [
    "## Get likelihoods"
   ]
  },
  {
   "cell_type": "code",
   "execution_count": 326,
   "metadata": {},
   "outputs": [],
   "source": [
    "c=3\n",
    "i=0\n",
    "x=2\n",
    "X = X_train.values"
   ]
  },
  {
   "cell_type": "code",
   "execution_count": 327,
   "metadata": {},
   "outputs": [],
   "source": [
    "xs =(X[:,i]>x-stds[i]/c)&(X[:, i]<x+stds[i]/c)"
   ]
  },
  {
   "cell_type": "code",
   "execution_count": 328,
   "metadata": {},
   "outputs": [
    {
     "data": {
      "text/plain": [
       "215"
      ]
     },
     "execution_count": 328,
     "metadata": {},
     "output_type": "execute_result"
    }
   ],
   "source": [
    "xs.sum()"
   ]
  },
  {
   "cell_type": "code",
   "execution_count": 329,
   "metadata": {},
   "outputs": [],
   "source": [
    "# def likelihoods_frequency_vect(v, train1, train0, stds, c=3):\n",
    "#     # This version calculates all variables v_i in one shot\n",
    "#     N_interval_0 = ((train0>v-stds/c) \n",
    "#                     & (train0<v+stds/c)).sum(axis=0)\n",
    "#     N_interval_1 = ((train1>v-stds/c) \n",
    "#                     & (train1<v+stds/c)).sum(axis=0)\n",
    "#     return N_interval_0/(2*stds/c), N_interval_1/(2*stds/c)"
   ]
  },
  {
   "cell_type": "code",
   "execution_count": 330,
   "metadata": {},
   "outputs": [],
   "source": [
    "x=0"
   ]
  },
  {
   "cell_type": "code",
   "execution_count": 331,
   "metadata": {},
   "outputs": [
    {
     "data": {
      "text/plain": [
       "(160000, 202)"
      ]
     },
     "execution_count": 331,
     "metadata": {},
     "output_type": "execute_result"
    }
   ],
   "source": [
    "df_train.shape"
   ]
  },
  {
   "cell_type": "code",
   "execution_count": 332,
   "metadata": {},
   "outputs": [
    {
     "data": {
      "text/plain": [
       "array([[False, False, False, ..., False, False, False],\n",
       "       [False, False, False, ..., False, False, False],\n",
       "       [False,  True, False, ..., False, False, False],\n",
       "       ...,\n",
       "       [False, False, False, ..., False, False, False],\n",
       "       [False,  True, False, ..., False, False, False],\n",
       "       [False, False, False, ..., False, False,  True]])"
      ]
     },
     "execution_count": 332,
     "metadata": {},
     "output_type": "execute_result"
    }
   ],
   "source": [
    "(X_train.values>x-stds/c)&(X_train.values<x+stds/c)"
   ]
  },
  {
   "cell_type": "code",
   "execution_count": 333,
   "metadata": {},
   "outputs": [
    {
     "data": {
      "text/plain": [
       "(160000, 200)"
      ]
     },
     "execution_count": 333,
     "metadata": {},
     "output_type": "execute_result"
    }
   ],
   "source": [
    "X_train.shape"
   ]
  },
  {
   "cell_type": "code",
   "execution_count": 334,
   "metadata": {},
   "outputs": [
    {
     "data": {
      "text/plain": [
       "(160000,)"
      ]
     },
     "execution_count": 334,
     "metadata": {},
     "output_type": "execute_result"
    }
   ],
   "source": [
    "X_train['var_'+str(i)].shape #>x-stds/c"
   ]
  },
  {
   "cell_type": "code",
   "execution_count": 336,
   "metadata": {},
   "outputs": [],
   "source": [
    "def get_Posterior(x=0, i=0):\n",
    "    #P(1 | X=x)\n",
    "    c = 3 #smoothing factor\n",
    "    # a is the number of observation of ones given thar variable i is between x-stds[i]/c and x+stds[i]/c\n",
    "    indexes = (X_train>x-stds/c)&(X_train<x+stds/c)\n",
    "    a = indexes[df_train['target']==1].sum()\n",
    "    b = indexes[df_train['target']==0].sum()\n",
    "    \n",
    "#   if a+b<500: return 0.1 #smoothing factor\n",
    "#     # RETURN PROBABILITY\n",
    "    return a\n",
    "    # return a / b"
   ]
  },
  {
   "cell_type": "code",
   "execution_count": 337,
   "metadata": {},
   "outputs": [
    {
     "data": {
      "text/plain": [
       "var_0         1\n",
       "var_1      3702\n",
       "var_2         0\n",
       "var_3         2\n",
       "var_4         0\n",
       "var_5      3630\n",
       "var_6         0\n",
       "var_7         0\n",
       "var_8      3373\n",
       "var_9         0\n",
       "var_10     3843\n",
       "var_11     3635\n",
       "var_12        0\n",
       "var_13     1245\n",
       "var_14        0\n",
       "var_15        0\n",
       "var_16        0\n",
       "var_17     3177\n",
       "var_18      600\n",
       "var_19     1705\n",
       "var_20      229\n",
       "var_21     1103\n",
       "var_22     1426\n",
       "var_23        0\n",
       "var_24        6\n",
       "var_25        0\n",
       "var_26     3371\n",
       "var_27     3262\n",
       "var_28        0\n",
       "var_29      632\n",
       "           ... \n",
       "var_170    3620\n",
       "var_171    3966\n",
       "var_172     516\n",
       "var_173    3939\n",
       "var_174     196\n",
       "var_175       0\n",
       "var_176    3813\n",
       "var_177       0\n",
       "var_178    3747\n",
       "var_179    2705\n",
       "var_180    3696\n",
       "var_181       0\n",
       "var_182    3687\n",
       "var_183     694\n",
       "var_184    1813\n",
       "var_185    3043\n",
       "var_186      24\n",
       "var_187    3238\n",
       "var_188       0\n",
       "var_189    3105\n",
       "var_190    2888\n",
       "var_191      85\n",
       "var_192    2460\n",
       "var_193    2983\n",
       "var_194       0\n",
       "var_195    3763\n",
       "var_196    3284\n",
       "var_197       0\n",
       "var_198       0\n",
       "var_199    3614\n",
       "Length: 200, dtype: int64"
      ]
     },
     "execution_count": 337,
     "metadata": {},
     "output_type": "execute_result"
    }
   ],
   "source": [
    "get_Posterior()"
   ]
  },
  {
   "cell_type": "code",
   "execution_count": 281,
   "metadata": {},
   "outputs": [],
   "source": [
    "def get_Posterior(x, i=0):\n",
    "    #P(1 | X=x)\n",
    "    c = 3 #smoothing factor\n",
    "    # a is the number of observation of ones given thar variable i is between x-stds[i]/c and x+stds[i]/c\n",
    "    xs = df_train[(df_train['var_'+str(i)]>x-stds[i]/c)&(df_train['var_'+str(i)]<x+stds[i]/c)]['var_'+str(i)]\n",
    "    a = len(xs[df_train['target']==1])\n",
    "    b = len(xs[df_train['target']==0])\n",
    "    if a+b<500: return 0.1 #smoothing factor\n",
    "    # RETURN PROBABILITY\n",
    "    return a / (a+b)\n",
    "    # ALTERNATIVELY RETURN ODDS\n",
    "    # return a / b"
   ]
  },
  {
   "cell_type": "code",
   "execution_count": 293,
   "metadata": {},
   "outputs": [
    {
     "name": "stderr",
     "output_type": "stream",
     "text": [
      "/home/usuario/anaconda3/envs/gpu/lib/python3.6/site-packages/ipykernel_launcher.py:7: UserWarning: Boolean Series key will be reindexed to match DataFrame index.\n",
      "  import sys\n"
     ]
    },
    {
     "data": {
      "text/html": [
       "<div>\n",
       "<style scoped>\n",
       "    .dataframe tbody tr th:only-of-type {\n",
       "        vertical-align: middle;\n",
       "    }\n",
       "\n",
       "    .dataframe tbody tr th {\n",
       "        vertical-align: top;\n",
       "    }\n",
       "\n",
       "    .dataframe thead th {\n",
       "        text-align: right;\n",
       "    }\n",
       "</style>\n",
       "<table border=\"1\" class=\"dataframe\">\n",
       "  <thead>\n",
       "    <tr style=\"text-align: right;\">\n",
       "      <th></th>\n",
       "      <th>ID_code</th>\n",
       "      <th>target</th>\n",
       "      <th>var_0</th>\n",
       "      <th>var_1</th>\n",
       "      <th>var_2</th>\n",
       "      <th>var_3</th>\n",
       "      <th>var_4</th>\n",
       "      <th>var_5</th>\n",
       "      <th>var_6</th>\n",
       "      <th>var_7</th>\n",
       "      <th>...</th>\n",
       "      <th>var_190</th>\n",
       "      <th>var_191</th>\n",
       "      <th>var_192</th>\n",
       "      <th>var_193</th>\n",
       "      <th>var_194</th>\n",
       "      <th>var_195</th>\n",
       "      <th>var_196</th>\n",
       "      <th>var_197</th>\n",
       "      <th>var_198</th>\n",
       "      <th>var_199</th>\n",
       "    </tr>\n",
       "  </thead>\n",
       "  <tbody>\n",
       "    <tr>\n",
       "      <th>165885</th>\n",
       "      <td>train_165885</td>\n",
       "      <td>0</td>\n",
       "      <td>0.4084</td>\n",
       "      <td>-2.3580</td>\n",
       "      <td>6.4101</td>\n",
       "      <td>6.3512</td>\n",
       "      <td>11.6226</td>\n",
       "      <td>2.3006</td>\n",
       "      <td>4.3739</td>\n",
       "      <td>19.5745</td>\n",
       "      <td>...</td>\n",
       "      <td>1.6410</td>\n",
       "      <td>8.2690</td>\n",
       "      <td>2.2166</td>\n",
       "      <td>4.5286</td>\n",
       "      <td>16.0699</td>\n",
       "      <td>-0.4181</td>\n",
       "      <td>-3.5543</td>\n",
       "      <td>7.3749</td>\n",
       "      <td>13.1001</td>\n",
       "      <td>-16.6303</td>\n",
       "    </tr>\n",
       "    <tr>\n",
       "      <th>10693</th>\n",
       "      <td>train_10693</td>\n",
       "      <td>0</td>\n",
       "      <td>0.5979</td>\n",
       "      <td>-0.7717</td>\n",
       "      <td>8.4321</td>\n",
       "      <td>7.1216</td>\n",
       "      <td>11.0864</td>\n",
       "      <td>-11.1819</td>\n",
       "      <td>7.2443</td>\n",
       "      <td>15.5612</td>\n",
       "      <td>...</td>\n",
       "      <td>-3.2289</td>\n",
       "      <td>10.3603</td>\n",
       "      <td>2.2347</td>\n",
       "      <td>1.6486</td>\n",
       "      <td>17.3712</td>\n",
       "      <td>-3.6116</td>\n",
       "      <td>0.4931</td>\n",
       "      <td>10.1748</td>\n",
       "      <td>15.7862</td>\n",
       "      <td>-6.9688</td>\n",
       "    </tr>\n",
       "    <tr>\n",
       "      <th>65328</th>\n",
       "      <td>train_65328</td>\n",
       "      <td>0</td>\n",
       "      <td>1.0147</td>\n",
       "      <td>0.0926</td>\n",
       "      <td>11.5542</td>\n",
       "      <td>6.1213</td>\n",
       "      <td>14.1236</td>\n",
       "      <td>3.7310</td>\n",
       "      <td>7.0027</td>\n",
       "      <td>13.8855</td>\n",
       "      <td>...</td>\n",
       "      <td>8.1236</td>\n",
       "      <td>9.5542</td>\n",
       "      <td>2.0134</td>\n",
       "      <td>10.2565</td>\n",
       "      <td>23.5217</td>\n",
       "      <td>0.6036</td>\n",
       "      <td>6.6042</td>\n",
       "      <td>9.0276</td>\n",
       "      <td>21.0147</td>\n",
       "      <td>-2.2733</td>\n",
       "    </tr>\n",
       "    <tr>\n",
       "      <th>64498</th>\n",
       "      <td>train_64498</td>\n",
       "      <td>0</td>\n",
       "      <td>0.9302</td>\n",
       "      <td>-4.0585</td>\n",
       "      <td>10.4719</td>\n",
       "      <td>4.2685</td>\n",
       "      <td>10.5250</td>\n",
       "      <td>-3.7847</td>\n",
       "      <td>6.4496</td>\n",
       "      <td>19.1617</td>\n",
       "      <td>...</td>\n",
       "      <td>-3.7415</td>\n",
       "      <td>4.6446</td>\n",
       "      <td>2.4373</td>\n",
       "      <td>4.0081</td>\n",
       "      <td>19.2551</td>\n",
       "      <td>-1.2743</td>\n",
       "      <td>4.5405</td>\n",
       "      <td>8.9674</td>\n",
       "      <td>16.4645</td>\n",
       "      <td>-6.3841</td>\n",
       "    </tr>\n",
       "    <tr>\n",
       "      <th>61234</th>\n",
       "      <td>train_61234</td>\n",
       "      <td>0</td>\n",
       "      <td>0.8935</td>\n",
       "      <td>-1.1103</td>\n",
       "      <td>12.9898</td>\n",
       "      <td>4.0356</td>\n",
       "      <td>10.5848</td>\n",
       "      <td>-15.5852</td>\n",
       "      <td>4.1182</td>\n",
       "      <td>23.7974</td>\n",
       "      <td>...</td>\n",
       "      <td>2.8518</td>\n",
       "      <td>6.2990</td>\n",
       "      <td>0.5955</td>\n",
       "      <td>-0.0631</td>\n",
       "      <td>17.2324</td>\n",
       "      <td>1.5028</td>\n",
       "      <td>10.4704</td>\n",
       "      <td>8.2172</td>\n",
       "      <td>20.5543</td>\n",
       "      <td>4.8313</td>\n",
       "    </tr>\n",
       "  </tbody>\n",
       "</table>\n",
       "<p>5 rows × 202 columns</p>\n",
       "</div>"
      ],
      "text/plain": [
       "             ID_code  target   var_0   var_1    var_2   var_3    var_4  \\\n",
       "165885  train_165885       0  0.4084 -2.3580   6.4101  6.3512  11.6226   \n",
       "10693    train_10693       0  0.5979 -0.7717   8.4321  7.1216  11.0864   \n",
       "65328    train_65328       0  1.0147  0.0926  11.5542  6.1213  14.1236   \n",
       "64498    train_64498       0  0.9302 -4.0585  10.4719  4.2685  10.5250   \n",
       "61234    train_61234       0  0.8935 -1.1103  12.9898  4.0356  10.5848   \n",
       "\n",
       "          var_5   var_6    var_7   ...     var_190  var_191  var_192  var_193  \\\n",
       "165885   2.3006  4.3739  19.5745   ...      1.6410   8.2690   2.2166   4.5286   \n",
       "10693  -11.1819  7.2443  15.5612   ...     -3.2289  10.3603   2.2347   1.6486   \n",
       "65328    3.7310  7.0027  13.8855   ...      8.1236   9.5542   2.0134  10.2565   \n",
       "64498   -3.7847  6.4496  19.1617   ...     -3.7415   4.6446   2.4373   4.0081   \n",
       "61234  -15.5852  4.1182  23.7974   ...      2.8518   6.2990   0.5955  -0.0631   \n",
       "\n",
       "        var_194  var_195  var_196  var_197  var_198  var_199  \n",
       "165885  16.0699  -0.4181  -3.5543   7.3749  13.1001 -16.6303  \n",
       "10693   17.3712  -3.6116   0.4931  10.1748  15.7862  -6.9688  \n",
       "65328   23.5217   0.6036   6.6042   9.0276  21.0147  -2.2733  \n",
       "64498   19.2551  -1.2743   4.5405   8.9674  16.4645  -6.3841  \n",
       "61234   17.2324   1.5028  10.4704   8.2172  20.5543   4.8313  \n",
       "\n",
       "[5 rows x 202 columns]"
      ]
     },
     "execution_count": 293,
     "metadata": {},
     "output_type": "execute_result"
    }
   ],
   "source": [
    "x=0\n",
    "i=0\n",
    "c=3\n",
    "xs = df_train[(df_train['var_'+str(i)]>x-stds[i]/c)&(df_train['var_'+str(i)]<x+stds[i]/c)]\n",
    "# a = len(xs[df_train['target']==1])\n",
    "# b = len(xs[df_train['target']==0])\n",
    "xs[df_train['target']==0]"
   ]
  },
  {
   "cell_type": "code",
   "execution_count": 290,
   "metadata": {},
   "outputs": [
    {
     "data": {
      "text/html": [
       "<div>\n",
       "<style scoped>\n",
       "    .dataframe tbody tr th:only-of-type {\n",
       "        vertical-align: middle;\n",
       "    }\n",
       "\n",
       "    .dataframe tbody tr th {\n",
       "        vertical-align: top;\n",
       "    }\n",
       "\n",
       "    .dataframe thead th {\n",
       "        text-align: right;\n",
       "    }\n",
       "</style>\n",
       "<table border=\"1\" class=\"dataframe\">\n",
       "  <thead>\n",
       "    <tr style=\"text-align: right;\">\n",
       "      <th></th>\n",
       "      <th>ID_code</th>\n",
       "      <th>target</th>\n",
       "      <th>var_0</th>\n",
       "      <th>var_1</th>\n",
       "      <th>var_2</th>\n",
       "      <th>var_3</th>\n",
       "      <th>var_4</th>\n",
       "      <th>var_5</th>\n",
       "      <th>var_6</th>\n",
       "      <th>var_7</th>\n",
       "      <th>...</th>\n",
       "      <th>var_190</th>\n",
       "      <th>var_191</th>\n",
       "      <th>var_192</th>\n",
       "      <th>var_193</th>\n",
       "      <th>var_194</th>\n",
       "      <th>var_195</th>\n",
       "      <th>var_196</th>\n",
       "      <th>var_197</th>\n",
       "      <th>var_198</th>\n",
       "      <th>var_199</th>\n",
       "    </tr>\n",
       "  </thead>\n",
       "  <tbody>\n",
       "    <tr>\n",
       "      <th>165885</th>\n",
       "      <td>train_165885</td>\n",
       "      <td>0</td>\n",
       "      <td>0.4084</td>\n",
       "      <td>-2.3580</td>\n",
       "      <td>6.4101</td>\n",
       "      <td>6.3512</td>\n",
       "      <td>11.6226</td>\n",
       "      <td>2.3006</td>\n",
       "      <td>4.3739</td>\n",
       "      <td>19.5745</td>\n",
       "      <td>...</td>\n",
       "      <td>1.6410</td>\n",
       "      <td>8.2690</td>\n",
       "      <td>2.2166</td>\n",
       "      <td>4.5286</td>\n",
       "      <td>16.0699</td>\n",
       "      <td>-0.4181</td>\n",
       "      <td>-3.5543</td>\n",
       "      <td>7.3749</td>\n",
       "      <td>13.1001</td>\n",
       "      <td>-16.6303</td>\n",
       "    </tr>\n",
       "    <tr>\n",
       "      <th>10693</th>\n",
       "      <td>train_10693</td>\n",
       "      <td>0</td>\n",
       "      <td>0.5979</td>\n",
       "      <td>-0.7717</td>\n",
       "      <td>8.4321</td>\n",
       "      <td>7.1216</td>\n",
       "      <td>11.0864</td>\n",
       "      <td>-11.1819</td>\n",
       "      <td>7.2443</td>\n",
       "      <td>15.5612</td>\n",
       "      <td>...</td>\n",
       "      <td>-3.2289</td>\n",
       "      <td>10.3603</td>\n",
       "      <td>2.2347</td>\n",
       "      <td>1.6486</td>\n",
       "      <td>17.3712</td>\n",
       "      <td>-3.6116</td>\n",
       "      <td>0.4931</td>\n",
       "      <td>10.1748</td>\n",
       "      <td>15.7862</td>\n",
       "      <td>-6.9688</td>\n",
       "    </tr>\n",
       "    <tr>\n",
       "      <th>65328</th>\n",
       "      <td>train_65328</td>\n",
       "      <td>0</td>\n",
       "      <td>1.0147</td>\n",
       "      <td>0.0926</td>\n",
       "      <td>11.5542</td>\n",
       "      <td>6.1213</td>\n",
       "      <td>14.1236</td>\n",
       "      <td>3.7310</td>\n",
       "      <td>7.0027</td>\n",
       "      <td>13.8855</td>\n",
       "      <td>...</td>\n",
       "      <td>8.1236</td>\n",
       "      <td>9.5542</td>\n",
       "      <td>2.0134</td>\n",
       "      <td>10.2565</td>\n",
       "      <td>23.5217</td>\n",
       "      <td>0.6036</td>\n",
       "      <td>6.6042</td>\n",
       "      <td>9.0276</td>\n",
       "      <td>21.0147</td>\n",
       "      <td>-2.2733</td>\n",
       "    </tr>\n",
       "    <tr>\n",
       "      <th>64498</th>\n",
       "      <td>train_64498</td>\n",
       "      <td>0</td>\n",
       "      <td>0.9302</td>\n",
       "      <td>-4.0585</td>\n",
       "      <td>10.4719</td>\n",
       "      <td>4.2685</td>\n",
       "      <td>10.5250</td>\n",
       "      <td>-3.7847</td>\n",
       "      <td>6.4496</td>\n",
       "      <td>19.1617</td>\n",
       "      <td>...</td>\n",
       "      <td>-3.7415</td>\n",
       "      <td>4.6446</td>\n",
       "      <td>2.4373</td>\n",
       "      <td>4.0081</td>\n",
       "      <td>19.2551</td>\n",
       "      <td>-1.2743</td>\n",
       "      <td>4.5405</td>\n",
       "      <td>8.9674</td>\n",
       "      <td>16.4645</td>\n",
       "      <td>-6.3841</td>\n",
       "    </tr>\n",
       "    <tr>\n",
       "      <th>61234</th>\n",
       "      <td>train_61234</td>\n",
       "      <td>0</td>\n",
       "      <td>0.8935</td>\n",
       "      <td>-1.1103</td>\n",
       "      <td>12.9898</td>\n",
       "      <td>4.0356</td>\n",
       "      <td>10.5848</td>\n",
       "      <td>-15.5852</td>\n",
       "      <td>4.1182</td>\n",
       "      <td>23.7974</td>\n",
       "      <td>...</td>\n",
       "      <td>2.8518</td>\n",
       "      <td>6.2990</td>\n",
       "      <td>0.5955</td>\n",
       "      <td>-0.0631</td>\n",
       "      <td>17.2324</td>\n",
       "      <td>1.5028</td>\n",
       "      <td>10.4704</td>\n",
       "      <td>8.2172</td>\n",
       "      <td>20.5543</td>\n",
       "      <td>4.8313</td>\n",
       "    </tr>\n",
       "    <tr>\n",
       "      <th>131672</th>\n",
       "      <td>train_131672</td>\n",
       "      <td>1</td>\n",
       "      <td>0.4528</td>\n",
       "      <td>-8.9672</td>\n",
       "      <td>8.5680</td>\n",
       "      <td>9.9903</td>\n",
       "      <td>9.6665</td>\n",
       "      <td>-5.9784</td>\n",
       "      <td>6.8417</td>\n",
       "      <td>15.1417</td>\n",
       "      <td>...</td>\n",
       "      <td>8.4732</td>\n",
       "      <td>7.3606</td>\n",
       "      <td>-0.3074</td>\n",
       "      <td>3.7587</td>\n",
       "      <td>14.5545</td>\n",
       "      <td>1.3796</td>\n",
       "      <td>4.9518</td>\n",
       "      <td>9.4264</td>\n",
       "      <td>14.4396</td>\n",
       "      <td>11.4881</td>\n",
       "    </tr>\n",
       "  </tbody>\n",
       "</table>\n",
       "<p>6 rows × 202 columns</p>\n",
       "</div>"
      ],
      "text/plain": [
       "             ID_code  target   var_0   var_1    var_2   var_3    var_4  \\\n",
       "165885  train_165885       0  0.4084 -2.3580   6.4101  6.3512  11.6226   \n",
       "10693    train_10693       0  0.5979 -0.7717   8.4321  7.1216  11.0864   \n",
       "65328    train_65328       0  1.0147  0.0926  11.5542  6.1213  14.1236   \n",
       "64498    train_64498       0  0.9302 -4.0585  10.4719  4.2685  10.5250   \n",
       "61234    train_61234       0  0.8935 -1.1103  12.9898  4.0356  10.5848   \n",
       "131672  train_131672       1  0.4528 -8.9672   8.5680  9.9903   9.6665   \n",
       "\n",
       "          var_5   var_6    var_7   ...     var_190  var_191  var_192  var_193  \\\n",
       "165885   2.3006  4.3739  19.5745   ...      1.6410   8.2690   2.2166   4.5286   \n",
       "10693  -11.1819  7.2443  15.5612   ...     -3.2289  10.3603   2.2347   1.6486   \n",
       "65328    3.7310  7.0027  13.8855   ...      8.1236   9.5542   2.0134  10.2565   \n",
       "64498   -3.7847  6.4496  19.1617   ...     -3.7415   4.6446   2.4373   4.0081   \n",
       "61234  -15.5852  4.1182  23.7974   ...      2.8518   6.2990   0.5955  -0.0631   \n",
       "131672  -5.9784  6.8417  15.1417   ...      8.4732   7.3606  -0.3074   3.7587   \n",
       "\n",
       "        var_194  var_195  var_196  var_197  var_198  var_199  \n",
       "165885  16.0699  -0.4181  -3.5543   7.3749  13.1001 -16.6303  \n",
       "10693   17.3712  -3.6116   0.4931  10.1748  15.7862  -6.9688  \n",
       "65328   23.5217   0.6036   6.6042   9.0276  21.0147  -2.2733  \n",
       "64498   19.2551  -1.2743   4.5405   8.9674  16.4645  -6.3841  \n",
       "61234   17.2324   1.5028  10.4704   8.2172  20.5543   4.8313  \n",
       "131672  14.5545   1.3796   4.9518   9.4264  14.4396  11.4881  \n",
       "\n",
       "[6 rows x 202 columns]"
      ]
     },
     "execution_count": 290,
     "metadata": {},
     "output_type": "execute_result"
    }
   ],
   "source": [
    "xs"
   ]
  },
  {
   "cell_type": "code",
   "execution_count": 284,
   "metadata": {},
   "outputs": [],
   "source": [
    "xn = (X_train['var_'+str(i)]>x-stds[i]/c)&(X_train['var_'+str(i)]<x+stds[i]/c)"
   ]
  },
  {
   "cell_type": "markdown",
   "metadata": {},
   "source": [
    "# Create probabilities Matrix"
   ]
  },
  {
   "cell_type": "code",
   "execution_count": 285,
   "metadata": {},
   "outputs": [],
   "source": [
    "def get_pdf(i = 0, means=means, stds=stds, z_scores=z_scores):\n",
    "    ps = []\n",
    "    l_0 = []\n",
    "    l_1 = []\n",
    "    for z in z_scores:\n",
    "        x = z*stds[i] + means[i]\n",
    "        ps.append(get_Posterior(x, i))\n",
    "    return ps"
   ]
  },
  {
   "cell_type": "markdown",
   "metadata": {},
   "source": [
    "### Example with var_1"
   ]
  },
  {
   "cell_type": "code",
   "execution_count": 286,
   "metadata": {},
   "outputs": [
    {
     "name": "stdout",
     "output_type": "stream",
     "text": [
      "CPU times: user 4.46 s, sys: 0 ns, total: 4.46 s\n",
      "Wall time: 4.46 s\n"
     ]
    }
   ],
   "source": [
    "%time ps = get_pdf(i = 0)"
   ]
  },
  {
   "cell_type": "code",
   "execution_count": 287,
   "metadata": {},
   "outputs": [
    {
     "data": {
      "image/png": "[encoded data removed]",
      "text/plain": [
       "<Figure size 432x288 with 1 Axes>"
      ]
     },
     "metadata": {},
     "output_type": "display_data"
    }
   ],
   "source": [
    "# Posterior\n",
    "plt.plot(z_scores, ps)\n",
    "plt.show()"
   ]
  },
  {
   "cell_type": "code",
   "execution_count": null,
   "metadata": {},
   "outputs": [],
   "source": []
  }
 ],
 "metadata": {
  "kernelspec": {
   "display_name": "Python 3",
   "language": "python",
   "name": "python3"
  },
  "language_info": {
   "codemirror_mode": {
    "name": "ipython",
    "version": 3
   },
   "file_extension": ".py",
   "mimetype": "text/x-python",
   "name": "python",
   "nbconvert_exporter": "python",
   "pygments_lexer": "ipython3",
   "version": "3.6.8"
  }
 },
 "nbformat": 4,
 "nbformat_minor": 2
}
