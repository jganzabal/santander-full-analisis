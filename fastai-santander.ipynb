{
 "cells": [
  {
   "cell_type": "code",
   "execution_count": 1,
   "metadata": {
    "ExecuteTime": {
     "end_time": "2019-03-22T20:01:06.059265Z",
     "start_time": "2019-03-22T20:01:05.490632Z"
    }
   },
   "outputs": [],
   "source": [
    "%load_ext autoreload\n",
    "%autoreload 2\n",
    "%config InlineBackend.figure_format='retina'\n",
    "%matplotlib inline"
   ]
  },
  {
   "cell_type": "code",
   "execution_count": 2,
   "metadata": {
    "ExecuteTime": {
     "end_time": "2019-03-22T20:36:01.138721Z",
     "start_time": "2019-03-22T20:36:01.097032Z"
    }
   },
   "outputs": [],
   "source": [
    "import pandas as pd\n",
    "from pathlib import Path\n",
    "from fastai.tabular import * \n",
    "from sklearn.metrics import roc_auc_score, roc_curve\n",
    "from datetime import datetime"
   ]
  },
  {
   "cell_type": "code",
   "execution_count": 3,
   "metadata": {
    "ExecuteTime": {
     "end_time": "2019-03-22T20:01:08.553214Z",
     "start_time": "2019-03-22T20:01:08.512889Z"
    }
   },
   "outputs": [],
   "source": [
    "datapath = Path('data')"
   ]
  },
  {
   "cell_type": "code",
   "execution_count": 4,
   "metadata": {},
   "outputs": [],
   "source": [
    "BATCH_SIZE = 256\n",
    "np.random.seed(123)"
   ]
  },
  {
   "cell_type": "markdown",
   "metadata": {
    "ExecuteTime": {
     "end_time": "2019-03-22T21:19:08.456303Z",
     "start_time": "2019-03-22T20:59:30.521Z"
    }
   },
   "source": [
    "### Create ROC metric class"
   ]
  },
  {
   "cell_type": "code",
   "execution_count": 5,
   "metadata": {
    "ExecuteTime": {
     "end_time": "2019-03-22T21:28:14.806348Z",
     "start_time": "2019-03-22T21:28:14.687265Z"
    }
   },
   "outputs": [],
   "source": [
    "class roc(Callback):\n",
    "    '''\n",
    "    ROC_AUC metric callback for fastai. Compute ROC score over each batch and returns the average over batches.\n",
    "    TO DO: rolling average\n",
    "    '''\n",
    "    def on_epoch_begin(self, **kwargs):\n",
    "        self.total = 0\n",
    "        self.batch_count = 0\n",
    "    \n",
    "    def on_batch_end(self, last_output, last_target, **kwargs):\n",
    "        preds = F.softmax(last_output, dim=1)\n",
    "        # roc_auc_score does not work on batches which does not contain both classes.\n",
    "        try:\n",
    "            roc_score = roc_auc_score(to_np(last_target), to_np(preds[:,1]))\n",
    "            self.total += roc_score\n",
    "            self.batch_count += 1\n",
    "        except:\n",
    "            pass\n",
    "    \n",
    "    def on_epoch_end(self, num_batch, **kwargs):\n",
    "        self.metric = self.total/self.batch_count"
   ]
  },
  {
   "cell_type": "markdown",
   "metadata": {},
   "source": [
    "### Read Training Data"
   ]
  },
  {
   "cell_type": "code",
   "execution_count": null,
   "metadata": {
    "ExecuteTime": {
     "end_time": "2019-03-22T20:08:57.122439Z",
     "start_time": "2019-03-22T20:08:51.207869Z"
    }
   },
   "outputs": [],
   "source": [
    "df = pd.read_csv(datapath / 'train.csv')\n",
    "df.head()"
   ]
  },
  {
   "cell_type": "code",
   "execution_count": null,
   "metadata": {
    "ExecuteTime": {
     "end_time": "2019-03-22T20:09:00.871060Z",
     "start_time": "2019-03-22T20:09:00.832912Z"
    }
   },
   "outputs": [],
   "source": [
    "valid_idx = range(len(df)-20_000, len(df))\n",
    "valid_idx"
   ]
  },
  {
   "cell_type": "markdown",
   "metadata": {},
   "source": [
    "### Read Test Data"
   ]
  },
  {
   "cell_type": "code",
   "execution_count": null,
   "metadata": {
    "ExecuteTime": {
     "end_time": "2019-03-22T20:09:09.860325Z",
     "start_time": "2019-03-22T20:09:03.767014Z"
    }
   },
   "outputs": [],
   "source": [
    "test_df = pd.read_csv(datapath / 'test.csv').set_index('ID_code')\n",
    "test_df.head()"
   ]
  },
  {
   "cell_type": "markdown",
   "metadata": {},
   "source": [
    "### Create DataBunch"
   ]
  },
  {
   "cell_type": "code",
   "execution_count": null,
   "metadata": {
    "ExecuteTime": {
     "end_time": "2019-03-22T20:09:15.068736Z",
     "start_time": "2019-03-22T20:09:11.050918Z"
    }
   },
   "outputs": [],
   "source": [
    "data = TabularDataBunch.from_df(\n",
    "    path = '.',\n",
    "    df = df.drop(columns='ID_code'),\n",
    "    dep_var = 'target',\n",
    "    valid_idx = valid_idx,\n",
    "    test_df = test_df, bs = BATCH_SIZE)"
   ]
  },
  {
   "cell_type": "markdown",
   "metadata": {},
   "source": [
    "### Create and fit Model"
   ]
  },
  {
   "cell_type": "code",
   "execution_count": null,
   "metadata": {
    "ExecuteTime": {
     "end_time": "2019-03-22T18:52:22.511108Z",
     "start_time": "2019-03-22T18:52:22.454688Z"
    }
   },
   "outputs": [],
   "source": [
    "learner = tabular_learner(data, layers=[200,100], metrics=[roc()], ps=.4)"
   ]
  },
  {
   "cell_type": "code",
   "execution_count": null,
   "metadata": {
    "ExecuteTime": {
     "end_time": "2019-03-22T18:52:45.305946Z",
     "start_time": "2019-03-22T18:52:22.513645Z"
    }
   },
   "outputs": [],
   "source": [
    "learner.fit_one_cycle(1)"
   ]
  },
  {
   "cell_type": "code",
   "execution_count": null,
   "metadata": {
    "ExecuteTime": {
     "end_time": "2019-03-22T18:52:46.949976Z",
     "start_time": "2019-03-22T18:52:45.308214Z"
    }
   },
   "outputs": [],
   "source": [
    "learner.lr_find()\n",
    "learner.recorder.plot()"
   ]
  },
  {
   "cell_type": "code",
   "execution_count": null,
   "metadata": {
    "ExecuteTime": {
     "end_time": "2019-03-22T18:55:12.958581Z",
     "start_time": "2019-03-22T18:52:46.952399Z"
    }
   },
   "outputs": [],
   "source": [
    "learner.fit_one_cycle(10, 1e-4)"
   ]
  },
  {
   "cell_type": "code",
   "execution_count": null,
   "metadata": {
    "ExecuteTime": {
     "end_time": "2019-03-22T18:55:14.623963Z",
     "start_time": "2019-03-22T18:55:12.961385Z"
    }
   },
   "outputs": [],
   "source": [
    "prediction = learner.get_preds()"
   ]
  },
  {
   "cell_type": "code",
   "execution_count": null,
   "metadata": {
    "ExecuteTime": {
     "end_time": "2019-03-22T18:55:14.753950Z",
     "start_time": "2019-03-22T18:55:14.626614Z"
    }
   },
   "outputs": [],
   "source": [
    "valid_auc_score = roc_auc_score(df.loc[valid_idx]['target'].values, prediction[0].numpy()[:,1])\n",
    "valid_auc_score"
   ]
  },
  {
   "cell_type": "code",
   "execution_count": null,
   "metadata": {
    "ExecuteTime": {
     "end_time": "2019-03-22T18:55:15.075459Z",
     "start_time": "2019-03-22T18:55:14.756589Z"
    }
   },
   "outputs": [],
   "source": [
    "fpr, tpr, _ = roc_curve(df.loc[valid_idx]['target'].values, prediction[0].numpy()[:,1])\n",
    "plt.figure(figsize=(9,9))\n",
    "plt.plot(fpr, tpr)\n",
    "plt.show()"
   ]
  },
  {
   "cell_type": "code",
   "execution_count": null,
   "metadata": {},
   "outputs": [],
   "source": [
    "log_odds = np.log(prediction[0].numpy()[:,1] / prediction[0].numpy()[:,0])"
   ]
  },
  {
   "cell_type": "code",
   "execution_count": null,
   "metadata": {},
   "outputs": [],
   "source": [
    "_ = plt.hist(log_odds, 50)"
   ]
  },
  {
   "cell_type": "markdown",
   "metadata": {},
   "source": [
    "### Test and submit"
   ]
  },
  {
   "cell_type": "code",
   "execution_count": null,
   "metadata": {
    "ExecuteTime": {
     "end_time": "2019-03-22T18:55:22.539793Z",
     "start_time": "2019-03-22T18:55:15.077139Z"
    }
   },
   "outputs": [],
   "source": [
    "test_predicts, _ = learner.get_preds(ds_type=DatasetType.Test)"
   ]
  },
  {
   "cell_type": "code",
   "execution_count": null,
   "metadata": {
    "ExecuteTime": {
     "end_time": "2019-03-22T18:55:22.592231Z",
     "start_time": "2019-03-22T18:55:22.542429Z"
    }
   },
   "outputs": [],
   "source": [
    "test_predicts.shape"
   ]
  },
  {
   "cell_type": "code",
   "execution_count": null,
   "metadata": {
    "ExecuteTime": {
     "end_time": "2019-03-22T18:55:22.639054Z",
     "start_time": "2019-03-22T18:55:22.593832Z"
    }
   },
   "outputs": [],
   "source": [
    "test_df['target'] = test_predicts.numpy()[:,1]"
   ]
  },
  {
   "cell_type": "code",
   "execution_count": null,
   "metadata": {
    "ExecuteTime": {
     "end_time": "2019-03-22T18:55:22.681758Z",
     "start_time": "2019-03-22T18:55:22.640573Z"
    }
   },
   "outputs": [],
   "source": [
    "# add timestamp to submission\n",
    "now = datetime.now()\n",
    "model_time = now.strftime(\"%Y%m%d-%H%M\")"
   ]
  },
  {
   "cell_type": "code",
   "execution_count": null,
   "metadata": {
    "ExecuteTime": {
     "end_time": "2019-03-22T18:55:23.091459Z",
     "start_time": "2019-03-22T18:55:22.683146Z"
    }
   },
   "outputs": [],
   "source": [
    "test_df[['target']].to_csv(f'submission_fastai_ensemble_{model_time}_{valid_auc_score}.csv')"
   ]
  },
  {
   "cell_type": "markdown",
   "metadata": {},
   "source": [
    "### Data augmentation"
   ]
  },
  {
   "cell_type": "code",
   "execution_count": null,
   "metadata": {},
   "outputs": [],
   "source": [
    "df = pd.read_csv(datapath / 'train.csv')\n",
    "test_df = pd.read_csv(datapath / 'test.csv').set_index('ID_code')"
   ]
  },
  {
   "cell_type": "code",
   "execution_count": null,
   "metadata": {},
   "outputs": [],
   "source": [
    "def augment_rows(x,y,t=2):\n",
    "    xs,xn = [],[]\n",
    "    for i in range(t):\n",
    "        x1 = x[y==1].copy()\n",
    "        ids = np.arange(x1.shape[0])\n",
    "        for c in range(x1.shape[1]):\n",
    "            np.random.shuffle(ids)\n",
    "            x1[:,c] = x1[:,c][ids]\n",
    "        xs.append(x1)\n",
    "\n",
    "    for i in range(t//2):\n",
    "        x1 = x[y==0].copy()\n",
    "        ids = np.arange(x1.shape[0])\n",
    "        for c in range(x1.shape[1]):\n",
    "            np.random.shuffle(ids)\n",
    "            x1[:,c] = x1[:,c][ids]\n",
    "        xn.append(x1)\n",
    "\n",
    "    xs = np.vstack(xs)\n",
    "    xn = np.vstack(xn)\n",
    "    ys = np.ones(xs.shape[0])\n",
    "    yn = np.zeros(xn.shape[0])\n",
    "    x = np.vstack([x,xs,xn])\n",
    "    y = np.concatenate([y,ys,yn])\n",
    "    return x,y"
   ]
  },
  {
   "cell_type": "code",
   "execution_count": null,
   "metadata": {},
   "outputs": [],
   "source": [
    "x_augmented, y_augmented = augment_rows(df.drop(columns=['ID_code', 'target']).to_numpy(), df['target'].to_numpy())\n",
    "x_augmented.shape"
   ]
  },
  {
   "cell_type": "code",
   "execution_count": null,
   "metadata": {},
   "outputs": [],
   "source": [
    "augmented_df = DataFrame(data=x_augmented, columns=df.columns[2:])\n",
    "augmented_df['target'] = np.array(y_augmented, dtype=int)\n",
    "augmented_df.head()"
   ]
  },
  {
   "cell_type": "code",
   "execution_count": null,
   "metadata": {
    "ExecuteTime": {
     "end_time": "2019-03-22T20:09:22.037281Z",
     "start_time": "2019-03-22T20:09:21.993937Z"
    }
   },
   "outputs": [],
   "source": [
    "columns = df.columns[2:]\n",
    "\n",
    "def augment_columns(df):\n",
    "    for feature in columns:\n",
    "        df[f'sq_{feature}'] = df[feature]**2\n",
    "#         df[f'repo_{feature}'] = df[feature].apply(lambda x: 0 if x==0 else 1/x)\n",
    "#         df[f'repo_sq_{feature}'] = df[f'repo_{feature}']**2\n",
    "        df[f'cube_{feature}'] = df[feature]**3\n",
    "#         df[f'repo_cube_{feature}'] = df[f'repo_{feature}']**3"
   ]
  },
  {
   "cell_type": "code",
   "execution_count": null,
   "metadata": {},
   "outputs": [],
   "source": [
    "augment_columns(augmented_df)"
   ]
  },
  {
   "cell_type": "code",
   "execution_count": null,
   "metadata": {},
   "outputs": [],
   "source": [
    "augment_columns(test_df)"
   ]
  },
  {
   "cell_type": "code",
   "execution_count": null,
   "metadata": {
    "ExecuteTime": {
     "end_time": "2019-03-22T20:14:25.372009Z",
     "start_time": "2019-03-22T20:14:24.933072Z"
    }
   },
   "outputs": [],
   "source": [
    "augmented_df.head()"
   ]
  },
  {
   "cell_type": "code",
   "execution_count": null,
   "metadata": {},
   "outputs": [],
   "source": [
    "test_df.head()"
   ]
  },
  {
   "cell_type": "code",
   "execution_count": null,
   "metadata": {
    "ExecuteTime": {
     "end_time": "2019-03-22T20:18:24.960818Z",
     "start_time": "2019-03-22T20:18:24.921372Z"
    }
   },
   "outputs": [],
   "source": [
    "valid_idx = range(len(df)-40_000, len(df))\n",
    "valid_idx"
   ]
  },
  {
   "cell_type": "code",
   "execution_count": null,
   "metadata": {},
   "outputs": [],
   "source": [
    "augmented_df.shape"
   ]
  },
  {
   "cell_type": "code",
   "execution_count": null,
   "metadata": {},
   "outputs": [],
   "source": [
    "valid_idx = range(0)\n",
    "valid_idx"
   ]
  },
  {
   "cell_type": "code",
   "execution_count": null,
   "metadata": {
    "ExecuteTime": {
     "end_time": "2019-03-22T20:18:37.204329Z",
     "start_time": "2019-03-22T20:18:30.832058Z"
    }
   },
   "outputs": [],
   "source": [
    "augmented_data = TabularDataBunch.from_df(\n",
    "    path = '.',\n",
    "    df = augmented_df,\n",
    "    dep_var = 'target',\n",
    "    valid_idx = valid_idx,\n",
    "    test_df = test_df,\n",
    "    bs = BATCH_SIZE)"
   ]
  },
  {
   "cell_type": "markdown",
   "metadata": {},
   "source": [
    "### Create and fit Model"
   ]
  },
  {
   "cell_type": "code",
   "execution_count": null,
   "metadata": {
    "ExecuteTime": {
     "end_time": "2019-03-22T20:56:04.777224Z",
     "start_time": "2019-03-22T20:56:04.732471Z"
    }
   },
   "outputs": [],
   "source": [
    "learner = tabular_learner(augmented_data, layers=[200,100], metrics=[accuracy, roc()], ps=.5)"
   ]
  },
  {
   "cell_type": "code",
   "execution_count": null,
   "metadata": {
    "ExecuteTime": {
     "end_time": "2019-03-22T20:57:13.527024Z",
     "start_time": "2019-03-22T20:56:11.470719Z"
    }
   },
   "outputs": [],
   "source": [
    "learner.fit_one_cycle(1)"
   ]
  },
  {
   "cell_type": "code",
   "execution_count": null,
   "metadata": {
    "ExecuteTime": {
     "end_time": "2019-03-22T20:57:23.370125Z",
     "start_time": "2019-03-22T20:57:21.079972Z"
    }
   },
   "outputs": [],
   "source": [
    "learner.lr_find()\n",
    "learner.recorder.plot()"
   ]
  },
  {
   "cell_type": "code",
   "execution_count": null,
   "metadata": {
    "ExecuteTime": {
     "end_time": "2019-03-22T21:19:08.044069Z",
     "start_time": "2019-03-22T20:57:56.905443Z"
    }
   },
   "outputs": [],
   "source": [
    "learner.fit_one_cycle(20, 3e-5)"
   ]
  },
  {
   "cell_type": "code",
   "execution_count": null,
   "metadata": {
    "ExecuteTime": {
     "end_time": "2019-03-22T21:29:40.586259Z",
     "start_time": "2019-03-22T21:29:38.836781Z"
    }
   },
   "outputs": [],
   "source": [
    "prediction = learner.get_preds()"
   ]
  },
  {
   "cell_type": "code",
   "execution_count": null,
   "metadata": {},
   "outputs": [],
   "source": [
    "learner.save('augmented_rows_full_train')"
   ]
  },
  {
   "cell_type": "code",
   "execution_count": null,
   "metadata": {
    "ExecuteTime": {
     "end_time": "2019-03-22T21:29:43.259931Z",
     "start_time": "2019-03-22T21:29:43.161075Z"
    }
   },
   "outputs": [],
   "source": [
    "valid_auc_score = roc_auc_score(df.loc[valid_idx]['target'].values, prediction[0].numpy()[:,1])\n",
    "valid_auc_score"
   ]
  },
  {
   "cell_type": "markdown",
   "metadata": {},
   "source": [
    "### Test and submit"
   ]
  },
  {
   "cell_type": "code",
   "execution_count": null,
   "metadata": {
    "ExecuteTime": {
     "start_time": "2019-03-23T14:52:53.248Z"
    }
   },
   "outputs": [],
   "source": [
    "test_predicts, _ = learner.get_preds(ds_type=DatasetType.Test)"
   ]
  },
  {
   "cell_type": "code",
   "execution_count": null,
   "metadata": {
    "ExecuteTime": {
     "end_time": "2019-03-22T20:37:20.520307Z",
     "start_time": "2019-03-22T20:37:20.479993Z"
    }
   },
   "outputs": [],
   "source": [
    "test_predicts.shape"
   ]
  },
  {
   "cell_type": "code",
   "execution_count": null,
   "metadata": {
    "ExecuteTime": {
     "end_time": "2019-03-22T20:37:25.069433Z",
     "start_time": "2019-03-22T20:37:25.026287Z"
    }
   },
   "outputs": [],
   "source": [
    "test_df['target'] = test_predicts.numpy()[:,1]"
   ]
  },
  {
   "cell_type": "code",
   "execution_count": null,
   "metadata": {
    "ExecuteTime": {
     "end_time": "2019-03-22T20:37:27.136896Z",
     "start_time": "2019-03-22T20:37:27.095178Z"
    }
   },
   "outputs": [],
   "source": [
    "# add timestamp to submission\n",
    "now = datetime.now()\n",
    "model_time = now.strftime(\"%Y%m%d-%H%M\")"
   ]
  },
  {
   "cell_type": "code",
   "execution_count": null,
   "metadata": {
    "ExecuteTime": {
     "end_time": "2019-03-22T20:37:50.682836Z",
     "start_time": "2019-03-22T20:37:50.263085Z"
    }
   },
   "outputs": [],
   "source": [
    "csv_filename = f'submission_fastai_{model_time}_{valid_auc_score}.csv'\n",
    "test_df[['target']].to_csv(csv_filename)"
   ]
  },
  {
   "cell_type": "code",
   "execution_count": null,
   "metadata": {
    "ExecuteTime": {
     "end_time": "2019-03-22T20:38:46.458206Z",
     "start_time": "2019-03-22T20:38:39.230169Z"
    }
   },
   "outputs": [],
   "source": [
    "! kaggle competitions submit -f {csv_filename} -m \"New score\" santander-customer-transaction-prediction"
   ]
  },
  {
   "cell_type": "code",
   "execution_count": null,
   "metadata": {
    "ExecuteTime": {
     "start_time": "2019-03-23T14:54:42.368Z"
    }
   },
   "outputs": [],
   "source": [
    "csv_filename"
   ]
  },
  {
   "cell_type": "markdown",
   "metadata": {},
   "source": [
    "## Load Model and predict"
   ]
  },
  {
   "cell_type": "code",
   "execution_count": 14,
   "metadata": {
    "ExecuteTime": {
     "end_time": "2019-03-22T20:08:57.122439Z",
     "start_time": "2019-03-22T20:08:51.207869Z"
    }
   },
   "outputs": [
    {
     "data": {
      "text/html": [
       "<div>\n",
       "<style scoped>\n",
       "    .dataframe tbody tr th:only-of-type {\n",
       "        vertical-align: middle;\n",
       "    }\n",
       "\n",
       "    .dataframe tbody tr th {\n",
       "        vertical-align: top;\n",
       "    }\n",
       "\n",
       "    .dataframe thead th {\n",
       "        text-align: right;\n",
       "    }\n",
       "</style>\n",
       "<table border=\"1\" class=\"dataframe\">\n",
       "  <thead>\n",
       "    <tr style=\"text-align: right;\">\n",
       "      <th></th>\n",
       "      <th>ID_code</th>\n",
       "      <th>target</th>\n",
       "      <th>var_0</th>\n",
       "      <th>var_1</th>\n",
       "      <th>var_2</th>\n",
       "      <th>var_3</th>\n",
       "      <th>var_4</th>\n",
       "      <th>var_5</th>\n",
       "      <th>var_6</th>\n",
       "      <th>var_7</th>\n",
       "      <th>...</th>\n",
       "      <th>var_190</th>\n",
       "      <th>var_191</th>\n",
       "      <th>var_192</th>\n",
       "      <th>var_193</th>\n",
       "      <th>var_194</th>\n",
       "      <th>var_195</th>\n",
       "      <th>var_196</th>\n",
       "      <th>var_197</th>\n",
       "      <th>var_198</th>\n",
       "      <th>var_199</th>\n",
       "    </tr>\n",
       "  </thead>\n",
       "  <tbody>\n",
       "    <tr>\n",
       "      <th>0</th>\n",
       "      <td>train_0</td>\n",
       "      <td>0</td>\n",
       "      <td>8.9255</td>\n",
       "      <td>-6.7863</td>\n",
       "      <td>11.9081</td>\n",
       "      <td>5.0930</td>\n",
       "      <td>11.4607</td>\n",
       "      <td>-9.2834</td>\n",
       "      <td>5.1187</td>\n",
       "      <td>18.6266</td>\n",
       "      <td>...</td>\n",
       "      <td>4.4354</td>\n",
       "      <td>3.9642</td>\n",
       "      <td>3.1364</td>\n",
       "      <td>1.6910</td>\n",
       "      <td>18.5227</td>\n",
       "      <td>-2.3978</td>\n",
       "      <td>7.8784</td>\n",
       "      <td>8.5635</td>\n",
       "      <td>12.7803</td>\n",
       "      <td>-1.0914</td>\n",
       "    </tr>\n",
       "    <tr>\n",
       "      <th>1</th>\n",
       "      <td>train_1</td>\n",
       "      <td>0</td>\n",
       "      <td>11.5006</td>\n",
       "      <td>-4.1473</td>\n",
       "      <td>13.8588</td>\n",
       "      <td>5.3890</td>\n",
       "      <td>12.3622</td>\n",
       "      <td>7.0433</td>\n",
       "      <td>5.6208</td>\n",
       "      <td>16.5338</td>\n",
       "      <td>...</td>\n",
       "      <td>7.6421</td>\n",
       "      <td>7.7214</td>\n",
       "      <td>2.5837</td>\n",
       "      <td>10.9516</td>\n",
       "      <td>15.4305</td>\n",
       "      <td>2.0339</td>\n",
       "      <td>8.1267</td>\n",
       "      <td>8.7889</td>\n",
       "      <td>18.3560</td>\n",
       "      <td>1.9518</td>\n",
       "    </tr>\n",
       "    <tr>\n",
       "      <th>2</th>\n",
       "      <td>train_2</td>\n",
       "      <td>0</td>\n",
       "      <td>8.6093</td>\n",
       "      <td>-2.7457</td>\n",
       "      <td>12.0805</td>\n",
       "      <td>7.8928</td>\n",
       "      <td>10.5825</td>\n",
       "      <td>-9.0837</td>\n",
       "      <td>6.9427</td>\n",
       "      <td>14.6155</td>\n",
       "      <td>...</td>\n",
       "      <td>2.9057</td>\n",
       "      <td>9.7905</td>\n",
       "      <td>1.6704</td>\n",
       "      <td>1.6858</td>\n",
       "      <td>21.6042</td>\n",
       "      <td>3.1417</td>\n",
       "      <td>-6.5213</td>\n",
       "      <td>8.2675</td>\n",
       "      <td>14.7222</td>\n",
       "      <td>0.3965</td>\n",
       "    </tr>\n",
       "    <tr>\n",
       "      <th>3</th>\n",
       "      <td>train_3</td>\n",
       "      <td>0</td>\n",
       "      <td>11.0604</td>\n",
       "      <td>-2.1518</td>\n",
       "      <td>8.9522</td>\n",
       "      <td>7.1957</td>\n",
       "      <td>12.5846</td>\n",
       "      <td>-1.8361</td>\n",
       "      <td>5.8428</td>\n",
       "      <td>14.9250</td>\n",
       "      <td>...</td>\n",
       "      <td>4.4666</td>\n",
       "      <td>4.7433</td>\n",
       "      <td>0.7178</td>\n",
       "      <td>1.4214</td>\n",
       "      <td>23.0347</td>\n",
       "      <td>-1.2706</td>\n",
       "      <td>-2.9275</td>\n",
       "      <td>10.2922</td>\n",
       "      <td>17.9697</td>\n",
       "      <td>-8.9996</td>\n",
       "    </tr>\n",
       "    <tr>\n",
       "      <th>4</th>\n",
       "      <td>train_4</td>\n",
       "      <td>0</td>\n",
       "      <td>9.8369</td>\n",
       "      <td>-1.4834</td>\n",
       "      <td>12.8746</td>\n",
       "      <td>6.6375</td>\n",
       "      <td>12.2772</td>\n",
       "      <td>2.4486</td>\n",
       "      <td>5.9405</td>\n",
       "      <td>19.2514</td>\n",
       "      <td>...</td>\n",
       "      <td>-1.4905</td>\n",
       "      <td>9.5214</td>\n",
       "      <td>-0.1508</td>\n",
       "      <td>9.1942</td>\n",
       "      <td>13.2876</td>\n",
       "      <td>-1.5121</td>\n",
       "      <td>3.9267</td>\n",
       "      <td>9.5031</td>\n",
       "      <td>17.9974</td>\n",
       "      <td>-8.8104</td>\n",
       "    </tr>\n",
       "  </tbody>\n",
       "</table>\n",
       "<p>5 rows × 202 columns</p>\n",
       "</div>"
      ],
      "text/plain": [
       "   ID_code  target    var_0   var_1    var_2   var_3    var_4   var_5   var_6  \\\n",
       "0  train_0       0   8.9255 -6.7863  11.9081  5.0930  11.4607 -9.2834  5.1187   \n",
       "1  train_1       0  11.5006 -4.1473  13.8588  5.3890  12.3622  7.0433  5.6208   \n",
       "2  train_2       0   8.6093 -2.7457  12.0805  7.8928  10.5825 -9.0837  6.9427   \n",
       "3  train_3       0  11.0604 -2.1518   8.9522  7.1957  12.5846 -1.8361  5.8428   \n",
       "4  train_4       0   9.8369 -1.4834  12.8746  6.6375  12.2772  2.4486  5.9405   \n",
       "\n",
       "     var_7  ...  var_190  var_191  var_192  var_193  var_194  var_195  \\\n",
       "0  18.6266  ...   4.4354   3.9642   3.1364   1.6910  18.5227  -2.3978   \n",
       "1  16.5338  ...   7.6421   7.7214   2.5837  10.9516  15.4305   2.0339   \n",
       "2  14.6155  ...   2.9057   9.7905   1.6704   1.6858  21.6042   3.1417   \n",
       "3  14.9250  ...   4.4666   4.7433   0.7178   1.4214  23.0347  -1.2706   \n",
       "4  19.2514  ...  -1.4905   9.5214  -0.1508   9.1942  13.2876  -1.5121   \n",
       "\n",
       "   var_196  var_197  var_198  var_199  \n",
       "0   7.8784   8.5635  12.7803  -1.0914  \n",
       "1   8.1267   8.7889  18.3560   1.9518  \n",
       "2  -6.5213   8.2675  14.7222   0.3965  \n",
       "3  -2.9275  10.2922  17.9697  -8.9996  \n",
       "4   3.9267   9.5031  17.9974  -8.8104  \n",
       "\n",
       "[5 rows x 202 columns]"
      ]
     },
     "execution_count": 14,
     "metadata": {},
     "output_type": "execute_result"
    }
   ],
   "source": [
    "df = pd.read_csv(datapath / 'train.csv')\n",
    "df.head()"
   ]
  },
  {
   "cell_type": "code",
   "execution_count": 15,
   "metadata": {
    "ExecuteTime": {
     "end_time": "2019-03-22T20:18:37.204329Z",
     "start_time": "2019-03-22T20:18:30.832058Z"
    }
   },
   "outputs": [
    {
     "name": "stderr",
     "output_type": "stream",
     "text": [
      "/Users/jschwindt/miniconda3/envs/fastai/lib/python3.7/site-packages/fastai/data_block.py:418: UserWarning: Your validation set is empty. If this is by design, use `no_split()`\n",
      "                 or pass `ignore_empty=True` when labelling to remove this warning.\n",
      "  or pass `ignore_empty=True` when labelling to remove this warning.\"\"\")\n"
     ]
    }
   ],
   "source": [
    "valid_idx = range(0)\n",
    "data = TabularDataBunch.from_df(\n",
    "    path = '.',\n",
    "    df = df.drop(columns='ID_code'),\n",
    "    dep_var = 'target',\n",
    "    valid_idx = valid_idx,\n",
    "    test_df = df.drop(columns=['ID_code','target']))"
   ]
  },
  {
   "cell_type": "code",
   "execution_count": 19,
   "metadata": {},
   "outputs": [],
   "source": [
    "learner = tabular_learner(data, layers=[200,100], ps=.5)"
   ]
  },
  {
   "cell_type": "code",
   "execution_count": 20,
   "metadata": {},
   "outputs": [
    {
     "data": {
      "text/plain": [
       "Learner(data=TabularDataBunch;\n",
       "\n",
       "Train: LabelList (200000 items)\n",
       "x: TabularList\n",
       "var_184 25.8398; var_119 7.2739; var_198 12.7803; var_171 -8.4254; var_2 11.9081; var_28 4.9306; var_8 -4.9200; var_36 0.6764; var_41 7.3746; var_100 9.4763; var_18 4.2840; var_152 9.0056; var_22 2.5791; var_11 3.1821; var_57 5.3822; var_142 19.0614; var_175 7.7423; var_54 -0.7474; var_113 -0.4851; var_104 14.7100; var_83 2.9423; var_138 2.8279; var_6 5.1187; var_94 14.8421; var_64 8.6748; var_192 3.1364; var_5 -9.2834; var_195 -2.3978; var_121 9.7268; var_130 12.8287; var_45 -7.0170; var_1 -6.7863; var_183 14.3691; var_35 10.5785; var_13 0.5745; var_59 10.1166; var_134 5.1726; var_165 12.6644; var_7 18.6266; var_167 -0.6975; var_98 2.1743; var_37 7.8871; var_109 24.3627; var_140 8.3307; var_38 4.6667; var_30 -0.3085; var_125 12.0039; var_29 5.9965; var_173 3.1531; var_149 17.9244; var_32 -3.8766; var_0 8.9255; var_55 14.8322; var_156 12.1749; var_82 1.3675; var_93 9.9913; var_123 0.7754; var_177 13.7241; var_90 -21.4494; var_161 5.3133; var_199 -1.0914; var_86 9.3225; var_143 11.2663; var_179 1.7202; var_9 5.7470; var_21 16.2191; var_70 21.6374; var_160 15.4576; var_73 8.8600; var_75 18.3816; var_61 4.9590; var_65 9.5319; var_80 13.6468; var_96 8.9642; var_91 6.7806; var_52 -0.6940; var_15 14.5691; var_111 6.7602; var_71 0.5663; var_53 5.1736; var_166 2.7004; var_126 13.8571; var_178 -3.5189; var_135 3.1345; var_117 15.5752; var_92 11.0924; var_4 11.4607; var_62 2.0771; var_81 13.8372; var_115 1.5093; var_170 -4.7645; var_49 5.3253; var_193 1.6910; var_56 11.2668; var_187 -19.7159; var_169 5.4879; var_51 29.0460; var_144 8.6989; var_114 2.5240; var_24 14.3831; var_150 18.5177; var_176 -10.1245; var_48 16.0283; var_127 -0.7338; var_196 7.8784; var_155 1.6573; var_118 -13.4221; var_10 2.9252; var_34 11.1920; var_40 -5.2387; var_78 6.5199; var_151 10.7800; var_163 5.0384; var_164 6.6760; var_137 31.4045; var_63 -0.2154; var_153 16.6964; var_95 0.1812; var_99 -3.4132; var_148 4.0288; var_12 14.0137; var_79 12.1983; var_172 20.8773; var_190 4.4354; var_182 3.0657; var_139 15.6599; var_58 2.0183; var_19 30.7133; var_23 2.4716; var_180 -8.4051; var_76 -2.3440; var_105 6.0454; var_194 18.5227; var_128 -1.9245; var_186 11.8411; var_20 10.5350; var_120 16.0094; var_147 -16.4727; var_103 1.4403; var_146 11.5659; var_154 10.4838; var_188 17.5743; var_101 13.3102; var_42 11.5767; var_84 -4.5213; var_27 -0.4073; var_72 5.1999; var_47 -14.2136; var_185 5.8764; var_107 17.1554; var_131 0.3587; var_60 16.1828; var_68 5.0109; var_17 -7.2393; var_14 8.7989; var_26 -5.1488; var_3 5.0930; var_191 3.9642; var_141 -5.6011; var_97 16.2572; var_158 17.6054; var_197 8.5635; var_181 9.0164; var_89 -1.7069; var_168 9.5981; var_189 0.5857; var_116 2.5516; var_33 16.8911; var_162 3.6159; var_87 16.4597; var_110 2.0323; var_102 26.5376; var_85 21.4669; var_39 3.8743; var_44 11.6418; var_112 3.9141; var_77 23.4104; var_159 11.5423; var_133 6.5674; var_88 7.9984; var_145 8.3694; var_46 5.9226; var_50 12.9194; var_106 9.5426; var_108 14.1104; var_43 12.0446; var_66 5.8056; var_136 29.4547; var_31 12.9041; var_129 15.4462; var_124 4.2218; var_122 0.8897; var_67 22.4321; var_74 43.1127; var_174 18.5618; var_16 5.7487; var_25 13.4325; var_157 -13.1324; var_69 -4.7010; var_132 9.6508; ,var_184 22.5441; var_119 7.5109; var_198 18.3560; var_171 5.0988; var_2 13.8588; var_28 5.0464; var_8 3.1468; var_36 2.7995; var_41 1.8730; var_100 -13.6950; var_18 7.8000; var_152 9.4317; var_22 8.5524; var_11 8.0585; var_57 7.0118; var_142 -0.3243; var_175 10.4968; var_54 -8.0946; var_113 8.5426; var_104 15.1866; var_83 -4.8210; var_138 -1.9721; var_6 5.6208; var_94 11.7569; var_64 8.1042; var_192 2.5837; var_5 7.0433; var_195 2.0339; var_121 9.5018; var_130 12.4205; var_45 -47.3797; var_1 -4.1473; var_183 9.4245; var_35 0.7399; var_13 8.4135; var_59 8.8682; var_134 1.9568; var_165 15.1345; var_7 16.5338; var_167 9.3192; var_98 1.8944; var_37 5.8434; var_109 13.0858; var_140 3.6937; var_38 10.8160; var_30 -9.2987; var_125 12.5942; var_29 0.5481; var_173 5.5134; var_149 -4.4223; var_32 1.2859; var_0 11.5006; var_55 18.5995; var_156 12.2419; var_82 0.3683; var_93 10.9631; var_123 10.1633; var_177 16.5721; var_90 0.4768; var_161 5.8683; var_199 1.9518; var_86 -13.5901; var_143 12.2806; var_179 11.0752; var_9 8.0851; var_21 2.7407; var_70 40.5632; var_160 29.4846; var_73 20.1068; var_75 7.0529; var_61 -7.2417; var_65 1.5365; var_80 2.5462; var_96 24.7876; var_91 6.8852; var_52 -4.1083; var_15 13.7003; var_111 7.1051; var_71 0.5134; var_53 6.6885; var_166 3.2003; var_126 14.5697; var_178 -7.3477; var_135 -8.9921; var_117 7.8522; var_92 8.0905; var_4 12.3622; var_62 1.7944; var_81 18.1782; var_115 4.1569; var_170 5.5378; var_49 25.7037; var_193 10.9516; var_56 19.3219; var_187 -15.9319; var_169 5.7999; var_51 13.2256; var_144 8.6086; var_114 3.6159; var_24 6.9779; var_150 20.6294; var_176 -7.2352; var_48 34.4014; var_127 2.4354; var_196 8.1267; var_155 0.1898; var_118 -11.5100; var_10 -0.4032; var_34 11.3702; var_40 -11.1147; var_78 5.5075; var_151 14.8743; var_163 15.8348; var_164 -5.0121; var_137 18.1577; var_63 -1.3147; var_153 16.7242; var_95 -1.2722; var_99 0.6939; var_148 4.2578; var_12 14.0239; var_79 13.7814; var_172 22.0330; var_190 7.6421; var_182 -14.9100; var_139 16.1622; var_58 1.9210; var_19 28.5708; var_23 3.3716; var_180 -5.5937; var_76 3.2709; var_105 2.6227; var_194 15.4305; var_128 0.8194; var_186 7.6543; var_20 3.4287; var_120 31.5899; var_147 11.7700; var_103 1.7093; var_146 8.9231; var_154 -0.5687; var_188 13.3175; var_101 8.4068; var_42 9.8775; var_84 -5.4850; var_27 -2.5586; var_72 3.1701; var_47 0.1948; var_185 -4.8622; var_107 32.0888; var_131 -0.1780; var_60 8.0109; var_68 5.0220; var_17 -15.5849; var_14 5.4345; var_26 -11.7684; var_3 5.3890; var_191 7.7214; var_141 6.6803; var_97 26.6881; var_158 22.3949; var_197 8.7889; var_181 9.4878; var_89 12.2301; var_168 3.8821; var_189 -0.3566; var_116 3.0454; var_33 19.3710; var_162 3.8208; var_87 11.0993; var_110 6.6203; var_102 35.4734; var_85 13.7867; var_39 3.6783; var_44 1.2444; var_112 5.3523; var_77 23.4822; var_159 10.6261; var_133 7.0513; var_88 7.9022; var_145 11.0738; var_46 7.3718; var_50 11.8343; var_106 7.3412; var_108 13.9550; var_43 11.7842; var_66 5.4007; var_136 9.7797; var_31 7.8755; var_129 16.5346; var_124 0.1225; var_122 8.2736; var_67 7.9344; var_74 7.7841; var_174 30.2645; var_16 13.8275; var_25 13.8910; var_157 -9.6953; var_69 2.2302; var_132 5.7582; ,var_184 23.0866; var_119 2.1056; var_198 14.7222; var_171 -3.9116; var_2 12.0805; var_28 5.8463; var_8 -4.9193; var_36 4.6974; var_41 2.2439; var_100 -0.3939; var_18 4.7011; var_152 4.4015; var_22 1.2145; var_11 -11.2648; var_57 5.8200; var_142 10.2158; var_175 10.9202; var_54 9.3124; var_113 2.1929; var_104 15.0284; var_83 10.1852; var_138 3.8212; var_6 6.9427; var_94 14.2621; var_64 3.7163; var_192 1.6704; var_5 -9.0837; var_195 3.1417; var_121 8.9573; var_130 11.5419; var_45 -7.9078; var_1 -2.7457; var_183 3.1545; var_35 4.1087; var_13 7.3124; var_59 9.1854; var_134 3.9358; var_165 20.5092; var_7 14.6155; var_167 -5.5952; var_98 1.6981; var_37 6.9346; var_109 20.3882; var_140 7.3834; var_38 10.8917; var_30 -11.1025; var_125 12.4653; var_29 6.1439; var_173 -5.8234; var_149 -1.2681; var_32 -2.2871; var_0 8.6093; var_55 6.2846; var_156 14.5362; var_82 13.3529; var_93 10.5080; var_123 -2.1746; var_177 8.8438; var_90 -22.4038; var_161 5.8442; var_199 0.3965; var_86 -4.4577; var_143 7.4844; var_179 2.4013; var_9 5.9525; var_21 18.1377; var_70 2.3612; var_160 13.2070; var_73 12.1719; var_75 19.4465; var_61 -10.3734; var_65 -1.1016; var_80 7.4729; var_96 20.4031; var_91 7.0883; var_52 0.7268; var_15 14.6472; var_111 5.7033; var_71 0.8520; var_53 6.4059; var_166 3.2790; var_126 14.1978; var_178 -9.7009; var_135 -11.7218; var_117 28.7632; var_92 14.1613; var_4 10.5825; var_62 0.8748; var_81 15.7811; var_115 2.9044; var_170 -7.0927; var_49 6.8874; var_193 1.6858; var_56 15.6372; var_187 -6.2660; var_169 5.7690; var_51 19.5856; var_144 9.1104; var_114 3.1290; var_24 5.6777; var_150 14.3330; var_176 -0.3104; var_48 20.7477; var_127 -2.5511; var_196 -6.5213; var_155 0.5778; var_118 -17.2738; var_10 -0.3249; var_34 11.0449; var_40 -13.5174; var_78 6.3191; var_151 8.0088; var_163 5.7141; var_164 -1.0410; var_137 15.5827; var_63 5.8042; var_153 14.1479; var_95 0.2647; var_99 -0.0269; var_148 4.0714; var_12 14.1929; var_79 12.8046; var_172 7.2569; var_190 2.9057; var_182 -13.2648; var_139 8.6674; var_58 1.1000; var_19 20.4775; var_23 3.5137; var_180 -4.2935; var_76 4.5048; var_105 3.9995; var_194 21.6042; var_128 -0.9479; var_186 5.3745; var_20 17.7559; var_120 21.1613; var_147 1.7624; var_103 1.3854; var_146 11.4934; var_154 -5.1747; var_188 10.1934; var_101 12.6317; var_42 11.5283; var_84 5.4604; var_27 -2.9029; var_72 6.3577; var_47 -5.7864; var_185 -5.3000; var_107 8.6273; var_131 0.0975; var_60 12.5963; var_68 5.0228; var_17 -1.7395; var_14 7.5244; var_26 -7.9940; var_3 7.8928; var_191 9.7905; var_141 -2.4438; var_97 17.0360; var_158 33.8820; var_197 8.2675; var_181 9.3908; var_89 2.1447; var_168 7.3176; var_189 -0.8417; var_116 1.1696; var_33 19.0422; var_162 4.7086; var_87 9.5413; var_110 3.2304; var_102 14.8863; var_85 19.0773; var_39 0.9003; var_44 4.1006; var_112 4.5255; var_77 23.2378; var_159 11.6041; var_133 6.6231; var_88 11.9052; var_145 4.3649; var_46 11.1405; var_50 12.9143; var_106 5.3683; var_108 14.1963; var_43 12.0406; var_66 7.3667; var_136 24.5437; var_31 12.4858; var_129 17.1092; var_124 3.6932; var_122 2.7768; var_67 9.8565; var_74 19.7312; var_174 25.6820; var_16 7.6782; var_25 13.2177; var_157 -1.7624; var_69 -5.7828; var_132 8.8186; ,var_184 -0.4639; var_119 5.0988; var_198 17.9697; var_171 -6.1920; var_2 8.9522; var_28 5.9070; var_8 -5.8609; var_36 8.1723; var_41 -1.0370; var_100 -19.8592; var_18 15.9426; var_152 7.6508; var_22 6.8202; var_11 2.8102; var_57 6.5850; var_142 10.0142; var_175 8.1013; var_54 8.0913; var_113 11.6896; var_104 9.3291; var_83 -5.2896; var_138 -2.8233; var_6 5.8428; var_94 7.2887; var_64 8.6464; var_192 0.7178; var_5 -1.8361; var_195 -1.2706; var_121 11.3025; var_130 14.3003; var_45 -24.6840; var_1 -2.1518; var_183 7.2601; var_35 -5.9158; var_13 11.9704; var_59 9.4638; var_134 -1.1984; var_165 17.2502; var_7 14.9250; var_167 -2.7018; var_98 2.8344; var_37 2.8521; var_109 14.4135; var_140 3.8873; var_38 9.1738; var_30 -15.2398; var_125 12.3441; var_29 2.8407; var_173 11.7134; var_149 2.3701; var_32 -2.5731; var_0 11.0604; var_55 12.3972; var_156 12.0500; var_82 1.6212; var_93 10.7795; var_123 -8.2464; var_177 13.9552; var_90 -7.5866; var_161 5.9684; var_199 -8.9996; var_86 -2.3174; var_143 7.8388; var_179 5.6961; var_9 8.2450; var_21 12.5579; var_70 4.0462; var_160 31.8833; var_73 24.4187; var_75 15.4235; var_61 -25.0222; var_65 6.3072; var_80 0.7839; var_96 11.3596; var_91 7.0364; var_52 1.7895; var_15 14.8372; var_111 6.9750; var_71 0.2500; var_53 5.2091; var_166 2.5881; var_126 12.5431; var_178 -10.4701; var_135 1.9586; var_117 38.1015; var_92 14.4027; var_4 12.5846; var_62 3.4418; var_81 10.5404; var_115 -2.5459; var_170 -7.1541; var_49 8.3838; var_193 1.4214; var_56 14.4698; var_187 -12.8279; var_169 5.3430; var_51 9.5503; var_144 9.9718; var_114 2.5762; var_24 12.1354; var_150 18.0984; var_176 11.8771; var_48 0.7613; var_127 -1.3683; var_196 -2.9275; var_155 -10.9370; var_118 3.5732; var_10 2.3061; var_34 10.6093; var_40 -3.8294; var_78 4.0806; var_151 17.1765; var_163 3.8899; var_164 -11.0882; var_137 24.6065; var_63 -4.3923; var_153 18.2452; var_95 -1.0930; var_99 1.9480; var_148 3.7613; var_12 13.8463; var_79 15.2733; var_172 18.2366; var_190 4.4666; var_182 1.8986; var_139 8.9821; var_58 3.3164; var_19 13.7257; var_23 2.7229; var_180 -3.7546; var_76 11.6875; var_105 4.2835; var_194 23.0347; var_128 3.5974; var_186 7.9336; var_20 20.3010; var_120 30.5644; var_147 4.1622; var_103 1.3512; var_146 10.4994; var_154 17.0336; var_188 12.4124; var_101 22.5316; var_42 11.7770; var_84 1.6027; var_27 -0.9059; var_72 1.2516; var_47 -35.1659; var_185 -0.0498; var_107 7.0874; var_131 1.0486; var_60 15.7820; var_68 5.0220; var_17 -0.4299; var_14 6.4569; var_26 0.8135; var_3 7.1957; var_191 4.7433; var_141 15.9638; var_97 18.1486; var_158 19.9750; var_197 10.2922; var_181 8.4117; var_89 7.5509; var_168 0.5641; var_189 1.8489; var_116 5.3446; var_33 6.1796; var_162 7.2084; var_87 15.6298; var_110 4.2827; var_102 18.6129; var_85 17.9762; var_39 0.6665; var_44 8.0485; var_112 1.6480; var_77 23.6273; var_159 12.3892; var_133 7.1954; var_88 4.5474; var_145 2.9253; var_46 12.7404; var_50 12.6832; var_106 10.3907; var_108 14.3256; var_43 11.2834; var_66 5.6221; var_136 27.5609; var_31 10.4407; var_129 13.9761; var_124 2.7038; var_122 3.9618; var_67 23.6143; var_74 4.5290; var_174 14.7483; var_16 10.7430; var_25 13.7367; var_157 -1.2155; var_69 -3.9989; var_132 8.9500; ,var_184 11.8503; var_119 4.7478; var_198 17.9974; var_171 -2.6627; var_2 12.8746; var_28 5.9015; var_8 6.2654; var_36 2.7922; var_41 14.0685; var_100 -22.9264; var_18 6.5263; var_152 5.8493; var_22 10.1102; var_11 -12.1419; var_57 6.1812; var_142 11.7159; var_175 16.3309; var_54 -8.5414; var_113 7.9923; var_104 7.1179; var_83 -6.7075; var_138 2.6791; var_6 5.9405; var_94 14.0553; var_64 5.2670; var_192 -0.1508; var_5 2.4486; var_195 -1.5121; var_121 12.7140; var_130 11.4266; var_45 -65.4863; var_1 -1.4834; var_183 12.2198; var_35 0.6329; var_13 7.8895; var_59 9.2048; var_134 -6.8304; var_165 21.2607; var_7 19.2514; var_167 -1.7759; var_98 1.6844; var_37 5.8184; var_109 28.2749; var_140 6.6289; var_38 19.3038; var_30 -3.1582; var_125 12.1316; var_29 7.9352; var_173 2.3705; var_149 9.9110; var_32 -0.0083; var_0 9.8369; var_55 14.1482; var_156 13.0021; var_82 -9.2587; var_93 10.4316; var_123 9.7289; var_177 13.5261; var_90 -39.7997; var_161 5.6953; var_199 -8.8104; var_86 7.0799; var_143 16.1080; var_179 5.1743; var_9 7.6784; var_21 18.9608; var_70 40.1236; var_160 33.5107; var_73 4.5886; var_75 23.3521; var_61 -27.7439; var_65 -4.3205; var_80 2.9598; var_96 14.7246; var_91 7.0065; var_52 -1.4367; var_15 15.0553; var_111 5.9654; var_71 0.7737; var_53 5.7555; var_166 3.2304; var_126 12.5815; var_178 1.7189; var_135 6.4730; var_117 25.6795; var_92 9.3627; var_4 12.2772; var_62 -0.4952; var_81 13.3317; var_115 -3.6135; var_170 1.4493; var_49 14.4268; var_193 9.1942; var_56 16.9840; var_187 5.9270; var_169 5.5518; var_51 10.4857; var_144 7.6874; var_114 2.9138; var_24 14.2080; var_150 20.1461; var_176 -3.3456; var_48 -0.1346; var_127 7.0642; var_196 3.9267; var_155 10.6101; var_118 13.8224; var_10 -9.4458; var_34 12.4057; var_40 -5.5963; var_78 7.1734; var_151 1.2995; var_163 18.2201; var_164 6.5769; var_137 25.8128; var_63 -1.7839; var_153 19.8234; var_95 0.0213; var_99 0.6715; var_148 3.7574; var_12 13.8481; var_79 14.3937; var_172 19.8056; var_190 -1.4905; var_182 4.8910; var_139 13.9547; var_58 1.9548; var_19 11.3152; var_23 2.7142; var_180 -7.6938; var_76 1.0273; var_105 5.1934; var_194 13.2876; var_128 5.6518; var_186 6.4209; var_20 21.4246; var_120 41.1037; var_147 -12.7047; var_103 1.6940; var_146 11.5670; var_154 4.7022; var_188 16.0201; var_101 12.3562; var_42 11.9171; var_84 7.8984; var_27 -3.3423; var_72 -0.7264; var_47 0.0444; var_185 -7.8931; var_107 10.6617; var_131 0.9442; var_60 8.6591; var_68 5.0301; var_17 -3.0680; var_14 7.7894; var_26 3.1736; var_3 6.6375; var_191 9.5214; var_141 -4.3965; var_97 35.2988; var_158 27.0846; var_197 9.5031; var_181 9.7685; var_89 3.7954; var_168 3.1283; var_189 -0.2829; var_116 1.4684; var_33 19.3239; var_162 5.4663; var_87 20.1670; var_110 -0.1937; var_102 17.3410; var_85 14.5265; var_39 1.4450; var_44 6.9087; var_112 1.0719; var_77 19.1600; var_159 8.0913; var_133 6.6173; var_88 8.0053; var_145 9.1570; var_46 13.8657; var_50 13.3273; var_106 8.8230; var_108 14.0837; var_43 11.5111; var_66 6.9860; var_136 17.1728; var_31 9.4668; var_129 10.9346; var_124 3.9370; var_122 5.2964; var_67 1.6184; var_74 -4.5346; var_174 18.4685; var_16 8.4871; var_25 13.5433; var_157 -12.6068; var_69 -3.2431; var_132 7.7532; \n",
       "y: CategoryList\n",
       "0,0,0,0,0\n",
       "Path: .;\n",
       "\n",
       "Valid: LabelList (0 items)\n",
       "x: TabularList\n",
       "\n",
       "y: CategoryList\n",
       "\n",
       "Path: .;\n",
       "\n",
       "Test: LabelList (200000 items)\n",
       "x: TabularList\n",
       "var_184 25.8398; var_119 7.2739; var_198 12.7803; var_171 -8.4254; var_2 11.9081; var_28 4.9306; var_8 -4.9200; var_36 0.6764; var_41 7.3746; var_100 9.4763; var_18 4.2840; var_152 9.0056; var_22 2.5791; var_11 3.1821; var_57 5.3822; var_142 19.0614; var_175 7.7423; var_54 -0.7474; var_113 -0.4851; var_104 14.7100; var_83 2.9423; var_138 2.8279; var_6 5.1187; var_94 14.8421; var_64 8.6748; var_192 3.1364; var_5 -9.2834; var_195 -2.3978; var_121 9.7268; var_130 12.8287; var_45 -7.0170; var_1 -6.7863; var_183 14.3691; var_35 10.5785; var_13 0.5745; var_59 10.1166; var_134 5.1726; var_165 12.6644; var_7 18.6266; var_167 -0.6975; var_98 2.1743; var_37 7.8871; var_109 24.3627; var_140 8.3307; var_38 4.6667; var_30 -0.3085; var_125 12.0039; var_29 5.9965; var_173 3.1531; var_149 17.9244; var_32 -3.8766; var_0 8.9255; var_55 14.8322; var_156 12.1749; var_82 1.3675; var_93 9.9913; var_123 0.7754; var_177 13.7241; var_90 -21.4494; var_161 5.3133; var_199 -1.0914; var_86 9.3225; var_143 11.2663; var_179 1.7202; var_9 5.7470; var_21 16.2191; var_70 21.6374; var_160 15.4576; var_73 8.8600; var_75 18.3816; var_61 4.9590; var_65 9.5319; var_80 13.6468; var_96 8.9642; var_91 6.7806; var_52 -0.6940; var_15 14.5691; var_111 6.7602; var_71 0.5663; var_53 5.1736; var_166 2.7004; var_126 13.8571; var_178 -3.5189; var_135 3.1345; var_117 15.5752; var_92 11.0924; var_4 11.4607; var_62 2.0771; var_81 13.8372; var_115 1.5093; var_170 -4.7645; var_49 5.3253; var_193 1.6910; var_56 11.2668; var_187 -19.7159; var_169 5.4879; var_51 29.0460; var_144 8.6989; var_114 2.5240; var_24 14.3831; var_150 18.5177; var_176 -10.1245; var_48 16.0283; var_127 -0.7338; var_196 7.8784; var_155 1.6573; var_118 -13.4221; var_10 2.9252; var_34 11.1920; var_40 -5.2387; var_78 6.5199; var_151 10.7800; var_163 5.0384; var_164 6.6760; var_137 31.4045; var_63 -0.2154; var_153 16.6964; var_95 0.1812; var_99 -3.4132; var_148 4.0288; var_12 14.0137; var_79 12.1983; var_172 20.8773; var_190 4.4354; var_182 3.0657; var_139 15.6599; var_58 2.0183; var_19 30.7133; var_23 2.4716; var_180 -8.4051; var_76 -2.3440; var_105 6.0454; var_194 18.5227; var_128 -1.9245; var_186 11.8411; var_20 10.5350; var_120 16.0094; var_147 -16.4727; var_103 1.4403; var_146 11.5659; var_154 10.4838; var_188 17.5743; var_101 13.3102; var_42 11.5767; var_84 -4.5213; var_27 -0.4073; var_72 5.1999; var_47 -14.2136; var_185 5.8764; var_107 17.1554; var_131 0.3587; var_60 16.1828; var_68 5.0109; var_17 -7.2393; var_14 8.7989; var_26 -5.1488; var_3 5.0930; var_191 3.9642; var_141 -5.6011; var_97 16.2572; var_158 17.6054; var_197 8.5635; var_181 9.0164; var_89 -1.7069; var_168 9.5981; var_189 0.5857; var_116 2.5516; var_33 16.8911; var_162 3.6159; var_87 16.4597; var_110 2.0323; var_102 26.5376; var_85 21.4669; var_39 3.8743; var_44 11.6418; var_112 3.9141; var_77 23.4104; var_159 11.5423; var_133 6.5674; var_88 7.9984; var_145 8.3694; var_46 5.9226; var_50 12.9194; var_106 9.5426; var_108 14.1104; var_43 12.0446; var_66 5.8056; var_136 29.4547; var_31 12.9041; var_129 15.4462; var_124 4.2218; var_122 0.8897; var_67 22.4321; var_74 43.1127; var_174 18.5618; var_16 5.7487; var_25 13.4325; var_157 -13.1324; var_69 -4.7010; var_132 9.6508; ,var_184 22.5441; var_119 7.5109; var_198 18.3560; var_171 5.0988; var_2 13.8588; var_28 5.0464; var_8 3.1468; var_36 2.7995; var_41 1.8730; var_100 -13.6950; var_18 7.8000; var_152 9.4317; var_22 8.5524; var_11 8.0585; var_57 7.0118; var_142 -0.3243; var_175 10.4968; var_54 -8.0946; var_113 8.5426; var_104 15.1866; var_83 -4.8210; var_138 -1.9721; var_6 5.6208; var_94 11.7569; var_64 8.1042; var_192 2.5837; var_5 7.0433; var_195 2.0339; var_121 9.5018; var_130 12.4205; var_45 -47.3797; var_1 -4.1473; var_183 9.4245; var_35 0.7399; var_13 8.4135; var_59 8.8682; var_134 1.9568; var_165 15.1345; var_7 16.5338; var_167 9.3192; var_98 1.8944; var_37 5.8434; var_109 13.0858; var_140 3.6937; var_38 10.8160; var_30 -9.2987; var_125 12.5942; var_29 0.5481; var_173 5.5134; var_149 -4.4223; var_32 1.2859; var_0 11.5006; var_55 18.5995; var_156 12.2419; var_82 0.3683; var_93 10.9631; var_123 10.1633; var_177 16.5721; var_90 0.4768; var_161 5.8683; var_199 1.9518; var_86 -13.5901; var_143 12.2806; var_179 11.0752; var_9 8.0851; var_21 2.7407; var_70 40.5632; var_160 29.4846; var_73 20.1068; var_75 7.0529; var_61 -7.2417; var_65 1.5365; var_80 2.5462; var_96 24.7876; var_91 6.8852; var_52 -4.1083; var_15 13.7003; var_111 7.1051; var_71 0.5134; var_53 6.6885; var_166 3.2003; var_126 14.5697; var_178 -7.3477; var_135 -8.9921; var_117 7.8522; var_92 8.0905; var_4 12.3622; var_62 1.7944; var_81 18.1782; var_115 4.1569; var_170 5.5378; var_49 25.7037; var_193 10.9516; var_56 19.3219; var_187 -15.9319; var_169 5.7999; var_51 13.2256; var_144 8.6086; var_114 3.6159; var_24 6.9779; var_150 20.6294; var_176 -7.2352; var_48 34.4014; var_127 2.4354; var_196 8.1267; var_155 0.1898; var_118 -11.5100; var_10 -0.4032; var_34 11.3702; var_40 -11.1147; var_78 5.5075; var_151 14.8743; var_163 15.8348; var_164 -5.0121; var_137 18.1577; var_63 -1.3147; var_153 16.7242; var_95 -1.2722; var_99 0.6939; var_148 4.2578; var_12 14.0239; var_79 13.7814; var_172 22.0330; var_190 7.6421; var_182 -14.9100; var_139 16.1622; var_58 1.9210; var_19 28.5708; var_23 3.3716; var_180 -5.5937; var_76 3.2709; var_105 2.6227; var_194 15.4305; var_128 0.8194; var_186 7.6543; var_20 3.4287; var_120 31.5899; var_147 11.7700; var_103 1.7093; var_146 8.9231; var_154 -0.5687; var_188 13.3175; var_101 8.4068; var_42 9.8775; var_84 -5.4850; var_27 -2.5586; var_72 3.1701; var_47 0.1948; var_185 -4.8622; var_107 32.0888; var_131 -0.1780; var_60 8.0109; var_68 5.0220; var_17 -15.5849; var_14 5.4345; var_26 -11.7684; var_3 5.3890; var_191 7.7214; var_141 6.6803; var_97 26.6881; var_158 22.3949; var_197 8.7889; var_181 9.4878; var_89 12.2301; var_168 3.8821; var_189 -0.3566; var_116 3.0454; var_33 19.3710; var_162 3.8208; var_87 11.0993; var_110 6.6203; var_102 35.4734; var_85 13.7867; var_39 3.6783; var_44 1.2444; var_112 5.3523; var_77 23.4822; var_159 10.6261; var_133 7.0513; var_88 7.9022; var_145 11.0738; var_46 7.3718; var_50 11.8343; var_106 7.3412; var_108 13.9550; var_43 11.7842; var_66 5.4007; var_136 9.7797; var_31 7.8755; var_129 16.5346; var_124 0.1225; var_122 8.2736; var_67 7.9344; var_74 7.7841; var_174 30.2645; var_16 13.8275; var_25 13.8910; var_157 -9.6953; var_69 2.2302; var_132 5.7582; ,var_184 23.0866; var_119 2.1056; var_198 14.7222; var_171 -3.9116; var_2 12.0805; var_28 5.8463; var_8 -4.9193; var_36 4.6974; var_41 2.2439; var_100 -0.3939; var_18 4.7011; var_152 4.4015; var_22 1.2145; var_11 -11.2648; var_57 5.8200; var_142 10.2158; var_175 10.9202; var_54 9.3124; var_113 2.1929; var_104 15.0284; var_83 10.1852; var_138 3.8212; var_6 6.9427; var_94 14.2621; var_64 3.7163; var_192 1.6704; var_5 -9.0837; var_195 3.1417; var_121 8.9573; var_130 11.5419; var_45 -7.9078; var_1 -2.7457; var_183 3.1545; var_35 4.1087; var_13 7.3124; var_59 9.1854; var_134 3.9358; var_165 20.5092; var_7 14.6155; var_167 -5.5952; var_98 1.6981; var_37 6.9346; var_109 20.3882; var_140 7.3834; var_38 10.8917; var_30 -11.1025; var_125 12.4653; var_29 6.1439; var_173 -5.8234; var_149 -1.2681; var_32 -2.2871; var_0 8.6093; var_55 6.2846; var_156 14.5362; var_82 13.3529; var_93 10.5080; var_123 -2.1746; var_177 8.8438; var_90 -22.4038; var_161 5.8442; var_199 0.3965; var_86 -4.4577; var_143 7.4844; var_179 2.4013; var_9 5.9525; var_21 18.1377; var_70 2.3612; var_160 13.2070; var_73 12.1719; var_75 19.4465; var_61 -10.3734; var_65 -1.1016; var_80 7.4729; var_96 20.4031; var_91 7.0883; var_52 0.7268; var_15 14.6472; var_111 5.7033; var_71 0.8520; var_53 6.4059; var_166 3.2790; var_126 14.1978; var_178 -9.7009; var_135 -11.7218; var_117 28.7632; var_92 14.1613; var_4 10.5825; var_62 0.8748; var_81 15.7811; var_115 2.9044; var_170 -7.0927; var_49 6.8874; var_193 1.6858; var_56 15.6372; var_187 -6.2660; var_169 5.7690; var_51 19.5856; var_144 9.1104; var_114 3.1290; var_24 5.6777; var_150 14.3330; var_176 -0.3104; var_48 20.7477; var_127 -2.5511; var_196 -6.5213; var_155 0.5778; var_118 -17.2738; var_10 -0.3249; var_34 11.0449; var_40 -13.5174; var_78 6.3191; var_151 8.0088; var_163 5.7141; var_164 -1.0410; var_137 15.5827; var_63 5.8042; var_153 14.1479; var_95 0.2647; var_99 -0.0269; var_148 4.0714; var_12 14.1929; var_79 12.8046; var_172 7.2569; var_190 2.9057; var_182 -13.2648; var_139 8.6674; var_58 1.1000; var_19 20.4775; var_23 3.5137; var_180 -4.2935; var_76 4.5048; var_105 3.9995; var_194 21.6042; var_128 -0.9479; var_186 5.3745; var_20 17.7559; var_120 21.1613; var_147 1.7624; var_103 1.3854; var_146 11.4934; var_154 -5.1747; var_188 10.1934; var_101 12.6317; var_42 11.5283; var_84 5.4604; var_27 -2.9029; var_72 6.3577; var_47 -5.7864; var_185 -5.3000; var_107 8.6273; var_131 0.0975; var_60 12.5963; var_68 5.0228; var_17 -1.7395; var_14 7.5244; var_26 -7.9940; var_3 7.8928; var_191 9.7905; var_141 -2.4438; var_97 17.0360; var_158 33.8820; var_197 8.2675; var_181 9.3908; var_89 2.1447; var_168 7.3176; var_189 -0.8417; var_116 1.1696; var_33 19.0422; var_162 4.7086; var_87 9.5413; var_110 3.2304; var_102 14.8863; var_85 19.0773; var_39 0.9003; var_44 4.1006; var_112 4.5255; var_77 23.2378; var_159 11.6041; var_133 6.6231; var_88 11.9052; var_145 4.3649; var_46 11.1405; var_50 12.9143; var_106 5.3683; var_108 14.1963; var_43 12.0406; var_66 7.3667; var_136 24.5437; var_31 12.4858; var_129 17.1092; var_124 3.6932; var_122 2.7768; var_67 9.8565; var_74 19.7312; var_174 25.6820; var_16 7.6782; var_25 13.2177; var_157 -1.7624; var_69 -5.7828; var_132 8.8186; ,var_184 -0.4639; var_119 5.0988; var_198 17.9697; var_171 -6.1920; var_2 8.9522; var_28 5.9070; var_8 -5.8609; var_36 8.1723; var_41 -1.0370; var_100 -19.8592; var_18 15.9426; var_152 7.6508; var_22 6.8202; var_11 2.8102; var_57 6.5850; var_142 10.0142; var_175 8.1013; var_54 8.0913; var_113 11.6896; var_104 9.3291; var_83 -5.2896; var_138 -2.8233; var_6 5.8428; var_94 7.2887; var_64 8.6464; var_192 0.7178; var_5 -1.8361; var_195 -1.2706; var_121 11.3025; var_130 14.3003; var_45 -24.6840; var_1 -2.1518; var_183 7.2601; var_35 -5.9158; var_13 11.9704; var_59 9.4638; var_134 -1.1984; var_165 17.2502; var_7 14.9250; var_167 -2.7018; var_98 2.8344; var_37 2.8521; var_109 14.4135; var_140 3.8873; var_38 9.1738; var_30 -15.2398; var_125 12.3441; var_29 2.8407; var_173 11.7134; var_149 2.3701; var_32 -2.5731; var_0 11.0604; var_55 12.3972; var_156 12.0500; var_82 1.6212; var_93 10.7795; var_123 -8.2464; var_177 13.9552; var_90 -7.5866; var_161 5.9684; var_199 -8.9996; var_86 -2.3174; var_143 7.8388; var_179 5.6961; var_9 8.2450; var_21 12.5579; var_70 4.0462; var_160 31.8833; var_73 24.4187; var_75 15.4235; var_61 -25.0222; var_65 6.3072; var_80 0.7839; var_96 11.3596; var_91 7.0364; var_52 1.7895; var_15 14.8372; var_111 6.9750; var_71 0.2500; var_53 5.2091; var_166 2.5881; var_126 12.5431; var_178 -10.4701; var_135 1.9586; var_117 38.1015; var_92 14.4027; var_4 12.5846; var_62 3.4418; var_81 10.5404; var_115 -2.5459; var_170 -7.1541; var_49 8.3838; var_193 1.4214; var_56 14.4698; var_187 -12.8279; var_169 5.3430; var_51 9.5503; var_144 9.9718; var_114 2.5762; var_24 12.1354; var_150 18.0984; var_176 11.8771; var_48 0.7613; var_127 -1.3683; var_196 -2.9275; var_155 -10.9370; var_118 3.5732; var_10 2.3061; var_34 10.6093; var_40 -3.8294; var_78 4.0806; var_151 17.1765; var_163 3.8899; var_164 -11.0882; var_137 24.6065; var_63 -4.3923; var_153 18.2452; var_95 -1.0930; var_99 1.9480; var_148 3.7613; var_12 13.8463; var_79 15.2733; var_172 18.2366; var_190 4.4666; var_182 1.8986; var_139 8.9821; var_58 3.3164; var_19 13.7257; var_23 2.7229; var_180 -3.7546; var_76 11.6875; var_105 4.2835; var_194 23.0347; var_128 3.5974; var_186 7.9336; var_20 20.3010; var_120 30.5644; var_147 4.1622; var_103 1.3512; var_146 10.4994; var_154 17.0336; var_188 12.4124; var_101 22.5316; var_42 11.7770; var_84 1.6027; var_27 -0.9059; var_72 1.2516; var_47 -35.1659; var_185 -0.0498; var_107 7.0874; var_131 1.0486; var_60 15.7820; var_68 5.0220; var_17 -0.4299; var_14 6.4569; var_26 0.8135; var_3 7.1957; var_191 4.7433; var_141 15.9638; var_97 18.1486; var_158 19.9750; var_197 10.2922; var_181 8.4117; var_89 7.5509; var_168 0.5641; var_189 1.8489; var_116 5.3446; var_33 6.1796; var_162 7.2084; var_87 15.6298; var_110 4.2827; var_102 18.6129; var_85 17.9762; var_39 0.6665; var_44 8.0485; var_112 1.6480; var_77 23.6273; var_159 12.3892; var_133 7.1954; var_88 4.5474; var_145 2.9253; var_46 12.7404; var_50 12.6832; var_106 10.3907; var_108 14.3256; var_43 11.2834; var_66 5.6221; var_136 27.5609; var_31 10.4407; var_129 13.9761; var_124 2.7038; var_122 3.9618; var_67 23.6143; var_74 4.5290; var_174 14.7483; var_16 10.7430; var_25 13.7367; var_157 -1.2155; var_69 -3.9989; var_132 8.9500; ,var_184 11.8503; var_119 4.7478; var_198 17.9974; var_171 -2.6627; var_2 12.8746; var_28 5.9015; var_8 6.2654; var_36 2.7922; var_41 14.0685; var_100 -22.9264; var_18 6.5263; var_152 5.8493; var_22 10.1102; var_11 -12.1419; var_57 6.1812; var_142 11.7159; var_175 16.3309; var_54 -8.5414; var_113 7.9923; var_104 7.1179; var_83 -6.7075; var_138 2.6791; var_6 5.9405; var_94 14.0553; var_64 5.2670; var_192 -0.1508; var_5 2.4486; var_195 -1.5121; var_121 12.7140; var_130 11.4266; var_45 -65.4863; var_1 -1.4834; var_183 12.2198; var_35 0.6329; var_13 7.8895; var_59 9.2048; var_134 -6.8304; var_165 21.2607; var_7 19.2514; var_167 -1.7759; var_98 1.6844; var_37 5.8184; var_109 28.2749; var_140 6.6289; var_38 19.3038; var_30 -3.1582; var_125 12.1316; var_29 7.9352; var_173 2.3705; var_149 9.9110; var_32 -0.0083; var_0 9.8369; var_55 14.1482; var_156 13.0021; var_82 -9.2587; var_93 10.4316; var_123 9.7289; var_177 13.5261; var_90 -39.7997; var_161 5.6953; var_199 -8.8104; var_86 7.0799; var_143 16.1080; var_179 5.1743; var_9 7.6784; var_21 18.9608; var_70 40.1236; var_160 33.5107; var_73 4.5886; var_75 23.3521; var_61 -27.7439; var_65 -4.3205; var_80 2.9598; var_96 14.7246; var_91 7.0065; var_52 -1.4367; var_15 15.0553; var_111 5.9654; var_71 0.7737; var_53 5.7555; var_166 3.2304; var_126 12.5815; var_178 1.7189; var_135 6.4730; var_117 25.6795; var_92 9.3627; var_4 12.2772; var_62 -0.4952; var_81 13.3317; var_115 -3.6135; var_170 1.4493; var_49 14.4268; var_193 9.1942; var_56 16.9840; var_187 5.9270; var_169 5.5518; var_51 10.4857; var_144 7.6874; var_114 2.9138; var_24 14.2080; var_150 20.1461; var_176 -3.3456; var_48 -0.1346; var_127 7.0642; var_196 3.9267; var_155 10.6101; var_118 13.8224; var_10 -9.4458; var_34 12.4057; var_40 -5.5963; var_78 7.1734; var_151 1.2995; var_163 18.2201; var_164 6.5769; var_137 25.8128; var_63 -1.7839; var_153 19.8234; var_95 0.0213; var_99 0.6715; var_148 3.7574; var_12 13.8481; var_79 14.3937; var_172 19.8056; var_190 -1.4905; var_182 4.8910; var_139 13.9547; var_58 1.9548; var_19 11.3152; var_23 2.7142; var_180 -7.6938; var_76 1.0273; var_105 5.1934; var_194 13.2876; var_128 5.6518; var_186 6.4209; var_20 21.4246; var_120 41.1037; var_147 -12.7047; var_103 1.6940; var_146 11.5670; var_154 4.7022; var_188 16.0201; var_101 12.3562; var_42 11.9171; var_84 7.8984; var_27 -3.3423; var_72 -0.7264; var_47 0.0444; var_185 -7.8931; var_107 10.6617; var_131 0.9442; var_60 8.6591; var_68 5.0301; var_17 -3.0680; var_14 7.7894; var_26 3.1736; var_3 6.6375; var_191 9.5214; var_141 -4.3965; var_97 35.2988; var_158 27.0846; var_197 9.5031; var_181 9.7685; var_89 3.7954; var_168 3.1283; var_189 -0.2829; var_116 1.4684; var_33 19.3239; var_162 5.4663; var_87 20.1670; var_110 -0.1937; var_102 17.3410; var_85 14.5265; var_39 1.4450; var_44 6.9087; var_112 1.0719; var_77 19.1600; var_159 8.0913; var_133 6.6173; var_88 8.0053; var_145 9.1570; var_46 13.8657; var_50 13.3273; var_106 8.8230; var_108 14.0837; var_43 11.5111; var_66 6.9860; var_136 17.1728; var_31 9.4668; var_129 10.9346; var_124 3.9370; var_122 5.2964; var_67 1.6184; var_74 -4.5346; var_174 18.4685; var_16 8.4871; var_25 13.5433; var_157 -12.6068; var_69 -3.2431; var_132 7.7532; \n",
       "y: EmptyLabelList\n",
       ",,,,\n",
       "Path: ., model=TabularModel(\n",
       "  (embeds): ModuleList()\n",
       "  (emb_drop): Dropout(p=0.0)\n",
       "  (bn_cont): BatchNorm1d(200, eps=1e-05, momentum=0.1, affine=True, track_running_stats=True)\n",
       "  (layers): Sequential(\n",
       "    (0): Linear(in_features=200, out_features=200, bias=True)\n",
       "    (1): ReLU(inplace)\n",
       "    (2): BatchNorm1d(200, eps=1e-05, momentum=0.1, affine=True, track_running_stats=True)\n",
       "    (3): Dropout(p=0.5)\n",
       "    (4): Linear(in_features=200, out_features=100, bias=True)\n",
       "    (5): ReLU(inplace)\n",
       "    (6): BatchNorm1d(100, eps=1e-05, momentum=0.1, affine=True, track_running_stats=True)\n",
       "    (7): Dropout(p=0.5)\n",
       "    (8): Linear(in_features=100, out_features=2, bias=True)\n",
       "  )\n",
       "), opt_func=functools.partial(<class 'torch.optim.adam.Adam'>, betas=(0.9, 0.99)), loss_func=FlattenedLoss of CrossEntropyLoss(), metrics=[], true_wd=True, bn_wd=True, wd=0.01, train_bn=True, path=PosixPath('.'), model_dir='models', callback_fns=[functools.partial(<class 'fastai.basic_train.Recorder'>, add_time=True)], callbacks=[], layer_groups=[Sequential(\n",
       "  (0): ModuleList()\n",
       "  (1): Dropout(p=0.0)\n",
       "  (2): BatchNorm1d(200, eps=1e-05, momentum=0.1, affine=True, track_running_stats=True)\n",
       "  (3): Linear(in_features=200, out_features=200, bias=True)\n",
       "  (4): ReLU(inplace)\n",
       "  (5): BatchNorm1d(200, eps=1e-05, momentum=0.1, affine=True, track_running_stats=True)\n",
       "  (6): Dropout(p=0.5)\n",
       "  (7): Linear(in_features=200, out_features=100, bias=True)\n",
       "  (8): BatchNorm1d(100, eps=1e-05, momentum=0.1, affine=True, track_running_stats=True)\n",
       "  (9): Dropout(p=0.5)\n",
       "  (10): Linear(in_features=100, out_features=2, bias=True)\n",
       ")], add_time=True)"
      ]
     },
     "execution_count": 20,
     "metadata": {},
     "output_type": "execute_result"
    }
   ],
   "source": [
    "learner.load('augmented_rows_full_train')"
   ]
  },
  {
   "cell_type": "code",
   "execution_count": 22,
   "metadata": {},
   "outputs": [],
   "source": [
    "test_predicts, _ = learner.get_preds(ds_type=DatasetType.Test)"
   ]
  },
  {
   "cell_type": "code",
   "execution_count": 23,
   "metadata": {},
   "outputs": [
    {
     "data": {
      "text/plain": [
       "torch.Size([200000, 2])"
      ]
     },
     "execution_count": 23,
     "metadata": {},
     "output_type": "execute_result"
    }
   ],
   "source": [
    "test_predicts.shape"
   ]
  },
  {
   "cell_type": "code",
   "execution_count": null,
   "metadata": {},
   "outputs": [],
   "source": [
    "class FastaiTabularClf:\n",
    "    def __init__(self):\n",
    "        "
   ]
  }
 ],
 "metadata": {
  "kernelspec": {
   "display_name": "Python 3",
   "language": "python",
   "name": "python3"
  },
  "language_info": {
   "codemirror_mode": {
    "name": "ipython",
    "version": 3
   },
   "file_extension": ".py",
   "mimetype": "text/x-python",
   "name": "python",
   "nbconvert_exporter": "python",
   "pygments_lexer": "ipython3",
   "version": "3.6.8"
  },
  "varInspector": {
   "cols": {
    "lenName": 16,
    "lenType": 16,
    "lenVar": 40
   },
   "kernels_config": {
    "python": {
     "delete_cmd_postfix": "",
     "delete_cmd_prefix": "del ",
     "library": "var_list.py",
     "varRefreshCmd": "print(var_dic_list())"
    },
    "r": {
     "delete_cmd_postfix": ") ",
     "delete_cmd_prefix": "rm(",
     "library": "var_list.r",
     "varRefreshCmd": "cat(var_dic_list()) "
    }
   },
   "position": {
    "height": "242px",
    "left": "972px",
    "right": "2px",
    "top": "74px",
    "width": "357px"
   },
   "types_to_exclude": [
    "module",
    "function",
    "builtin_function_or_method",
    "instance",
    "_Feature"
   ],
   "window_display": false
  }
 },
 "nbformat": 4,
 "nbformat_minor": 2
}
