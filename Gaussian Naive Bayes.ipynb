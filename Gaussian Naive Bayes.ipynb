{
 "cells": [
  {
   "cell_type": "code",
   "execution_count": 3,
   "metadata": {},
   "outputs": [],
   "source": [
    "from sklearn.naive_bayes import GaussianNB\n",
    "import pandas as pd\n",
    "from sklearn.metrics import roc_auc_score, roc_curve\n",
    "import time\n",
    "from matplotlib import pyplot as plt\n",
    "import numpy as np\n",
    "import pickle"
   ]
  },
  {
   "cell_type": "code",
   "execution_count": 22,
   "metadata": {},
   "outputs": [],
   "source": [
    "#df_train = pd.read_csv('train_splitted.csv')\n",
    "df_train = pd.read_csv('train.csv')\n",
    "df_valid = pd.read_csv('valid_splitted.csv')\n",
    "\n",
    "X_train = df_train.drop(columns=['ID_code', 'target'])\n",
    "X_valid = df_valid.drop(columns=['ID_code', 'target'])\n",
    "\n",
    "y_train = df_train['target']\n",
    "y_valid = df_valid['target']"
   ]
  },
  {
   "cell_type": "code",
   "execution_count": 23,
   "metadata": {},
   "outputs": [
    {
     "name": "stdout",
     "output_type": "stream",
     "text": [
      "20098 179902\n"
     ]
    }
   ],
   "source": [
    "N_1_t = len(X_train[y_train==1]) #/len(X_valid)\n",
    "N_0_t = len(X_train[y_train==0]) #/len(X_valid)\n",
    "print(N_1_t, N_0_t)"
   ]
  },
  {
   "cell_type": "code",
   "execution_count": 24,
   "metadata": {},
   "outputs": [
    {
     "name": "stdout",
     "output_type": "stream",
     "text": [
      "0.10049 0.89951\n"
     ]
    }
   ],
   "source": [
    "P_1 = N_1_t/len(X_train)\n",
    "P_0 = N_0_t/len(X_train)\n",
    "\n",
    "print(P_1, P_0)"
   ]
  },
  {
   "cell_type": "markdown",
   "metadata": {},
   "source": [
    "## Que particularidad tiene el dataset?"
   ]
  },
  {
   "cell_type": "markdown",
   "metadata": {},
   "source": [
    "Sería un buen modelo uno que predice con un Accuracy de 0.9?"
   ]
  },
  {
   "cell_type": "markdown",
   "metadata": {},
   "source": [
    "# Create a train model"
   ]
  },
  {
   "cell_type": "code",
   "execution_count": 25,
   "metadata": {},
   "outputs": [
    {
     "name": "stdout",
     "output_type": "stream",
     "text": [
      "CPU times: user 4.12 s, sys: 523 ms, total: 4.65 s\n",
      "Wall time: 2.33 s\n"
     ]
    },
    {
     "data": {
      "text/plain": [
       "GaussianNB(priors=None, var_smoothing=1e-09)"
      ]
     },
     "execution_count": 25,
     "metadata": {},
     "output_type": "execute_result"
    }
   ],
   "source": [
    "clf = GaussianNB()\n",
    "%time clf.fit(X_train.values, y_train.values)"
   ]
  },
  {
   "cell_type": "code",
   "execution_count": 26,
   "metadata": {},
   "outputs": [
    {
     "data": {
      "text/plain": [
       "array([0, 1])"
      ]
     },
     "execution_count": 26,
     "metadata": {},
     "output_type": "execute_result"
    }
   ],
   "source": [
    "clf.classes_"
   ]
  },
  {
   "cell_type": "code",
   "execution_count": 27,
   "metadata": {},
   "outputs": [
    {
     "data": {
      "text/plain": [
       "array([0.89951, 0.10049])"
      ]
     },
     "execution_count": 27,
     "metadata": {},
     "output_type": "execute_result"
    }
   ],
   "source": [
    "clf.class_prior_"
   ]
  },
  {
   "cell_type": "markdown",
   "metadata": {},
   "source": [
    "# Train dataset (Solo entrenado con Train)"
   ]
  },
  {
   "cell_type": "code",
   "execution_count": 28,
   "metadata": {},
   "outputs": [
    {
     "name": "stdout",
     "output_type": "stream",
     "text": [
      "0.9217\n"
     ]
    },
    {
     "data": {
      "text/plain": [
       "0.8899667114457852"
      ]
     },
     "execution_count": 28,
     "metadata": {},
     "output_type": "execute_result"
    }
   ],
   "source": [
    "print(clf.score(X_train, y_train))\n",
    "predicted_proba_tr = clf.predict_proba(X_train)\n",
    "roc_auc_score(y_train, predicted_proba_tr[:,1]/(1-predicted_proba_tr[:,1]))"
   ]
  },
  {
   "cell_type": "code",
   "execution_count": 29,
   "metadata": {},
   "outputs": [
    {
     "data": {
      "text/plain": [
       "4.096068584337653e-05"
      ]
     },
     "execution_count": 29,
     "metadata": {},
     "output_type": "execute_result"
    }
   ],
   "source": [
    "min(predicted_proba_tr[:,1]/(1-predicted_proba_tr[:,1]))"
   ]
  },
  {
   "cell_type": "code",
   "execution_count": 30,
   "metadata": {},
   "outputs": [
    {
     "data": {
      "text/plain": [
       "0.9995802002555082"
      ]
     },
     "execution_count": 30,
     "metadata": {},
     "output_type": "execute_result"
    }
   ],
   "source": [
    "max(predicted_proba_tr[:,1])"
   ]
  },
  {
   "cell_type": "code",
   "execution_count": 35,
   "metadata": {},
   "outputs": [],
   "source": [
    "# pickle.dump(clf, open('trained_models/GNB_train_only.pk', 'wb'))\n",
    "pickle.dump(clf, open('trained_models/GNB_all_data.pk', 'wb'))"
   ]
  },
  {
   "cell_type": "code",
   "execution_count": 41,
   "metadata": {},
   "outputs": [
    {
     "data": {
      "text/plain": [
       "{'priors': None, 'var_smoothing': 1e-09}"
      ]
     },
     "execution_count": 41,
     "metadata": {},
     "output_type": "execute_result"
    }
   ],
   "source": [
    "clf.get_params()"
   ]
  },
  {
   "cell_type": "code",
   "execution_count": 42,
   "metadata": {},
   "outputs": [
    {
     "data": {
      "text/plain": [
       "GaussianNB(priors=None, var_smoothing=1e-09)"
      ]
     },
     "execution_count": 42,
     "metadata": {},
     "output_type": "execute_result"
    }
   ],
   "source": [
    "clf.set_params()"
   ]
  },
  {
   "cell_type": "code",
   "execution_count": null,
   "metadata": {},
   "outputs": [],
   "source": []
  },
  {
   "cell_type": "markdown",
   "metadata": {},
   "source": [
    "# Validation dataset"
   ]
  },
  {
   "cell_type": "code",
   "execution_count": 31,
   "metadata": {},
   "outputs": [],
   "source": [
    "predicted = clf.predict(X_valid)"
   ]
  },
  {
   "cell_type": "code",
   "execution_count": 32,
   "metadata": {},
   "outputs": [
    {
     "data": {
      "text/plain": [
       "0.9216"
      ]
     },
     "execution_count": 32,
     "metadata": {},
     "output_type": "execute_result"
    }
   ],
   "source": [
    "clf.score(X_valid, y_valid)"
   ]
  },
  {
   "cell_type": "code",
   "execution_count": 33,
   "metadata": {},
   "outputs": [],
   "source": [
    "predicted_proba = clf.predict_proba(X_valid)"
   ]
  },
  {
   "cell_type": "code",
   "execution_count": 34,
   "metadata": {},
   "outputs": [
    {
     "data": {
      "text/plain": [
       "0.8937572270399132"
      ]
     },
     "execution_count": 34,
     "metadata": {},
     "output_type": "execute_result"
    }
   ],
   "source": [
    "roc_auc_score(y_valid, predicted_proba[:,1])"
   ]
  },
  {
   "cell_type": "code",
   "execution_count": 132,
   "metadata": {},
   "outputs": [],
   "source": [
    "fpr, tpr, thres = roc_curve(y_valid, predicted_proba[:,1])"
   ]
  },
  {
   "cell_type": "code",
   "execution_count": 133,
   "metadata": {},
   "outputs": [
    {
     "name": "stdout",
     "output_type": "stream",
     "text": [
      "[1.99928535e+00 9.99285350e-01 9.68381076e-01 ... 6.92799419e-04\n",
      " 6.92674617e-04 6.28074097e-05]\n"
     ]
    }
   ],
   "source": [
    "print(thres)"
   ]
  },
  {
   "cell_type": "code",
   "execution_count": 134,
   "metadata": {},
   "outputs": [
    {
     "data": {
      "text/plain": [
       "0.9992853501246479"
      ]
     },
     "execution_count": 134,
     "metadata": {},
     "output_type": "execute_result"
    }
   ],
   "source": [
    "thres[1]"
   ]
  },
  {
   "cell_type": "code",
   "execution_count": 135,
   "metadata": {},
   "outputs": [
    {
     "data": {
      "image/png": "[encoded data removed]",
      "text/plain": [
       "<Figure size 432x288 with 1 Axes>"
      ]
     },
     "metadata": {},
     "output_type": "display_data"
    }
   ],
   "source": [
    "plt.plot(fpr, tpr)\n",
    "\n",
    "for i, th in enumerate(thres[1:]):\n",
    "    if i%500==0:\n",
    "        plt.scatter(fpr[i], tpr[i], marker='x', c='r')\n",
    "        plt.text(fpr[i], tpr[i], np.round(th,2))\n",
    "plt.xlabel('FP')\n",
    "plt.ylabel('TP')\n",
    "plt.show()"
   ]
  },
  {
   "cell_type": "markdown",
   "metadata": {},
   "source": [
    "Pongo umbral en 0; siempre estimo un 1, es decir que voy a tener 100% TP"
   ]
  },
  {
   "cell_type": "markdown",
   "metadata": {},
   "source": [
    "Ejemplo:\n",
    "- pongo umbral en 0.5\n",
    "- No tengo casi ningun FP y tengo en el orden de 0.4 TP.\n",
    "- Como esta muy desbalanceado y hay muchos mas negativos, el accuracy da muy alto en este caso"
   ]
  },
  {
   "cell_type": "code",
   "execution_count": 136,
   "metadata": {},
   "outputs": [
    {
     "name": "stdout",
     "output_type": "stream",
     "text": [
      "0.36204343534057254 0.01591187270501836\n"
     ]
    }
   ],
   "source": [
    "idx_50 = np.where((thres > 0.4999) & (thres<0.5001))[0][0]\n",
    "print(tpr[idx_50], fpr[idx_50])"
   ]
  },
  {
   "cell_type": "code",
   "execution_count": 137,
   "metadata": {},
   "outputs": [
    {
     "name": "stdout",
     "output_type": "stream",
     "text": [
      "4052 35948\n"
     ]
    }
   ],
   "source": [
    "N_1 = len(X_valid[y_valid==1]) #/len(X_valid)\n",
    "N_0 = len(X_valid[y_valid==0]) #/len(X_valid)\n",
    "print(N_1, N_0)"
   ]
  },
  {
   "cell_type": "code",
   "execution_count": 138,
   "metadata": {},
   "outputs": [
    {
     "name": "stdout",
     "output_type": "stream",
     "text": [
      "36843.0\n"
     ]
    }
   ],
   "source": [
    "Correct_predicts = (1-fpr[idx_50])*N_0 + tpr[idx_50]*N_1\n",
    "print(Correct_predicts)"
   ]
  },
  {
   "cell_type": "code",
   "execution_count": 139,
   "metadata": {},
   "outputs": [
    {
     "data": {
      "text/plain": [
       "0.921075"
      ]
     },
     "execution_count": 139,
     "metadata": {},
     "output_type": "execute_result"
    }
   ],
   "source": [
    "Correct_predicts/len(X_valid)"
   ]
  },
  {
   "cell_type": "code",
   "execution_count": 140,
   "metadata": {},
   "outputs": [
    {
     "data": {
      "image/png": "[encoded data removed]",
      "text/plain": [
       "<Figure size 432x288 with 1 Axes>"
      ]
     },
     "metadata": {},
     "output_type": "display_data"
    }
   ],
   "source": [
    "log_odds = np.log(predicted_proba[:,1]/(1-predicted_proba[:,1]))\n",
    "_ = plt.hist(log_odds, 50)"
   ]
  },
  {
   "cell_type": "code",
   "execution_count": 141,
   "metadata": {},
   "outputs": [
    {
     "name": "stdout",
     "output_type": "stream",
     "text": [
      "(2, 200) (2, 200)\n",
      "(400, 400)\n"
     ]
    },
    {
     "data": {
      "text/plain": [
       "800"
      ]
     },
     "execution_count": 141,
     "metadata": {},
     "output_type": "execute_result"
    }
   ],
   "source": [
    "print(clf.sigma_.shape, clf.theta_.shape)\n",
    "params = np.prod(clf.sigma_.shape), np.prod(clf.theta_.shape)\n",
    "print(params)\n",
    "sum(params)"
   ]
  },
  {
   "cell_type": "markdown",
   "metadata": {},
   "source": [
    "# Busqueda de hiperparamtros"
   ]
  },
  {
   "cell_type": "code",
   "execution_count": 169,
   "metadata": {},
   "outputs": [],
   "source": [
    "variances = np.logspace(-11, -9)"
   ]
  },
  {
   "cell_type": "code",
   "execution_count": 170,
   "metadata": {},
   "outputs": [
    {
     "name": "stdout",
     "output_type": "stream",
     "text": [
      "0.8928055041356302\n",
      "0.8928055041356303\n",
      "0.8928055247448952\n",
      "0.8928055522239152\n",
      "0.8928055247448953\n",
      "0.8928055384844052\n",
      "0.8928055384844052\n",
      "0.8928055110053853\n",
      "0.8928055110053852\n",
      "0.8928055522239152\n",
      "0.8928055178751403\n",
      "0.8928054835263654\n",
      "0.8928054629171004\n",
      "0.8928055178751403\n",
      "0.8928055041356304\n",
      "0.8928055384844051\n",
      "0.8928054285683253\n",
      "0.8928054972658754\n",
      "0.8928054285683253\n",
      "0.8928054079590604\n",
      "0.8928053667405305\n",
      "0.8928053942195504\n",
      "0.8928054079590606\n",
      "0.8928054216985706\n",
      "0.8928054285683256\n",
      "0.8928053255220005\n",
      "0.8928053255220005\n",
      "0.8928052911732255\n",
      "0.8928052636942055\n",
      "0.8928052843034705\n",
      "0.8928053392615105\n",
      "0.8928053255220005\n",
      "0.8928054285683253\n",
      "0.8928053530010205\n",
      "0.8928054216985704\n",
      "0.8928054560473453\n",
      "0.8928054903961203\n",
      "0.8928054560473453\n",
      "0.8928054903961204\n",
      "0.8928052636942055\n",
      "0.8928052843034706\n",
      "0.8928051125595959\n",
      "0.8928051400386159\n",
      "0.8928052430849407\n",
      "0.8928051743873908\n",
      "0.8928050919503309\n",
      "0.892805050731801\n",
      "0.8928049202064561\n",
      "0.8928048789879263\n",
      "0.8928045767187068\n"
     ]
    }
   ],
   "source": [
    "auc_rocs=[]\n",
    "for v in variances:\n",
    "    clf = GaussianNB(var_smoothing=v)\n",
    "    clf.fit(X_train.values, y_train.values)\n",
    "    predicted_proba = clf.predict_proba(X_valid)\n",
    "    sc = roc_auc_score(y_valid, predicted_proba[:,1])\n",
    "    auc_rocs.append(sc)\n",
    "    print(sc)"
   ]
  },
  {
   "cell_type": "code",
   "execution_count": 171,
   "metadata": {},
   "outputs": [
    {
     "data": {
      "text/plain": [
       "[<matplotlib.lines.Line2D at 0x7f322b44e588>]"
      ]
     },
     "execution_count": 171,
     "metadata": {},
     "output_type": "execute_result"
    },
    {
     "data": {
      "image/png": "[encoded data removed]",
      "text/plain": [
       "<Figure size 432x288 with 1 Axes>"
      ]
     },
     "metadata": {},
     "output_type": "display_data"
    }
   ],
   "source": [
    "plt.plot(variances, auc_rocs)"
   ]
  },
  {
   "cell_type": "code",
   "execution_count": 175,
   "metadata": {},
   "outputs": [],
   "source": [
    "means = df_train.mean()\n",
    "stds = df_train.std()"
   ]
  },
  {
   "cell_type": "code",
   "execution_count": 176,
   "metadata": {},
   "outputs": [],
   "source": [
    "X_train_norm = (X_train-means)/stds\n",
    "X_valid_norm = (X_valid-means)/stds"
   ]
  },
  {
   "cell_type": "code",
   "execution_count": 179,
   "metadata": {},
   "outputs": [],
   "source": [
    "variances = np.logspace(-11, -1)"
   ]
  },
  {
   "cell_type": "code",
   "execution_count": 180,
   "metadata": {},
   "outputs": [
    {
     "name": "stdout",
     "output_type": "stream",
     "text": [
      "0.8928055590936703\n",
      "0.8928055590936703\n",
      "0.8928055590936703\n",
      "0.8928055590936703\n",
      "0.8928055590936703\n",
      "0.8928055590936703\n",
      "0.8928055590936703\n",
      "0.8928055590936703\n",
      "0.8928055590936703\n",
      "0.8928055590936703\n",
      "0.8928055590936703\n",
      "0.8928055590936703\n",
      "0.8928055590936703\n",
      "0.8928055590936703\n",
      "0.8928055590936703\n",
      "0.8928055590936703\n",
      "0.8928055590936703\n",
      "0.8928055590936703\n",
      "0.8928055590936703\n",
      "0.8928055590936703\n",
      "0.8928055453541601\n",
      "0.8928055316146501\n",
      "0.8928055316146501\n",
      "0.8928055384844052\n",
      "0.8928055384844052\n",
      "0.8928055659634252\n",
      "0.8928055590936701\n",
      "0.8928055659634251\n",
      "0.8928056003122001\n",
      "0.8928056346609751\n",
      "0.892805662139995\n",
      "0.8928056140517102\n",
      "0.8928055659634251\n",
      "0.8928054903961203\n",
      "0.8928052087361658\n",
      "0.8928047965508664\n",
      "0.8928042401007124\n",
      "0.8928035256461934\n",
      "0.8928026463175549\n",
      "0.8928002144242886\n",
      "0.8927977413124923\n",
      "0.89279295996302\n",
      "0.8927861245568055\n",
      "0.8927747345030332\n",
      "0.892756220513337\n",
      "0.8927240975390072\n",
      "0.8926769298012505\n",
      "0.8925950698007982\n",
      "0.8924557374301054\n",
      "0.8922225848155236\n"
     ]
    }
   ],
   "source": [
    "auc_rocs=[]\n",
    "for v in variances:\n",
    "    clf = GaussianNB(var_smoothing=v)\n",
    "    clf.fit(X_train_norm, y_train)\n",
    "    predicted_proba = clf.predict_proba(X_valid_norm)\n",
    "    sc = roc_auc_score(y_valid, predicted_proba[:,1])\n",
    "    auc_rocs.append(sc)\n",
    "    print(sc)"
   ]
  },
  {
   "cell_type": "code",
   "execution_count": 181,
   "metadata": {},
   "outputs": [
    {
     "data": {
      "text/plain": [
       "[<matplotlib.lines.Line2D at 0x7f322b57c588>]"
      ]
     },
     "execution_count": 181,
     "metadata": {},
     "output_type": "execute_result"
    },
    {
     "data": {
      "image/png": "[encoded data removed]",
      "text/plain": [
       "<Figure size 432x288 with 1 Axes>"
      ]
     },
     "metadata": {},
     "output_type": "display_data"
    }
   ],
   "source": [
    "plt.plot(variances, auc_rocs)"
   ]
  },
  {
   "cell_type": "markdown",
   "metadata": {},
   "source": [
    "# Modelo entrenado con toda la data"
   ]
  },
  {
   "cell_type": "code",
   "execution_count": 154,
   "metadata": {},
   "outputs": [],
   "source": [
    "df = pd.read_csv('train.csv')"
   ]
  },
  {
   "cell_type": "code",
   "execution_count": 155,
   "metadata": {},
   "outputs": [],
   "source": [
    "X_train = df.drop(columns=['ID_code', 'target'])\n",
    "y_train = df['target']"
   ]
  },
  {
   "cell_type": "code",
   "execution_count": 156,
   "metadata": {},
   "outputs": [
    {
     "data": {
      "text/plain": [
       "(200000, 200)"
      ]
     },
     "execution_count": 156,
     "metadata": {},
     "output_type": "execute_result"
    }
   ],
   "source": [
    "X_train.shape"
   ]
  },
  {
   "cell_type": "code",
   "execution_count": 157,
   "metadata": {},
   "outputs": [
    {
     "name": "stdout",
     "output_type": "stream",
     "text": [
      "CPU times: user 3.28 s, sys: 1 s, total: 4.28 s\n",
      "Wall time: 5.4 s\n"
     ]
    },
    {
     "data": {
      "text/plain": [
       "GaussianNB(priors=None, var_smoothing=1e-09)"
      ]
     },
     "execution_count": 157,
     "metadata": {},
     "output_type": "execute_result"
    }
   ],
   "source": [
    "clf = GaussianNB()\n",
    "%time clf.fit(X_train.values, y_train.values)"
   ]
  },
  {
   "cell_type": "code",
   "execution_count": 158,
   "metadata": {},
   "outputs": [],
   "source": [
    "pickle.dump(clf, open('naive_bayes_all_data.pk', 'wb'))"
   ]
  },
  {
   "cell_type": "code",
   "execution_count": 21,
   "metadata": {},
   "outputs": [],
   "source": [
    "X_test = pd.read_csv('test.csv').set_index('ID_code')"
   ]
  },
  {
   "cell_type": "code",
   "execution_count": 20,
   "metadata": {},
   "outputs": [],
   "source": [
    "predicted_proba_test = clf.predict_proba(X_test)"
   ]
  },
  {
   "cell_type": "code",
   "execution_count": 30,
   "metadata": {},
   "outputs": [
    {
     "data": {
      "image/png": "[encoded data removed]",
      "text/plain": [
       "<Figure size 432x288 with 1 Axes>"
      ]
     },
     "metadata": {},
     "output_type": "display_data"
    }
   ],
   "source": [
    "predicted_test = predicted_proba_test[:,1]\n",
    "log_odds = np.log(predicted_test/(1-predicted_test))\n",
    "_ = plt.hist(log_odds, 50)"
   ]
  },
  {
   "cell_type": "code",
   "execution_count": 31,
   "metadata": {},
   "outputs": [],
   "source": [
    "df_test['target'] = predicted_test"
   ]
  },
  {
   "cell_type": "code",
   "execution_count": 32,
   "metadata": {},
   "outputs": [],
   "source": [
    "filename = 'submission_naive_bayes_{}.csv'.format(int(time.time()))\n",
    "message = 'naive bayes third submission'\n",
    "df_test[['target']].to_csv(filename)"
   ]
  },
  {
   "cell_type": "code",
   "execution_count": 33,
   "metadata": {},
   "outputs": [
    {
     "name": "stdout",
     "output_type": "stream",
     "text": [
      "100%|███████████████████████████████████████| 6.07M/6.07M [00:22<00:00, 278kB/s]\n",
      "Successfully submitted to Santander Customer Transaction Prediction"
     ]
    }
   ],
   "source": [
    "! kaggle competitions submit -c santander-customer-transaction-prediction -f {filename} -m '{message}'"
   ]
  },
  {
   "cell_type": "code",
   "execution_count": 35,
   "metadata": {},
   "outputs": [
    {
     "data": {
      "text/plain": [
       "'submission_naive_bayes_1553708250.csv'"
      ]
     },
     "execution_count": 35,
     "metadata": {},
     "output_type": "execute_result"
    }
   ],
   "source": [
    "filename"
   ]
  },
  {
   "cell_type": "code",
   "execution_count": null,
   "metadata": {},
   "outputs": [],
   "source": []
  }
 ],
 "metadata": {
  "kernelspec": {
   "display_name": "Python 3",
   "language": "python",
   "name": "python3"
  },
  "language_info": {
   "codemirror_mode": {
    "name": "ipython",
    "version": 3
   },
   "file_extension": ".py",
   "mimetype": "text/x-python",
   "name": "python",
   "nbconvert_exporter": "python",
   "pygments_lexer": "ipython3",
   "version": "3.6.8"
  }
 },
 "nbformat": 4,
 "nbformat_minor": 2
}
