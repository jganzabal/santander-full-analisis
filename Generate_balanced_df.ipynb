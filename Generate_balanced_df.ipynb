{
 "cells": [
  {
   "cell_type": "code",
   "execution_count": 1,
   "metadata": {},
   "outputs": [],
   "source": [
    "%load_ext autoreload\n",
    "%autoreload 2\n",
    "%config InlineBackend.figure_format='retina'\n",
    "%matplotlib inline"
   ]
  },
  {
   "cell_type": "code",
   "execution_count": 2,
   "metadata": {},
   "outputs": [],
   "source": [
    "import pandas as pd\n",
    "import numpy as np\n",
    "from sklearn.utils import shuffle\n",
    "from matplotlib import pyplot as plt\n",
    "from pathlib import Path"
   ]
  },
  {
   "cell_type": "code",
   "execution_count": 3,
   "metadata": {},
   "outputs": [],
   "source": [
    "datapath = Path('data')"
   ]
  },
  {
   "cell_type": "markdown",
   "metadata": {},
   "source": [
    "# Genera a partir del dataset completo para el train final"
   ]
  },
  {
   "cell_type": "code",
   "execution_count": 4,
   "metadata": {},
   "outputs": [
    {
     "data": {
      "text/html": [
       "<div>\n",
       "<style scoped>\n",
       "    .dataframe tbody tr th:only-of-type {\n",
       "        vertical-align: middle;\n",
       "    }\n",
       "\n",
       "    .dataframe tbody tr th {\n",
       "        vertical-align: top;\n",
       "    }\n",
       "\n",
       "    .dataframe thead th {\n",
       "        text-align: right;\n",
       "    }\n",
       "</style>\n",
       "<table border=\"1\" class=\"dataframe\">\n",
       "  <thead>\n",
       "    <tr style=\"text-align: right;\">\n",
       "      <th></th>\n",
       "      <th>ID_code</th>\n",
       "      <th>target</th>\n",
       "      <th>var_0</th>\n",
       "      <th>var_1</th>\n",
       "      <th>var_2</th>\n",
       "      <th>var_3</th>\n",
       "      <th>var_4</th>\n",
       "      <th>var_5</th>\n",
       "      <th>var_6</th>\n",
       "      <th>var_7</th>\n",
       "      <th>...</th>\n",
       "      <th>var_190</th>\n",
       "      <th>var_191</th>\n",
       "      <th>var_192</th>\n",
       "      <th>var_193</th>\n",
       "      <th>var_194</th>\n",
       "      <th>var_195</th>\n",
       "      <th>var_196</th>\n",
       "      <th>var_197</th>\n",
       "      <th>var_198</th>\n",
       "      <th>var_199</th>\n",
       "    </tr>\n",
       "  </thead>\n",
       "  <tbody>\n",
       "    <tr>\n",
       "      <th>0</th>\n",
       "      <td>train_0</td>\n",
       "      <td>0</td>\n",
       "      <td>8.9255</td>\n",
       "      <td>-6.7863</td>\n",
       "      <td>11.9081</td>\n",
       "      <td>5.0930</td>\n",
       "      <td>11.4607</td>\n",
       "      <td>-9.2834</td>\n",
       "      <td>5.1187</td>\n",
       "      <td>18.6266</td>\n",
       "      <td>...</td>\n",
       "      <td>4.4354</td>\n",
       "      <td>3.9642</td>\n",
       "      <td>3.1364</td>\n",
       "      <td>1.6910</td>\n",
       "      <td>18.5227</td>\n",
       "      <td>-2.3978</td>\n",
       "      <td>7.8784</td>\n",
       "      <td>8.5635</td>\n",
       "      <td>12.7803</td>\n",
       "      <td>-1.0914</td>\n",
       "    </tr>\n",
       "    <tr>\n",
       "      <th>1</th>\n",
       "      <td>train_1</td>\n",
       "      <td>0</td>\n",
       "      <td>11.5006</td>\n",
       "      <td>-4.1473</td>\n",
       "      <td>13.8588</td>\n",
       "      <td>5.3890</td>\n",
       "      <td>12.3622</td>\n",
       "      <td>7.0433</td>\n",
       "      <td>5.6208</td>\n",
       "      <td>16.5338</td>\n",
       "      <td>...</td>\n",
       "      <td>7.6421</td>\n",
       "      <td>7.7214</td>\n",
       "      <td>2.5837</td>\n",
       "      <td>10.9516</td>\n",
       "      <td>15.4305</td>\n",
       "      <td>2.0339</td>\n",
       "      <td>8.1267</td>\n",
       "      <td>8.7889</td>\n",
       "      <td>18.3560</td>\n",
       "      <td>1.9518</td>\n",
       "    </tr>\n",
       "    <tr>\n",
       "      <th>2</th>\n",
       "      <td>train_2</td>\n",
       "      <td>0</td>\n",
       "      <td>8.6093</td>\n",
       "      <td>-2.7457</td>\n",
       "      <td>12.0805</td>\n",
       "      <td>7.8928</td>\n",
       "      <td>10.5825</td>\n",
       "      <td>-9.0837</td>\n",
       "      <td>6.9427</td>\n",
       "      <td>14.6155</td>\n",
       "      <td>...</td>\n",
       "      <td>2.9057</td>\n",
       "      <td>9.7905</td>\n",
       "      <td>1.6704</td>\n",
       "      <td>1.6858</td>\n",
       "      <td>21.6042</td>\n",
       "      <td>3.1417</td>\n",
       "      <td>-6.5213</td>\n",
       "      <td>8.2675</td>\n",
       "      <td>14.7222</td>\n",
       "      <td>0.3965</td>\n",
       "    </tr>\n",
       "    <tr>\n",
       "      <th>3</th>\n",
       "      <td>train_3</td>\n",
       "      <td>0</td>\n",
       "      <td>11.0604</td>\n",
       "      <td>-2.1518</td>\n",
       "      <td>8.9522</td>\n",
       "      <td>7.1957</td>\n",
       "      <td>12.5846</td>\n",
       "      <td>-1.8361</td>\n",
       "      <td>5.8428</td>\n",
       "      <td>14.9250</td>\n",
       "      <td>...</td>\n",
       "      <td>4.4666</td>\n",
       "      <td>4.7433</td>\n",
       "      <td>0.7178</td>\n",
       "      <td>1.4214</td>\n",
       "      <td>23.0347</td>\n",
       "      <td>-1.2706</td>\n",
       "      <td>-2.9275</td>\n",
       "      <td>10.2922</td>\n",
       "      <td>17.9697</td>\n",
       "      <td>-8.9996</td>\n",
       "    </tr>\n",
       "    <tr>\n",
       "      <th>4</th>\n",
       "      <td>train_4</td>\n",
       "      <td>0</td>\n",
       "      <td>9.8369</td>\n",
       "      <td>-1.4834</td>\n",
       "      <td>12.8746</td>\n",
       "      <td>6.6375</td>\n",
       "      <td>12.2772</td>\n",
       "      <td>2.4486</td>\n",
       "      <td>5.9405</td>\n",
       "      <td>19.2514</td>\n",
       "      <td>...</td>\n",
       "      <td>-1.4905</td>\n",
       "      <td>9.5214</td>\n",
       "      <td>-0.1508</td>\n",
       "      <td>9.1942</td>\n",
       "      <td>13.2876</td>\n",
       "      <td>-1.5121</td>\n",
       "      <td>3.9267</td>\n",
       "      <td>9.5031</td>\n",
       "      <td>17.9974</td>\n",
       "      <td>-8.8104</td>\n",
       "    </tr>\n",
       "  </tbody>\n",
       "</table>\n",
       "<p>5 rows × 202 columns</p>\n",
       "</div>"
      ],
      "text/plain": [
       "   ID_code  target    var_0   var_1    var_2   var_3    var_4   var_5   var_6  \\\n",
       "0  train_0       0   8.9255 -6.7863  11.9081  5.0930  11.4607 -9.2834  5.1187   \n",
       "1  train_1       0  11.5006 -4.1473  13.8588  5.3890  12.3622  7.0433  5.6208   \n",
       "2  train_2       0   8.6093 -2.7457  12.0805  7.8928  10.5825 -9.0837  6.9427   \n",
       "3  train_3       0  11.0604 -2.1518   8.9522  7.1957  12.5846 -1.8361  5.8428   \n",
       "4  train_4       0   9.8369 -1.4834  12.8746  6.6375  12.2772  2.4486  5.9405   \n",
       "\n",
       "     var_7   ...     var_190  var_191  var_192  var_193  var_194  var_195  \\\n",
       "0  18.6266   ...      4.4354   3.9642   3.1364   1.6910  18.5227  -2.3978   \n",
       "1  16.5338   ...      7.6421   7.7214   2.5837  10.9516  15.4305   2.0339   \n",
       "2  14.6155   ...      2.9057   9.7905   1.6704   1.6858  21.6042   3.1417   \n",
       "3  14.9250   ...      4.4666   4.7433   0.7178   1.4214  23.0347  -1.2706   \n",
       "4  19.2514   ...     -1.4905   9.5214  -0.1508   9.1942  13.2876  -1.5121   \n",
       "\n",
       "   var_196  var_197  var_198  var_199  \n",
       "0   7.8784   8.5635  12.7803  -1.0914  \n",
       "1   8.1267   8.7889  18.3560   1.9518  \n",
       "2  -6.5213   8.2675  14.7222   0.3965  \n",
       "3  -2.9275  10.2922  17.9697  -8.9996  \n",
       "4   3.9267   9.5031  17.9974  -8.8104  \n",
       "\n",
       "[5 rows x 202 columns]"
      ]
     },
     "execution_count": 4,
     "metadata": {},
     "output_type": "execute_result"
    }
   ],
   "source": [
    "df = pd.read_csv(datapath / 'train.csv')\n",
    "df.head()"
   ]
  },
  {
   "cell_type": "code",
   "execution_count": 5,
   "metadata": {},
   "outputs": [
    {
     "data": {
      "text/plain": [
       "(179902, 202)"
      ]
     },
     "execution_count": 5,
     "metadata": {},
     "output_type": "execute_result"
    }
   ],
   "source": [
    "df_label_0 = df[df['target'] == 0]\n",
    "df_label_0.shape"
   ]
  },
  {
   "cell_type": "code",
   "execution_count": 6,
   "metadata": {},
   "outputs": [
    {
     "data": {
      "text/plain": [
       "(20098, 202)"
      ]
     },
     "execution_count": 6,
     "metadata": {},
     "output_type": "execute_result"
    }
   ],
   "source": [
    "df_label_1 = df[df['target'] == 1]\n",
    "df_label_1.shape"
   ]
  },
  {
   "cell_type": "code",
   "execution_count": 9,
   "metadata": {},
   "outputs": [
    {
     "name": "stdout",
     "output_type": "stream",
     "text": [
      "0 19990\n",
      "19990 39980\n",
      "39980 59970\n",
      "59970 79960\n",
      "79960 99950\n",
      "99950 119940\n",
      "119940 139930\n",
      "139930 159920\n",
      "159920 179910\n"
     ]
    }
   ],
   "source": [
    "working_df = []\n",
    "num_rows = 19_990\n",
    "start_idx = 0\n",
    "while start_idx < df_label_0.shape[0]:\n",
    "    print(start_idx, start_idx+num_rows)\n",
    "    working_df.append(shuffle(pd.concat([df_label_0[start_idx : start_idx+num_rows], df_label_1])))\n",
    "    i = len(working_df) - 1\n",
    "    working_df[i].to_csv(datapath / f'working_test_df_{i}.csv', index=False)\n",
    "    start_idx += num_rows"
   ]
  },
  {
   "cell_type": "markdown",
   "metadata": {},
   "source": [
    "# Genera datasets a partir del train_data"
   ]
  },
  {
   "cell_type": "code",
   "execution_count": 11,
   "metadata": {},
   "outputs": [
    {
     "data": {
      "text/html": [
       "<div>\n",
       "<style scoped>\n",
       "    .dataframe tbody tr th:only-of-type {\n",
       "        vertical-align: middle;\n",
       "    }\n",
       "\n",
       "    .dataframe tbody tr th {\n",
       "        vertical-align: top;\n",
       "    }\n",
       "\n",
       "    .dataframe thead th {\n",
       "        text-align: right;\n",
       "    }\n",
       "</style>\n",
       "<table border=\"1\" class=\"dataframe\">\n",
       "  <thead>\n",
       "    <tr style=\"text-align: right;\">\n",
       "      <th></th>\n",
       "      <th>ID_code</th>\n",
       "      <th>target</th>\n",
       "      <th>var_0</th>\n",
       "      <th>var_1</th>\n",
       "      <th>var_2</th>\n",
       "      <th>var_3</th>\n",
       "      <th>var_4</th>\n",
       "      <th>var_5</th>\n",
       "      <th>var_6</th>\n",
       "      <th>var_7</th>\n",
       "      <th>...</th>\n",
       "      <th>var_190</th>\n",
       "      <th>var_191</th>\n",
       "      <th>var_192</th>\n",
       "      <th>var_193</th>\n",
       "      <th>var_194</th>\n",
       "      <th>var_195</th>\n",
       "      <th>var_196</th>\n",
       "      <th>var_197</th>\n",
       "      <th>var_198</th>\n",
       "      <th>var_199</th>\n",
       "    </tr>\n",
       "  </thead>\n",
       "  <tbody>\n",
       "    <tr>\n",
       "      <th>119737</th>\n",
       "      <td>train_119737</td>\n",
       "      <td>0</td>\n",
       "      <td>11.0038</td>\n",
       "      <td>-4.5026</td>\n",
       "      <td>9.0662</td>\n",
       "      <td>6.4313</td>\n",
       "      <td>10.7061</td>\n",
       "      <td>-15.2857</td>\n",
       "      <td>5.1233</td>\n",
       "      <td>16.7875</td>\n",
       "      <td>...</td>\n",
       "      <td>-0.8200</td>\n",
       "      <td>3.3085</td>\n",
       "      <td>3.1358</td>\n",
       "      <td>5.0959</td>\n",
       "      <td>19.7160</td>\n",
       "      <td>-0.1801</td>\n",
       "      <td>5.8437</td>\n",
       "      <td>8.8348</td>\n",
       "      <td>17.0461</td>\n",
       "      <td>8.8190</td>\n",
       "    </tr>\n",
       "    <tr>\n",
       "      <th>72272</th>\n",
       "      <td>train_72272</td>\n",
       "      <td>0</td>\n",
       "      <td>12.8473</td>\n",
       "      <td>-6.1848</td>\n",
       "      <td>6.8799</td>\n",
       "      <td>2.0164</td>\n",
       "      <td>12.7998</td>\n",
       "      <td>10.2781</td>\n",
       "      <td>4.4191</td>\n",
       "      <td>15.6940</td>\n",
       "      <td>...</td>\n",
       "      <td>1.1516</td>\n",
       "      <td>3.9019</td>\n",
       "      <td>4.6616</td>\n",
       "      <td>7.6035</td>\n",
       "      <td>12.6402</td>\n",
       "      <td>-0.3037</td>\n",
       "      <td>-4.2330</td>\n",
       "      <td>9.7456</td>\n",
       "      <td>14.8337</td>\n",
       "      <td>-3.7167</td>\n",
       "    </tr>\n",
       "    <tr>\n",
       "      <th>158154</th>\n",
       "      <td>train_158154</td>\n",
       "      <td>0</td>\n",
       "      <td>13.1827</td>\n",
       "      <td>-0.8344</td>\n",
       "      <td>13.4689</td>\n",
       "      <td>3.9060</td>\n",
       "      <td>13.5984</td>\n",
       "      <td>4.6475</td>\n",
       "      <td>5.9659</td>\n",
       "      <td>24.0557</td>\n",
       "      <td>...</td>\n",
       "      <td>2.8737</td>\n",
       "      <td>5.8939</td>\n",
       "      <td>0.8525</td>\n",
       "      <td>8.7406</td>\n",
       "      <td>16.6641</td>\n",
       "      <td>0.8745</td>\n",
       "      <td>7.0406</td>\n",
       "      <td>8.6424</td>\n",
       "      <td>20.7107</td>\n",
       "      <td>-5.4186</td>\n",
       "    </tr>\n",
       "    <tr>\n",
       "      <th>65426</th>\n",
       "      <td>train_65426</td>\n",
       "      <td>0</td>\n",
       "      <td>8.2132</td>\n",
       "      <td>1.2309</td>\n",
       "      <td>11.1464</td>\n",
       "      <td>9.4524</td>\n",
       "      <td>10.2142</td>\n",
       "      <td>4.0416</td>\n",
       "      <td>5.3989</td>\n",
       "      <td>20.4527</td>\n",
       "      <td>...</td>\n",
       "      <td>6.4752</td>\n",
       "      <td>5.7442</td>\n",
       "      <td>2.1907</td>\n",
       "      <td>6.0651</td>\n",
       "      <td>10.9444</td>\n",
       "      <td>-2.0666</td>\n",
       "      <td>-7.9209</td>\n",
       "      <td>9.0522</td>\n",
       "      <td>17.1735</td>\n",
       "      <td>12.4656</td>\n",
       "    </tr>\n",
       "    <tr>\n",
       "      <th>30074</th>\n",
       "      <td>train_30074</td>\n",
       "      <td>1</td>\n",
       "      <td>5.5681</td>\n",
       "      <td>4.6355</td>\n",
       "      <td>15.2350</td>\n",
       "      <td>3.0718</td>\n",
       "      <td>11.8178</td>\n",
       "      <td>-15.0502</td>\n",
       "      <td>3.8357</td>\n",
       "      <td>12.0169</td>\n",
       "      <td>...</td>\n",
       "      <td>4.1796</td>\n",
       "      <td>5.6113</td>\n",
       "      <td>-0.1561</td>\n",
       "      <td>3.1010</td>\n",
       "      <td>17.4297</td>\n",
       "      <td>-1.0121</td>\n",
       "      <td>-6.5168</td>\n",
       "      <td>7.9772</td>\n",
       "      <td>18.5248</td>\n",
       "      <td>11.2771</td>\n",
       "    </tr>\n",
       "  </tbody>\n",
       "</table>\n",
       "<p>5 rows × 202 columns</p>\n",
       "</div>"
      ],
      "text/plain": [
       "             ID_code  target    var_0   var_1    var_2   var_3    var_4  \\\n",
       "119737  train_119737       0  11.0038 -4.5026   9.0662  6.4313  10.7061   \n",
       "72272    train_72272       0  12.8473 -6.1848   6.8799  2.0164  12.7998   \n",
       "158154  train_158154       0  13.1827 -0.8344  13.4689  3.9060  13.5984   \n",
       "65426    train_65426       0   8.2132  1.2309  11.1464  9.4524  10.2142   \n",
       "30074    train_30074       1   5.5681  4.6355  15.2350  3.0718  11.8178   \n",
       "\n",
       "          var_5   var_6    var_7   ...     var_190  var_191  var_192  var_193  \\\n",
       "119737 -15.2857  5.1233  16.7875   ...     -0.8200   3.3085   3.1358   5.0959   \n",
       "72272   10.2781  4.4191  15.6940   ...      1.1516   3.9019   4.6616   7.6035   \n",
       "158154   4.6475  5.9659  24.0557   ...      2.8737   5.8939   0.8525   8.7406   \n",
       "65426    4.0416  5.3989  20.4527   ...      6.4752   5.7442   2.1907   6.0651   \n",
       "30074  -15.0502  3.8357  12.0169   ...      4.1796   5.6113  -0.1561   3.1010   \n",
       "\n",
       "        var_194  var_195  var_196  var_197  var_198  var_199  \n",
       "119737  19.7160  -0.1801   5.8437   8.8348  17.0461   8.8190  \n",
       "72272   12.6402  -0.3037  -4.2330   9.7456  14.8337  -3.7167  \n",
       "158154  16.6641   0.8745   7.0406   8.6424  20.7107  -5.4186  \n",
       "65426   10.9444  -2.0666  -7.9209   9.0522  17.1735  12.4656  \n",
       "30074   17.4297  -1.0121  -6.5168   7.9772  18.5248  11.2771  \n",
       "\n",
       "[5 rows x 202 columns]"
      ]
     },
     "execution_count": 11,
     "metadata": {},
     "output_type": "execute_result"
    }
   ],
   "source": [
    "df = pd.read_csv(datapath / 'train_splitted.csv')\n",
    "df.head()"
   ]
  },
  {
   "cell_type": "code",
   "execution_count": 14,
   "metadata": {},
   "outputs": [
    {
     "data": {
      "text/plain": [
       "(143954, 202)"
      ]
     },
     "execution_count": 14,
     "metadata": {},
     "output_type": "execute_result"
    }
   ],
   "source": [
    "df_label_0 = df[df['target'] == 0]\n",
    "df_label_0.shape"
   ]
  },
  {
   "cell_type": "code",
   "execution_count": 15,
   "metadata": {},
   "outputs": [
    {
     "data": {
      "text/plain": [
       "(16046, 202)"
      ]
     },
     "execution_count": 15,
     "metadata": {},
     "output_type": "execute_result"
    }
   ],
   "source": [
    "df_label_1 = df[df['target'] == 1]\n",
    "df_label_1.shape"
   ]
  },
  {
   "cell_type": "code",
   "execution_count": 21,
   "metadata": {},
   "outputs": [
    {
     "name": "stdout",
     "output_type": "stream",
     "text": [
      "0 18000\n",
      "18000 36000\n",
      "36000 54000\n",
      "54000 72000\n",
      "72000 90000\n",
      "90000 108000\n",
      "108000 126000\n",
      "126000 144000\n"
     ]
    }
   ],
   "source": [
    "working_df = []\n",
    "num_rows = 18_000\n",
    "start_idx = 0\n",
    "while start_idx < df_label_0.shape[0]:\n",
    "    print(start_idx, start_idx+num_rows)\n",
    "    working_df.append(shuffle(pd.concat([df_label_0[start_idx : start_idx+num_rows], df_label_1])))\n",
    "    i = len(working_df) - 1\n",
    "    working_df[i].to_csv(datapath / f'working_train_df_{i}.csv', index=False)\n",
    "    start_idx += num_rows"
   ]
  },
  {
   "cell_type": "code",
   "execution_count": null,
   "metadata": {},
   "outputs": [],
   "source": []
  }
 ],
 "metadata": {
  "kernelspec": {
   "display_name": "Python 3",
   "language": "python",
   "name": "python3"
  },
  "language_info": {
   "codemirror_mode": {
    "name": "ipython",
    "version": 3
   },
   "file_extension": ".py",
   "mimetype": "text/x-python",
   "name": "python",
   "nbconvert_exporter": "python",
   "pygments_lexer": "ipython3",
   "version": "3.6.8"
  }
 },
 "nbformat": 4,
 "nbformat_minor": 2
}
